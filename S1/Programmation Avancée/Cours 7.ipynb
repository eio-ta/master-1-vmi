{
 "cells": [
  {
   "cell_type": "markdown",
   "metadata": {
    "pycharm": {
     "name": "#%%\n"
    },
    "slideshow": {
     "slide_type": "slide"
    }
   },
   "source": [
    "![logo.jpg](data:image/jpeg;base64,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)\n",
    "# Intro to Python - Class 4\n",
    "## Sylvain Lobry, 14/11/2022"
   ]
  },
  {
   "cell_type": "markdown",
   "metadata": {
    "slideshow": {
     "slide_type": "slide"
    }
   },
   "source": [
    "In today's class, we will see Object oriented programming with Python\n"
   ]
  },
  {
   "cell_type": "markdown",
   "metadata": {
    "slideshow": {
     "slide_type": "slide"
    }
   },
   "source": [
    "## 1 Object oriented programming with Python - Simple objects"
   ]
  },
  {
   "cell_type": "markdown",
   "metadata": {
    "slideshow": {
     "slide_type": "slide"
    }
   },
   "source": [
    "### 1.0 Definitions\n",
    "Before starting, some simple definitions:\n",
    "\n",
    "*  **Objects** are instances of **Classes**\n",
    "* Classes can have **Attributes** (i.e. variables associated to the object) and **Methods** (i.e. functions associated to the object).\n"
   ]
  },
  {
   "cell_type": "markdown",
   "metadata": {
    "slideshow": {
     "slide_type": "slide"
    }
   },
   "source": [
    "### 1.1 \"In Python, everything is an object\"\n",
    "You might have heard it already (including in this course): in Python, everything is treated as an object. In that sense, it can be seen as a Pure Object Oriented Programming language (even though it supports other paradigms). So for instance, we can do:"
   ]
  },
  {
   "cell_type": "code",
   "execution_count": 1,
   "metadata": {
    "slideshow": {
     "slide_type": "subslide"
    }
   },
   "outputs": [
    {
     "data": {
      "text/plain": [
       "int"
      ]
     },
     "execution_count": 1,
     "metadata": {},
     "output_type": "execute_result"
    }
   ],
   "source": [
    "a = 5\n",
    "type(a)"
   ]
  },
  {
   "cell_type": "code",
   "execution_count": 2,
   "metadata": {
    "slideshow": {
     "slide_type": "subslide"
    }
   },
   "outputs": [
    {
     "name": "stdout",
     "output_type": "stream",
     "text": [
      "int([x]) -> integer\n",
      "int(x, base=10) -> integer\n",
      "\n",
      "Convert a number or string to an integer, or return 0 if no arguments\n",
      "are given.  If x is a number, return x.__int__().  For floating point\n",
      "numbers, this truncates towards zero.\n",
      "\n",
      "If x is not a number or if base is given, then x must be a string,\n",
      "bytes, or bytearray instance representing an integer literal in the\n",
      "given base.  The literal can be preceded by '+' or '-' and be surrounded\n",
      "by whitespace.  The base defaults to 10.  Valid bases are 0 and 2-36.\n",
      "Base 0 means to interpret the base from the string as an integer literal.\n",
      ">>> int('0b100', base=0)\n",
      "4\n"
     ]
    }
   ],
   "source": [
    "print(a.__doc__) # Accessing an attribute of the class int"
   ]
  },
  {
   "cell_type": "markdown",
   "metadata": {
    "slideshow": {
     "slide_type": "slide"
    }
   },
   "source": [
    "Similarly, functions, modules or even classes are objects in Python. This also explains why you can assign them to a variable, as we have seen before:"
   ]
  },
  {
   "cell_type": "code",
   "execution_count": 3,
   "metadata": {
    "slideshow": {
     "slide_type": "subslide"
    }
   },
   "outputs": [
    {
     "name": "stdout",
     "output_type": "stream",
     "text": [
      "3.0\n",
      "0\n"
     ]
    }
   ],
   "source": [
    "import math\n",
    "var_to_module = math # can be assigned to variable\n",
    "\n",
    "print(var_to_module.sqrt(9))\n",
    "var_to_module.inf = 0 # objects are mutable\n",
    "print(var_to_module.inf)"
   ]
  },
  {
   "cell_type": "markdown",
   "metadata": {
    "slideshow": {
     "slide_type": "-"
    }
   },
   "source": [
    "As often with Python, this allows for interesting behavior (e.g. passing a function as a parameter is a powerful feature), but can be risky if misused."
   ]
  },
  {
   "cell_type": "markdown",
   "metadata": {
    "slideshow": {
     "slide_type": "slide"
    }
   },
   "source": [
    "Because everything is an object in Python, you already know how to use objects: you have seen how to access an attribute (e.g. `math.pi`) or how to call a method (e.g. `a_string.split()`).\n",
    "Today, we will look at how to **define** objects."
   ]
  },
  {
   "cell_type": "markdown",
   "metadata": {
    "slideshow": {
     "slide_type": "slide"
    }
   },
   "source": [
    "### 1.2 Defining classes"
   ]
  },
  {
   "cell_type": "markdown",
   "metadata": {
    "slideshow": {
     "slide_type": "slide"
    }
   },
   "source": [
    "#### 1.2.1 Minimal definition & attributes\n",
    "In python, a class is defined in a block by using the keyword `class` followed by the name of the class:"
   ]
  },
  {
   "cell_type": "code",
   "execution_count": null,
   "metadata": {
    "slideshow": {
     "slide_type": "-"
    }
   },
   "outputs": [],
   "source": [
    "class Image:\n",
    "    #Definition"
   ]
  },
  {
   "cell_type": "markdown",
   "metadata": {
    "slideshow": {
     "slide_type": "subslide"
    }
   },
   "source": [
    "Attributes can be added directly in the block:"
   ]
  },
  {
   "cell_type": "code",
   "execution_count": 7,
   "metadata": {
    "slideshow": {
     "slide_type": "-"
    }
   },
   "outputs": [],
   "source": [
    "class Image:\n",
    "    width = 1920\n",
    "    height = 1080"
   ]
  },
  {
   "cell_type": "markdown",
   "metadata": {
    "slideshow": {
     "slide_type": "subslide"
    }
   },
   "source": [
    "To instantiate an object from class Image, we just have to write:"
   ]
  },
  {
   "cell_type": "code",
   "execution_count": 8,
   "metadata": {
    "slideshow": {
     "slide_type": "-"
    }
   },
   "outputs": [],
   "source": [
    "img = Image()"
   ]
  },
  {
   "cell_type": "markdown",
   "metadata": {
    "slideshow": {
     "slide_type": "subslide"
    }
   },
   "source": [
    "We can now check the type of our object, and verify that it is an instance of the class Image:"
   ]
  },
  {
   "cell_type": "code",
   "execution_count": 9,
   "metadata": {
    "slideshow": {
     "slide_type": "-"
    }
   },
   "outputs": [
    {
     "name": "stdout",
     "output_type": "stream",
     "text": [
      "<class '__main__.Image'>\n",
      "True\n"
     ]
    }
   ],
   "source": [
    "print(type(img))\n",
    "print(isinstance(img, Image))"
   ]
  },
  {
   "cell_type": "markdown",
   "metadata": {
    "slideshow": {
     "slide_type": "subslide"
    }
   },
   "source": [
    "You can also list the methods and attributes of an object using the built-in dir. Let's check it for our img object:"
   ]
  },
  {
   "cell_type": "code",
   "execution_count": 10,
   "metadata": {
    "slideshow": {
     "slide_type": "subslide"
    }
   },
   "outputs": [
    {
     "data": {
      "text/plain": [
       "['__class__',\n",
       " '__delattr__',\n",
       " '__dict__',\n",
       " '__dir__',\n",
       " '__doc__',\n",
       " '__eq__',\n",
       " '__format__',\n",
       " '__ge__',\n",
       " '__getattribute__',\n",
       " '__gt__',\n",
       " '__hash__',\n",
       " '__init__',\n",
       " '__init_subclass__',\n",
       " '__le__',\n",
       " '__lt__',\n",
       " '__module__',\n",
       " '__ne__',\n",
       " '__new__',\n",
       " '__reduce__',\n",
       " '__reduce_ex__',\n",
       " '__repr__',\n",
       " '__setattr__',\n",
       " '__sizeof__',\n",
       " '__str__',\n",
       " '__subclasshook__',\n",
       " '__weakref__',\n",
       " 'height',\n",
       " 'width']"
      ]
     },
     "execution_count": 10,
     "metadata": {},
     "output_type": "execute_result"
    }
   ],
   "source": [
    "dir(img)"
   ]
  },
  {
   "cell_type": "markdown",
   "metadata": {
    "slideshow": {
     "slide_type": "subslide"
    }
   },
   "source": [
    "As you can see, a lot of methods and attributes already exist, besides the two that we just created. You can see that these elements begin with `__` (double underscore). This indicates that you *should* not use them directly."
   ]
  },
  {
   "cell_type": "markdown",
   "metadata": {
    "slideshow": {
     "slide_type": "subslide"
    }
   },
   "source": [
    "#### 1.2.2 class vs instance attributes\n",
    "As the name suggest, a class attribute is an attribute of a class while an instance attribute is an attribute of the instance. While this seems trivial, let's see how that works in practice."
   ]
  },
  {
   "cell_type": "markdown",
   "metadata": {
    "slideshow": {
     "slide_type": "subslide"
    }
   },
   "source": [
    "In practice, an instance attribute is an attribute that exists for your instance but not for other instances of the same class. Let's have a look at the following example:"
   ]
  },
  {
   "cell_type": "code",
   "execution_count": 11,
   "metadata": {
    "slideshow": {
     "slide_type": "-"
    }
   },
   "outputs": [
    {
     "name": "stdout",
     "output_type": "stream",
     "text": [
      "True\n",
      "False\n"
     ]
    }
   ],
   "source": [
    "img = Image()\n",
    "#Create an instance attribute:\n",
    "img.note = \"Empty image\"\n",
    "#Check that it is here:\n",
    "print(\"note\" in dir(img))\n",
    "\n",
    "#Create a second instance of the same class:\n",
    "img2 = Image()\n",
    "#Is the instance attribute defined?\n",
    "print(\"note\" in dir(img2))"
   ]
  },
  {
   "cell_type": "markdown",
   "metadata": {
    "slideshow": {
     "slide_type": "subslide"
    }
   },
   "source": [
    "A class attribute on the other hand exists for all instances **at creation time**. Let's see what happens when we attempt to modify a class attribute for a given instance:"
   ]
  },
  {
   "cell_type": "code",
   "execution_count": 41,
   "metadata": {
    "slideshow": {
     "slide_type": "-"
    }
   },
   "outputs": [
    {
     "name": "stdout",
     "output_type": "stream",
     "text": [
      "img1.width = 1000\n",
      "img2.width = 1920\n"
     ]
    }
   ],
   "source": [
    "class Image:\n",
    "    width = 1920 #This is a class attribute\n",
    "    height = 1080 #This is a class attribute\n",
    "    \n",
    "img1 = Image()\n",
    "img2 = Image()\n",
    "\n",
    "img1.width = 1000\n",
    "print(f\"img1.width = {img1.width}\")\n",
    "print(f\"img2.width = {img2.width}\")"
   ]
  },
  {
   "cell_type": "markdown",
   "metadata": {
    "slideshow": {
     "slide_type": "subslide"
    }
   },
   "source": [
    "As expected, this only modifies the value of the attribute for this instance. Now we can directly modify the class attribute by accessing it from the class rather than from the instance:"
   ]
  },
  {
   "cell_type": "code",
   "execution_count": 42,
   "metadata": {
    "slideshow": {
     "slide_type": "-"
    }
   },
   "outputs": [
    {
     "name": "stdout",
     "output_type": "stream",
     "text": [
      "img1.width = 1000\n",
      "img2.width = 2000\n"
     ]
    }
   ],
   "source": [
    "Image.width = 2000\n",
    "print(f\"img1.width = {img1.width}\")\n",
    "print(f\"img2.width = {img2.width}\")"
   ]
  },
  {
   "cell_type": "markdown",
   "metadata": {
    "slideshow": {
     "slide_type": "subslide"
    }
   },
   "source": [
    "In this case, it only changes the value for the class attribute that was not modified. Basically, you can see it as the following way:\n",
    "* When you define and initialize a class attribute, all of the instances of this class will have this attribute at the given value.\n",
    "* However, if you modify the class attribute for one instance, this will turn the class attribute to an instance attribute of the same name.\n",
    "\n",
    "As a sanity check, let's just verify that when we initialize new objects, they indeed contain the new value:"
   ]
  },
  {
   "cell_type": "code",
   "execution_count": 14,
   "metadata": {
    "slideshow": {
     "slide_type": "subslide"
    }
   },
   "outputs": [
    {
     "name": "stdout",
     "output_type": "stream",
     "text": [
      "img1.width = 2000\n",
      "img2.width = 2000\n"
     ]
    }
   ],
   "source": [
    "img1 = Image()\n",
    "img2 = Image()\n",
    "print(f\"img1.width = {img1.width}\")\n",
    "print(f\"img2.width = {img2.width}\")"
   ]
  },
  {
   "cell_type": "markdown",
   "metadata": {
    "slideshow": {
     "slide_type": "subslide"
    }
   },
   "source": [
    "Now let's see a catch: what if the class attribute is a mutable type (e.g. a list). Look at the following example:"
   ]
  },
  {
   "cell_type": "code",
   "execution_count": 15,
   "metadata": {
    "slideshow": {
     "slide_type": "-"
    }
   },
   "outputs": [],
   "source": [
    "class Image:\n",
    "    histogram = [0, 0, 0, 0]\n",
    "    \n",
    "img1 = Image()\n",
    "img2 = Image()"
   ]
  },
  {
   "cell_type": "markdown",
   "metadata": {
    "slideshow": {
     "slide_type": "subslide"
    }
   },
   "source": [
    "As we have seen, you can modify the class attribute, it will turn to an instance attribute, and everything is the best in the best of all possible worlds right?"
   ]
  },
  {
   "cell_type": "code",
   "execution_count": 16,
   "metadata": {
    "slideshow": {
     "slide_type": "-"
    }
   },
   "outputs": [
    {
     "name": "stdout",
     "output_type": "stream",
     "text": [
      "[100, 0, 0, 0]\n",
      "[100, 0, 0, 0]\n"
     ]
    }
   ],
   "source": [
    "img1.histogram[0] = 100\n",
    "print(img1.histogram)\n",
    "print(img2.histogram) #oops"
   ]
  },
  {
   "cell_type": "markdown",
   "metadata": {
    "slideshow": {
     "slide_type": "subslide"
    }
   },
   "source": [
    "There the same happens as when you assign such a type to a variable. You are basically manipulating a reference, which means that you `img1.histogram` and `img2.histogram` are the same objects. As a rule of thumb, be careful when modifying class attributes at the instance level (if you need to modify it at the instance level, you probably should use an instance attribute instead) and when manipulating shared mutable types.\n",
    "\n",
    "**Most of the attributes you need to use in Python are instance's attributes.**"
   ]
  },
  {
   "cell_type": "markdown",
   "metadata": {
    "slideshow": {
     "slide_type": "slide"
    }
   },
   "source": [
    "#### 1.2.3 Methods\n",
    "As we have seen, besides attributes a class generally contains methods. The definition of a method is close to the one of a function, for one difference: the presence of the parameters `self`"
   ]
  },
  {
   "cell_type": "code",
   "execution_count": 17,
   "metadata": {
    "slideshow": {
     "slide_type": "-"
    }
   },
   "outputs": [
    {
     "data": {
      "text/plain": [
       "False"
      ]
     },
     "execution_count": 17,
     "metadata": {},
     "output_type": "execute_result"
    }
   ],
   "source": [
    "class Image:\n",
    "    width = 1920\n",
    "    height = 1080\n",
    "    \n",
    "    def is_defined(self):\n",
    "        return False\n",
    "    \n",
    "img1 = Image()\n",
    "img1.is_defined()"
   ]
  },
  {
   "cell_type": "markdown",
   "metadata": {
    "slideshow": {
     "slide_type": "subslide"
    }
   },
   "source": [
    "In this method, the parameter `self` is a reference to the instance of the class on which the method is being called on. So in the previous example, `self` was a reference to `img1`. Therefore, it can be used to access the other attributes and methods of the instance:"
   ]
  },
  {
   "cell_type": "code",
   "execution_count": 18,
   "metadata": {
    "slideshow": {
     "slide_type": "-"
    }
   },
   "outputs": [
    {
     "name": "stdout",
     "output_type": "stream",
     "text": [
      "1000\n",
      "1920\n"
     ]
    }
   ],
   "source": [
    "class Image:\n",
    "    width = 1920\n",
    "    height = 1080\n",
    "    \n",
    "    def get_width(self):\n",
    "        return self.width\n",
    "    \n",
    "img1 = Image()\n",
    "img1.width = 1000\n",
    "print(img1.get_width())\n",
    "\n",
    "img2 = Image()\n",
    "print(img2.get_width())"
   ]
  },
  {
   "cell_type": "markdown",
   "metadata": {
    "slideshow": {
     "slide_type": "subslide"
    }
   },
   "source": [
    "As such, `self` must be the first parameter to a method. To better understand the syntax, note that we can re-write the previous example as:"
   ]
  },
  {
   "cell_type": "code",
   "execution_count": 19,
   "metadata": {
    "slideshow": {
     "slide_type": "-"
    }
   },
   "outputs": [
    {
     "name": "stdout",
     "output_type": "stream",
     "text": [
      "1000\n",
      "1920\n"
     ]
    }
   ],
   "source": [
    "img1 = Image()\n",
    "img1.width = 1000\n",
    "print(Image.get_width(img1))\n",
    "\n",
    "img2 = Image()\n",
    "print(Image.get_width(img2))"
   ]
  },
  {
   "cell_type": "markdown",
   "metadata": {
    "slideshow": {
     "slide_type": "subslide"
    }
   },
   "source": [
    "However, as a convention, the first syntax (`instance.method_name()`) should be prefered."
   ]
  },
  {
   "cell_type": "markdown",
   "metadata": {
    "slideshow": {
     "slide_type": "slide"
    }
   },
   "source": [
    "#### 1.2.4 Defining constructors and initializing an object\n",
    "\n",
    "Let's look again at the list of methods and attributes in our `Image` class:"
   ]
  },
  {
   "cell_type": "code",
   "execution_count": 20,
   "metadata": {
    "slideshow": {
     "slide_type": "subslide"
    }
   },
   "outputs": [
    {
     "data": {
      "text/plain": [
       "['__class__',\n",
       " '__delattr__',\n",
       " '__dict__',\n",
       " '__dir__',\n",
       " '__doc__',\n",
       " '__eq__',\n",
       " '__format__',\n",
       " '__ge__',\n",
       " '__getattribute__',\n",
       " '__gt__',\n",
       " '__hash__',\n",
       " '__init__',\n",
       " '__init_subclass__',\n",
       " '__le__',\n",
       " '__lt__',\n",
       " '__module__',\n",
       " '__ne__',\n",
       " '__new__',\n",
       " '__reduce__',\n",
       " '__reduce_ex__',\n",
       " '__repr__',\n",
       " '__setattr__',\n",
       " '__sizeof__',\n",
       " '__str__',\n",
       " '__subclasshook__',\n",
       " '__weakref__',\n",
       " 'get_width',\n",
       " 'height',\n",
       " 'width']"
      ]
     },
     "execution_count": 20,
     "metadata": {},
     "output_type": "execute_result"
    }
   ],
   "source": [
    "dir(Image)"
   ]
  },
  {
   "cell_type": "markdown",
   "metadata": {
    "slideshow": {
     "slide_type": "subslide"
    }
   },
   "source": [
    "As you can see, there are a lot of methods defined here, including the constructor. Can you guess which one it is?"
   ]
  },
  {
   "cell_type": "markdown",
   "metadata": {
    "slideshow": {
     "slide_type": "subslide"
    }
   },
   "source": [
    "**Constructor: `__new__`**\n",
    "\n",
    "The constructor `__new__` takes the class as an argument and return a new instance of this class. It is already defined by Python (as we have seen with `dir()`) and in most cases, you do not need to re-define it (except for specific cases, e.g. to derive from an immutable type or for specific design pattern).\n",
    "\n",
    "The actual re-definition of the method `__new__` is out of the scope of this class (even though we will see an example below). Just remember that it exisists, that this is the constructor in Python and most likely, you do not need to re-define it."
   ]
  },
  {
   "cell_type": "markdown",
   "metadata": {
    "slideshow": {
     "slide_type": "subslide"
    }
   },
   "source": [
    "**To initialize: `__init__`**\n",
    "\n",
    "`__init__`, also defined by default, is a method (just like the ones we have seen earlier) that is called at the initialization of an instance. As such, its first argument is `self`. There is one constraint: this method should not return anything. Let's look at an example with our class `Image`:"
   ]
  },
  {
   "cell_type": "code",
   "execution_count": 21,
   "metadata": {
    "slideshow": {
     "slide_type": "-"
    }
   },
   "outputs": [
    {
     "name": "stdout",
     "output_type": "stream",
     "text": [
      "[[0, 0, 0, 0, 0, 0, 0, 0, 0, 0], [0, 0, 0, 0, 0, 0, 0, 0, 0, 0], [0, 0, 0, 0, 0, 0, 0, 0, 0, 0], [0, 0, 0, 0, 0, 0, 0, 0, 0, 0], [0, 0, 0, 0, 0, 0, 0, 0, 0, 0]]\n"
     ]
    }
   ],
   "source": [
    "class Image:\n",
    "    width = 10\n",
    "    height = 5\n",
    "    \n",
    "    def __init__(self):\n",
    "        self.data = [[0] * self.width] * self.height #Initialize a black image.\n",
    "        \n",
    "img = Image()\n",
    "print(img.data)"
   ]
  },
  {
   "cell_type": "markdown",
   "metadata": {
    "slideshow": {
     "slide_type": "subslide"
    }
   },
   "source": [
    "The problem with the previous example is that if we want to modify the size of the image, we need to modify class attributes. Let's add them to the argument list of `__init__`:"
   ]
  },
  {
   "cell_type": "code",
   "execution_count": 22,
   "metadata": {
    "slideshow": {
     "slide_type": "-"
    }
   },
   "outputs": [
    {
     "name": "stdout",
     "output_type": "stream",
     "text": [
      "[[0, 0, 0, 0, 0, 0, 0, 0, 0, 0], [0, 0, 0, 0, 0, 0, 0, 0, 0, 0], [0, 0, 0, 0, 0, 0, 0, 0, 0, 0], [0, 0, 0, 0, 0, 0, 0, 0, 0, 0], [0, 0, 0, 0, 0, 0, 0, 0, 0, 0], [0, 0, 0, 0, 0, 0, 0, 0, 0, 0], [0, 0, 0, 0, 0, 0, 0, 0, 0, 0], [0, 0, 0, 0, 0, 0, 0, 0, 0, 0], [0, 0, 0, 0, 0, 0, 0, 0, 0, 0], [0, 0, 0, 0, 0, 0, 0, 0, 0, 0], [0, 0, 0, 0, 0, 0, 0, 0, 0, 0], [0, 0, 0, 0, 0, 0, 0, 0, 0, 0], [0, 0, 0, 0, 0, 0, 0, 0, 0, 0], [0, 0, 0, 0, 0, 0, 0, 0, 0, 0], [0, 0, 0, 0, 0, 0, 0, 0, 0, 0], [0, 0, 0, 0, 0, 0, 0, 0, 0, 0], [0, 0, 0, 0, 0, 0, 0, 0, 0, 0], [0, 0, 0, 0, 0, 0, 0, 0, 0, 0], [0, 0, 0, 0, 0, 0, 0, 0, 0, 0], [0, 0, 0, 0, 0, 0, 0, 0, 0, 0]]\n"
     ]
    }
   ],
   "source": [
    "class Image: \n",
    "    def __init__(self, width, height):\n",
    "        self.width = width\n",
    "        self.height = height\n",
    "        self.data = [[0] * self.width] * self.height #Initialize a black image.\n",
    "        \n",
    "img = Image(10, 20)\n",
    "print(img.data)"
   ]
  },
  {
   "cell_type": "markdown",
   "metadata": {
    "slideshow": {
     "slide_type": "subslide"
    }
   },
   "source": [
    "Note that it replace the default initialization method, and that the following syntax is not accepted anymore:"
   ]
  },
  {
   "cell_type": "code",
   "execution_count": 23,
   "metadata": {
    "slideshow": {
     "slide_type": "-"
    }
   },
   "outputs": [
    {
     "ename": "TypeError",
     "evalue": "__init__() missing 2 required positional arguments: 'width' and 'height'",
     "output_type": "error",
     "traceback": [
      "\u001b[0;31m---------------------------------------------------------------------------\u001b[0m",
      "\u001b[0;31mTypeError\u001b[0m                                 Traceback (most recent call last)",
      "\u001b[0;32m<ipython-input-23-a36a25353522>\u001b[0m in \u001b[0;36m<module>\u001b[0;34m\u001b[0m\n\u001b[0;32m----> 1\u001b[0;31m \u001b[0mimg\u001b[0m \u001b[0;34m=\u001b[0m \u001b[0mImage\u001b[0m\u001b[0;34m(\u001b[0m\u001b[0;34m)\u001b[0m\u001b[0;34m\u001b[0m\u001b[0;34m\u001b[0m\u001b[0m\n\u001b[0m",
      "\u001b[0;31mTypeError\u001b[0m: __init__() missing 2 required positional arguments: 'width' and 'height'"
     ]
    }
   ],
   "source": [
    "img = Image()"
   ]
  },
  {
   "cell_type": "markdown",
   "metadata": {
    "slideshow": {
     "slide_type": "subslide"
    }
   },
   "source": [
    "Of course, you are free to assign default values to these arguments:"
   ]
  },
  {
   "cell_type": "code",
   "execution_count": 24,
   "metadata": {
    "slideshow": {
     "slide_type": "-"
    }
   },
   "outputs": [],
   "source": [
    "class Image: \n",
    "    def __init__(self, width=1920, height=1080):\n",
    "        self.width = width\n",
    "        self.height = height\n",
    "        self.data = [[0] * self.width] * self.height #Initialize a black image.\n",
    "        \n",
    "img = Image()"
   ]
  },
  {
   "cell_type": "markdown",
   "metadata": {
    "slideshow": {
     "slide_type": "subslide"
    }
   },
   "source": [
    "As a good practice, it is recommended to define all of the instance's attributes at the begining of the `__init__` method (so they are clearly visible)."
   ]
  },
  {
   "cell_type": "markdown",
   "metadata": {
    "slideshow": {
     "slide_type": "subslide"
    }
   },
   "source": [
    "To confirm what we have been saying, let's look at an example where we define both `__new__` and `__init__`:"
   ]
  },
  {
   "cell_type": "code",
   "execution_count": 25,
   "metadata": {
    "slideshow": {
     "slide_type": "-"
    }
   },
   "outputs": [
    {
     "name": "stdout",
     "output_type": "stream",
     "text": [
      "Constructing my instance\n",
      "Initializing my instance\n"
     ]
    }
   ],
   "source": [
    "class Image: \n",
    "    def __new__(cls):\n",
    "        print(\"Constructing my instance\")\n",
    "        return object.__new__(cls) #You do not need to understand this line yet\n",
    "    \n",
    "    def __init__(self, width=1920, height=1080):\n",
    "        print(\"Initializing my instance\")\n",
    "        self.width = width\n",
    "        self.height = height\n",
    "        self.data = [[0] * self.width] * self.height #Initialize a black image.\n",
    "        \n",
    "img = Image()"
   ]
  },
  {
   "cell_type": "markdown",
   "metadata": {
    "slideshow": {
     "slide_type": "subslide"
    }
   },
   "source": [
    "First, the constructor is called and return a new instance. Then the initialization method is called and performs the initialization of the attributes."
   ]
  },
  {
   "cell_type": "markdown",
   "metadata": {
    "slideshow": {
     "slide_type": "subslide"
    }
   },
   "source": [
    "That's it for constructing and initializing your instance. So please remember:\n",
    "* `__init__` is not a constructor. This is a common mistake. The constructor is the method `__new__`.\n",
    "* Most of the time, you do not need to define a constructor. However, it is often a good practice to redefine the method `__init__` if you need to make initial operations and to define instance's attributes"
   ]
  },
  {
   "cell_type": "markdown",
   "metadata": {
    "slideshow": {
     "slide_type": "slide"
    }
   },
   "source": [
    "#### 1.2.6 Defining a finalizer\n",
    "\n",
    "In Python, in great parts because the memory handling is made implicitely, you will not have to define a finalizer  most of the time. Note that it is not exactly a destructor as it will only be called when the object is garbage collected (not necessarly as soon as `del` is called). Although, it can be good to know how to do it.\n",
    "\n",
    "The finalizer is named `__del__`. Here is an example for our image class."
   ]
  },
  {
   "cell_type": "code",
   "execution_count": 26,
   "metadata": {
    "slideshow": {
     "slide_type": "subslide"
    }
   },
   "outputs": [
    {
     "name": "stdout",
     "output_type": "stream",
     "text": [
      "Constructing my instance\n",
      "Initializing my instance\n",
      "Do stuff with the image\n",
      "Finalizer was called\n"
     ]
    }
   ],
   "source": [
    "class Image: \n",
    "    def __new__(cls):\n",
    "        print(\"Constructing my instance\")\n",
    "        return object.__new__(cls) #You do not need to understand this line yet\n",
    "    \n",
    "    def __init__(self, width=1920, height=1080):\n",
    "        print(\"Initializing my instance\")\n",
    "        self.width = width\n",
    "        self.height = height\n",
    "        self.data = [[0] * self.width] * self.height #Initialize a black image.\n",
    "        \n",
    "    def __del__(self):\n",
    "        print(\"Finalizer was called\")\n",
    "        del self.data #This is useless, only for illustration\n",
    "        \n",
    "img = Image()\n",
    "print(\"Do stuff with the image\")\n",
    "del img"
   ]
  },
  {
   "cell_type": "markdown",
   "metadata": {
    "slideshow": {
     "slide_type": "subslide"
    }
   },
   "source": [
    "Basically, you should not have to use `__del__`, just as you should not have to use `__new__`. But please note that it exists."
   ]
  },
  {
   "cell_type": "markdown",
   "metadata": {
    "slideshow": {
     "slide_type": "slide"
    }
   },
   "source": [
    "#### 1.2.7 Printing an object\n",
    "A final special method which is useful to know is the `__str__` one. This will be called when casting your object to a string. Let's look at the example below."
   ]
  },
  {
   "cell_type": "code",
   "execution_count": 27,
   "metadata": {
    "slideshow": {
     "slide_type": "subslide"
    }
   },
   "outputs": [
    {
     "name": "stdout",
     "output_type": "stream",
     "text": [
      "Initializing my instance\n",
      "Image of size (1920 * 1080)\n"
     ]
    }
   ],
   "source": [
    "class Image:     \n",
    "    def __init__(self, width=1920, height=1080):\n",
    "        print(\"Initializing my instance\")\n",
    "        self.width = width\n",
    "        self.height = height\n",
    "        self.data = [[0] * self.width] * self.height #Initialize a black image.\n",
    "        \n",
    "    def __str__(self):\n",
    "        return f\"Image of size ({self.width} * {self.height})\"\n",
    "\n",
    "img = Image()\n",
    "print(img)"
   ]
  },
  {
   "cell_type": "markdown",
   "metadata": {
    "slideshow": {
     "slide_type": "subslide"
    }
   },
   "source": [
    "As you can see, it is a method taking `self` as the only argument and returning a string."
   ]
  },
  {
   "cell_type": "markdown",
   "metadata": {
    "slideshow": {
     "slide_type": "slide"
    }
   },
   "source": [
    "#### 1.2.8 A word about privacy\n",
    "In Python, attributes and methods are public, and methods are virtual (i.e. can be re-defined in modified classes).\n",
    "\n",
    "However, by convention, any attribute or member with a name starting with an `_` should be considered as private: while the program will not forbid you to access it, the developer of the class is, by convention, asking you not to do it.\n",
    "\n",
    "Furthermore, there is a mechanism of name mangling to discourage accessing a variable. In practice, any data of the class with a name starting with at least two `_` will have its name replaced by `_classnameoriginalname` when accessed from outside of the class. See the following example"
   ]
  },
  {
   "cell_type": "code",
   "execution_count": 28,
   "metadata": {
    "slideshow": {
     "slide_type": "subslide"
    }
   },
   "outputs": [
    {
     "name": "stdout",
     "output_type": "stream",
     "text": [
      "t._please_do_not = 42\n",
      "t._Test___tricking_you = 21\n",
      "21\n"
     ]
    }
   ],
   "source": [
    "class Test:\n",
    "    _please_do_not = 42\n",
    "    ___tricking_you = 21\n",
    "    def peek(self):\n",
    "        print(self.___tricking_you)\n",
    "\n",
    "t = Test()\n",
    "print(f\"t._please_do_not = {t._please_do_not}\") #You can, but should not\n",
    "print(f\"t._Test___tricking_you = {t._Test___tricking_you}\") #t.___tricking_you will give you an error\n",
    "t.peek()"
   ]
  },
  {
   "cell_type": "markdown",
   "metadata": {
    "slideshow": {
     "slide_type": "subslide"
    }
   },
   "source": [
    "Therefore, the following is totally valid..."
   ]
  },
  {
   "cell_type": "code",
   "execution_count": 29,
   "metadata": {
    "slideshow": {
     "slide_type": "-"
    }
   },
   "outputs": [
    {
     "name": "stdout",
     "output_type": "stream",
     "text": [
      "Initializing my instance\n",
      "Image of size (-1 * 1080)\n"
     ]
    }
   ],
   "source": [
    "class Image:     \n",
    "    def __init__(self, width=1920, height=1080):\n",
    "        print(\"Initializing my instance\")\n",
    "        self.width = width\n",
    "        self.height = height\n",
    "        self.data = [[0] * self.width] * self.height #Initialize a black image.\n",
    "        \n",
    "    def __str__(self):\n",
    "        return f\"Image of size ({self.width} * {self.height})\"\n",
    "    \n",
    "img = Image()\n",
    "img.width = -1\n",
    "print(img)"
   ]
  },
  {
   "cell_type": "markdown",
   "metadata": {
    "slideshow": {
     "slide_type": "subslide"
    }
   },
   "source": [
    "I am sure you agree this is problematic. In other languages, you would define the attribute width as private, and define public getter and setter methods to access the attributes (and for instance, check that the width is greater than 0 before assigning). In python, that would look like that:"
   ]
  },
  {
   "cell_type": "code",
   "execution_count": 30,
   "metadata": {
    "slideshow": {
     "slide_type": "subslide"
    }
   },
   "outputs": [],
   "source": [
    "class Image:     \n",
    "    def __init__(self, width=1920, height=1080):\n",
    "        print(\"Initializing my instance\")\n",
    "        #Note the __ at the begining of the attributes' names.\n",
    "        self.__width = width\n",
    "        self.__height = height\n",
    "        self.__data = [[0] * self.__width] * self.__height #Initialize a black image.\n",
    "        \n",
    "    def get_width(self):\n",
    "        return self.__width\n",
    "    \n",
    "    def set_width(self, width):\n",
    "        if width > 0:\n",
    "            self.__width = width\n",
    "            \n",
    "    def get_height(self):\n",
    "        return self.__height\n",
    "    \n",
    "    def set_height(self, height):\n",
    "        if height > 0:\n",
    "            self.__height = height\n",
    "            \n",
    "    def get_data(self):\n",
    "        return self.__data\n",
    "    \n",
    "    def set_data(self, data):\n",
    "        self.__data = data\n",
    "        \n",
    "    def __str__(self):\n",
    "        return f\"Image of size ({self.__width} * {self.__height})\""
   ]
  },
  {
   "cell_type": "markdown",
   "metadata": {
    "slideshow": {
     "slide_type": "subslide"
    }
   },
   "source": [
    "However, you will agree that:\n",
    "* it is not nice to use (and to write, but you only have to do it once)\n",
    "* most imortantly, we did not solve the problem. The following code is still valid"
   ]
  },
  {
   "cell_type": "code",
   "execution_count": 31,
   "metadata": {
    "slideshow": {
     "slide_type": "-"
    }
   },
   "outputs": [
    {
     "name": "stdout",
     "output_type": "stream",
     "text": [
      "Initializing my instance\n",
      "Image of size (-1 * 1080)\n"
     ]
    }
   ],
   "source": [
    "img = Image()\n",
    "img._Image__width = -1\n",
    "print(img)"
   ]
  },
  {
   "cell_type": "markdown",
   "metadata": {
    "slideshow": {
     "slide_type": "subslide"
    }
   },
   "source": [
    "This can be avoided using `property`, a built-in class offered by Python. Let's look at an example:"
   ]
  },
  {
   "cell_type": "code",
   "execution_count": 32,
   "metadata": {
    "slideshow": {
     "slide_type": "-"
    }
   },
   "outputs": [
    {
     "name": "stdout",
     "output_type": "stream",
     "text": [
      "Initializing my instance\n",
      "In height getter\n",
      "1080\n",
      "In height getter\n",
      "1080\n"
     ]
    }
   ],
   "source": [
    "class Image:     \n",
    "    def __init__(self, width=1920, height=1080):\n",
    "        print(\"Initializing my instance\")\n",
    "        #Note the __ at the begining of the attributes' names.\n",
    "        self.__width = width\n",
    "        self.__height = height\n",
    "        self.__data = [[0] * self.__width] * self.__height #Initialize a black image.\n",
    "        \n",
    "    def get_width(self):\n",
    "        return self.__width\n",
    "    \n",
    "    def set_width(self, width):\n",
    "        if width > 0:\n",
    "            self.__width = width\n",
    "            \n",
    "    def get_height(self):\n",
    "        print(\"In height getter\")\n",
    "        return self.__height\n",
    "    \n",
    "    def set_height(self, height):\n",
    "        if height > 0:\n",
    "            self.__height = height\n",
    "            \n",
    "    def get_data(self):\n",
    "        return self.__data\n",
    "    \n",
    "    def set_data(self, data):\n",
    "        self.__data = data\n",
    "            \n",
    "    width = property(get_width, set_width)\n",
    "    height = property(get_height, set_height)\n",
    "    data = property(get_data, set_data)\n",
    "        \n",
    "    def __str__(self):\n",
    "        return f\"Image of size ({self.__width} * {self.__height})\"\n",
    "    \n",
    "img = Image()\n",
    "print(img.height)\n",
    "print(img.get_height())"
   ]
  },
  {
   "cell_type": "markdown",
   "metadata": {
    "slideshow": {
     "slide_type": "subslide"
    }
   },
   "source": [
    "As you can see, `property` defined the function to be called when accessing or assigning to the variables `height`, `width` and `data`. However, there is a problem: we have seen that there are now two valid ways to access a variable. Either by the name defined by the property, or by the getter/setter. This is in contradiction with the Zen of Python which says \"There should be oneâ€” and preferably only one â€”obvious way to do it.\".\n",
    "\n",
    "To solve that, let's indicate our getters/setters as private: "
   ]
  },
  {
   "cell_type": "code",
   "execution_count": 33,
   "metadata": {
    "slideshow": {
     "slide_type": "subslide"
    }
   },
   "outputs": [
    {
     "name": "stdout",
     "output_type": "stream",
     "text": [
      "Initialization of the object:\n",
      "Initializing my instance\n",
      "In width setter\n",
      "In height setter\n",
      "In data setter\n",
      "\n",
      "Modification of width\n",
      "In width setter\n",
      "\n",
      "Modification of height to an invalid value\n",
      "In height setter\n",
      "\n",
      "Printing\n",
      "In width getter\n",
      "In height getter\n",
      "Image of size (3840 * 1080)\n"
     ]
    }
   ],
   "source": [
    "class Image:     \n",
    "    def __init__(self, width=1920, height=1080):\n",
    "        print(\"Initializing my instance\")\n",
    "        #Note the __ at the begining of the attributes' names.\n",
    "        self.width = width\n",
    "        self.height = height\n",
    "        self.data = [[0] * self.__width] * self.__height #Initialize a black image.\n",
    "        \n",
    "    def __get_width(self):\n",
    "        print(\"In width getter\")\n",
    "        return self.__width\n",
    "    \n",
    "    def __set_width(self, width):\n",
    "        print(\"In width setter\")\n",
    "        if width > 0:\n",
    "            self.__width = width\n",
    "            \n",
    "    def __get_height(self):\n",
    "        print(\"In height getter\")\n",
    "        return self.__height\n",
    "    \n",
    "    def __set_height(self, height):\n",
    "        print(\"In height setter\")\n",
    "        if height > 0:\n",
    "            self.__height = height\n",
    "            \n",
    "    def __get_data(self):\n",
    "        print(\"In data getter\")\n",
    "        return self.__data\n",
    "    \n",
    "    def __set_data(self, data):\n",
    "        print(\"In data setter\")\n",
    "        self.__data = data\n",
    "            \n",
    "    width = property(__get_width, __set_width)\n",
    "    height = property(__get_height, __set_height)\n",
    "    data = property(__get_data, __set_data)\n",
    "        \n",
    "    def __str__(self):\n",
    "        return f\"Image of size ({self.width} * {self.height})\"\n",
    "\n",
    "print(\"Initialization of the object:\")\n",
    "img = Image()\n",
    "\n",
    "print(\"\\nModification of width\")\n",
    "img.width=3840\n",
    "\n",
    "print(\"\\nModification of height to an invalid value\")\n",
    "img.height=-100\n",
    "\n",
    "print(\"\\nPrinting\")\n",
    "print(img)"
   ]
  },
  {
   "cell_type": "markdown",
   "metadata": {
    "slideshow": {
     "slide_type": "subslide"
    }
   },
   "source": [
    "Note that this is not the prettiest way to do it (people tend to use \"decorators\" for that). However, this goes beyond the scope of this class."
   ]
  },
  {
   "cell_type": "markdown",
   "metadata": {
    "slideshow": {
     "slide_type": "slide"
    }
   },
   "source": [
    "**Summary**\n",
    "\n",
    "We have seen how to define a simple object and some useful methods associated to it. To summarize, you should know:\n",
    "* how to define an attribute (and the difference between class and instance attributes)\n",
    "* how to define a method\n",
    "* how to define the `__init__` method to initialize the class and the `__str__` method to obtain a string representation of an object\n",
    "* that the `__new__` and `__del__` method exists but that you should avoid to use them\n",
    "\n",
    "As you have seen with `dir()`, there are other default methods that come with an object. We will obviously not go through all of them, but if you need to define one in particular (e.g. for operator overloading), you can look at the [documentation](https://docs.python.org/3/reference/datamodel.html)"
   ]
  },
  {
   "cell_type": "markdown",
   "metadata": {
    "slideshow": {
     "slide_type": "slide"
    }
   },
   "source": [
    "## 2 Object oriented programming with Python - Inheritance\n",
    "\n",
    "One of the main interest of OOP is inheritance, which allows for clear design of your program. In Python inheritance is simply defined by adding `(parentclass)` after the name of the class"
   ]
  },
  {
   "cell_type": "code",
   "execution_count": 34,
   "metadata": {
    "slideshow": {
     "slide_type": "subslide"
    }
   },
   "outputs": [],
   "source": [
    "class Image: \n",
    "    def __init__(self, width=1920, height=1080):\n",
    "        self.width = width\n",
    "        self.height = height\n",
    "        \n",
    "class RGBImage(Image):\n",
    "    pass"
   ]
  },
  {
   "cell_type": "markdown",
   "metadata": {
    "slideshow": {
     "slide_type": "subslide"
    }
   },
   "source": [
    "With that, the class `RGBImage` inherits from the methods and attributes of the `Image` class:"
   ]
  },
  {
   "cell_type": "code",
   "execution_count": 35,
   "metadata": {
    "slideshow": {
     "slide_type": "-"
    }
   },
   "outputs": [
    {
     "data": {
      "text/plain": [
       "1920"
      ]
     },
     "execution_count": 35,
     "metadata": {},
     "output_type": "execute_result"
    }
   ],
   "source": [
    "img = RGBImage()\n",
    "img.width"
   ]
  },
  {
   "cell_type": "markdown",
   "metadata": {
    "slideshow": {
     "slide_type": "subslide"
    }
   },
   "source": [
    "Note that Python also supports multiple inheritance. In that case, you should use the syntax `(ParentClass1, ParentClass2)`"
   ]
  },
  {
   "cell_type": "markdown",
   "metadata": {
    "slideshow": {
     "slide_type": "subslide"
    }
   },
   "source": [
    "We can now see the difference between the built-in `type()` and `isinstance()`:"
   ]
  },
  {
   "cell_type": "code",
   "execution_count": 36,
   "metadata": {
    "slideshow": {
     "slide_type": "-"
    }
   },
   "outputs": [
    {
     "name": "stdout",
     "output_type": "stream",
     "text": [
      "With type():\n",
      "False\n",
      "With isinstance():\n",
      "True\n"
     ]
    }
   ],
   "source": [
    "img1 = Image()\n",
    "img2 = RGBImage()\n",
    "\n",
    "print(\"With type():\")\n",
    "print(type(img2) == Image)\n",
    "\n",
    "print(\"With isinstance():\")\n",
    "print(isinstance(img2, Image))"
   ]
  },
  {
   "cell_type": "markdown",
   "metadata": {
    "slideshow": {
     "slide_type": "subslide"
    }
   },
   "source": [
    "**Initialization of a derived class**\n",
    "\n",
    "When initializing a derived class, it is often a good idea to also initialize the parent class. To realize that, let's take our previous example and add an initialization to the derived class"
   ]
  },
  {
   "cell_type": "code",
   "execution_count": 37,
   "metadata": {
    "slideshow": {
     "slide_type": "-"
    }
   },
   "outputs": [
    {
     "name": "stdout",
     "output_type": "stream",
     "text": [
      "1280\n"
     ]
    }
   ],
   "source": [
    "class Image: \n",
    "    def __init__(self, width=1920, height=1080):\n",
    "        self.width = width\n",
    "        self.height = height\n",
    "        \n",
    "class RGBImage(Image):\n",
    "    def __init__(self, width=1280, height=720):\n",
    "        #First option: recreate the variable self.width and self.height... But why bother having inheritance then?\n",
    "        #Option two:\n",
    "        Image.__init__(self, width, height)\n",
    "        #Or (equivalent)\n",
    "        #super().__init__(width, height)\n",
    "\n",
    "img = RGBImage()\n",
    "print(img.width)"
   ]
  },
  {
   "cell_type": "markdown",
   "metadata": {
    "slideshow": {
     "slide_type": "subslide"
    }
   },
   "source": [
    "Here, `super()` will automatically return the parent class [(link for multiple inheritance).](http://python-history.blogspot.com/2010/06/method-resolution-order.html)\n",
    "\n",
    "Of course, you are free to write other instructions in the initialization:"
   ]
  },
  {
   "cell_type": "code",
   "execution_count": 38,
   "metadata": {
    "slideshow": {
     "slide_type": "subslide"
    }
   },
   "outputs": [
    {
     "name": "stdout",
     "output_type": "stream",
     "text": [
      "1280\n"
     ]
    }
   ],
   "source": [
    "class Image: \n",
    "    def __init__(self, width=1920, height=1080):\n",
    "        self.width = width\n",
    "        self.height = height\n",
    "        \n",
    "class RGBImage(Image):\n",
    "    def __init__(self, width=1280, height=720):\n",
    "        Image.__init__(self, width, height)\n",
    "        self.data = [[0, 0, 0] * width] * height\n",
    "\n",
    "img = RGBImage()\n",
    "print(img.width)"
   ]
  },
  {
   "cell_type": "markdown",
   "metadata": {
    "slideshow": {
     "slide_type": "subslide"
    }
   },
   "source": [
    "**Overriding**\n",
    "\n",
    "You will probably have to override some methods when defining hierarchies of classes. This is simply done by re-defining the function:"
   ]
  },
  {
   "cell_type": "code",
   "execution_count": 39,
   "metadata": {
    "slideshow": {
     "slide_type": "-"
    }
   },
   "outputs": [
    {
     "name": "stdout",
     "output_type": "stream",
     "text": [
      "1280 * 720 * 3\n",
      "1920 * 1080\n"
     ]
    }
   ],
   "source": [
    "class Image: \n",
    "    def __init__(self, width=1920, height=1080):\n",
    "        self.width = width\n",
    "        self.height = height\n",
    "        \n",
    "    def get_size(self):\n",
    "        return f\"{self.width} * {self.height}\"\n",
    "        \n",
    "class RGBImage(Image):\n",
    "    def __init__(self, width=1280, height=720):\n",
    "        Image.__init__(self, width, height)\n",
    "        self.data = [[0, 0, 0] * width] * height\n",
    "        \n",
    "    def get_size(self):\n",
    "        return f\"{self.width} * {self.height} * 3\"\n",
    "\n",
    "img = RGBImage()\n",
    "print(img.get_size())\n",
    "\n",
    "img = Image()\n",
    "print(img.get_size())"
   ]
  },
  {
   "cell_type": "markdown",
   "metadata": {
    "slideshow": {
     "slide_type": "subslide"
    }
   },
   "source": [
    "Once again, you can use the `super()` function to access the overriden method:"
   ]
  },
  {
   "cell_type": "code",
   "execution_count": 40,
   "metadata": {
    "slideshow": {
     "slide_type": "-"
    }
   },
   "outputs": [
    {
     "name": "stdout",
     "output_type": "stream",
     "text": [
      "1280 * 720 * 3\n",
      "1920 * 1080\n"
     ]
    }
   ],
   "source": [
    "class Image: \n",
    "    def __init__(self, width=1920, height=1080):\n",
    "        self.width = width\n",
    "        self.height = height\n",
    "        \n",
    "    def get_size(self):\n",
    "        return f\"{self.width} * {self.height}\"\n",
    "        \n",
    "class RGBImage(Image):\n",
    "    def __init__(self, width=1280, height=720):\n",
    "        Image.__init__(self, width, height)\n",
    "        self.data = [[0, 0, 0] * width] * height\n",
    "        \n",
    "    def get_size(self):\n",
    "        return super().get_size() + \" * 3\"\n",
    "\n",
    "img = RGBImage()\n",
    "print(img.get_size())\n",
    "\n",
    "img = Image()\n",
    "print(img.get_size())"
   ]
  },
  {
   "cell_type": "markdown",
   "metadata": {
    "slideshow": {
     "slide_type": "slide"
    }
   },
   "source": [
    "## Questions?"
   ]
  }
 ],
 "metadata": {
  "celltoolbar": "Slideshow",
  "kernelspec": {
   "display_name": "Python 3 (ipykernel)",
   "language": "python",
   "name": "python3"
  },
  "language_info": {
   "codemirror_mode": {
    "name": "ipython",
    "version": 3
   },
   "file_extension": ".py",
   "mimetype": "text/x-python",
   "name": "python",
   "nbconvert_exporter": "python",
   "pygments_lexer": "ipython3",
   "version": "3.9.7"
  }
 },
 "nbformat": 4,
 "nbformat_minor": 1
}
