{
 "cells": [
  {
   "cell_type": "markdown",
   "metadata": {
    "pycharm": {
     "name": "#%%\n"
    },
    "slideshow": {
     "slide_type": "slide"
    }
   },
   "source": [
    "![logo.jpg](data:image/jpeg;base64,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)\n",
    "# Intro to Python - Class 2\n",
    "## Sylvain Lobry, 17/10/2022"
   ]
  },
  {
   "cell_type": "markdown",
   "metadata": {
    "slideshow": {
     "slide_type": "slide"
    }
   },
   "source": [
    "In today's class, we will see:\n",
    "* More about strings\n",
    "* Input/Output\n",
    "* Functions\n",
    "* Modules"
   ]
  },
  {
   "cell_type": "markdown",
   "metadata": {
    "slideshow": {
     "slide_type": "slide"
    }
   },
   "source": [
    "## 1) Strings - Part 2"
   ]
  },
  {
   "cell_type": "markdown",
   "metadata": {
    "slideshow": {
     "slide_type": "slide"
    }
   },
   "source": [
    "### 1.1) Back to formatting\n",
    "During the first class, we saw how to use format to output a fixed point representation of a floating number. However, Python offers a lot of formatting options. Let's review the ones that could be useful for you in this section."
   ]
  },
  {
   "cell_type": "markdown",
   "metadata": {
    "slideshow": {
     "slide_type": "-"
    }
   },
   "source": [
    "For any number, you can use:\n",
    "* `+`: to always prefix the number by its sign (poitive or negative)\n",
    "* `-`: to only prefix negative number by the `-` sign (this is the default behavior)\n",
    "* ` `: to prefix positive number by a space, and the negative by a `-`"
   ]
  },
  {
   "cell_type": "code",
   "execution_count": 1,
   "metadata": {
    "slideshow": {
     "slide_type": "subslide"
    }
   },
   "outputs": [
    {
     "name": "stdout",
     "output_type": "stream",
     "text": [
      "Positive number: +0.14, negative number: -0.14\n",
      "Positive number: 0.14, negative number: -0.14\n",
      "Positive number:  0.14, negative number: -0.14\n"
     ]
    }
   ],
   "source": [
    "pos = 1/7\n",
    "neg = -1/7\n",
    "\n",
    "print(\"Positive number: {:+.2f}, negative number: {:+.2f}\".format(pos, neg))\n",
    "print(\"Positive number: {:-.2f}, negative number: {:-.2f}\".format(pos, neg))\n",
    "print(\"Positive number: {: .2f}, negative number: {: .2f}\".format(pos, neg))"
   ]
  },
  {
   "cell_type": "markdown",
   "metadata": {
    "slideshow": {
     "slide_type": "slide"
    }
   },
   "source": [
    "For floating number, we have seen fixed point formatting `f`. There are other options:\n",
    "* `e` and `E` to use the scientific notation. The difference between the two will be the capitalization of the \"e\" letter used before the exponent\n",
    "* `f` and `F` to use fixed point notation. The difference between the two will be the capitalization of \"not a number\" and \"infinity\"\n",
    "* `g` and `G`, which are called \"general format\": it will use either fixed-point or scientific notation based on the magnitude\n",
    "* `%`: multiplies the number by 100 and adds a `%` sign after.\n",
    "\n",
    "Here are some examples:"
   ]
  },
  {
   "cell_type": "code",
   "execution_count": 2,
   "metadata": {
    "slideshow": {
     "slide_type": "subslide"
    }
   },
   "outputs": [
    {
     "name": "stdout",
     "output_type": "stream",
     "text": [
      "Using 3.42512345e+17\n",
      "e formatting: 3.43e+17\n",
      "E formatting: 3.43E+17\n",
      "f formatting: 342512345000000000.00\n",
      "F formatting: 342512345000000000.00\n",
      "g formatting: 3.4e+17\n",
      "G formatting: 3.4E+17\n",
      "Using 1.42\n",
      "% formatting: 142.000000%\n",
      "Using nan\n",
      "f formatting: nan\n",
      "F formatting: NAN\n",
      "Using inf\n",
      "f formatting: inf\n",
      "F formatting: INF\n"
     ]
    }
   ],
   "source": [
    "large_number = 3.42512345e17\n",
    "nan = float(\"nan\")\n",
    "inf = float(\"inf\")\n",
    "\n",
    "print(f\"Using {large_number}\")\n",
    "print(\"e formatting: {:.2e}\".format(large_number))\n",
    "print(\"E formatting: {:.2E}\".format(large_number))\n",
    "print(\"f formatting: {:.2f}\".format(large_number))\n",
    "print(\"F formatting: {:.2F}\".format(large_number))\n",
    "print(\"g formatting: {:.2g}\".format(large_number))\n",
    "print(\"G formatting: {:.2G}\".format(large_number))\n",
    "\n",
    "perc = 1.42\n",
    "print(f\"Using {perc}\")\n",
    "print(\"% formatting: {:%}\".format(perc))\n",
    "\n",
    "print(f\"Using {nan}\")\n",
    "print(\"f formatting: {:f}\".format(nan))\n",
    "print(\"F formatting: {:F}\".format(nan))\n",
    "print(f\"Using {inf}\")\n",
    "print(\"f formatting: {:f}\".format(inf))\n",
    "print(\"F formatting: {:F}\".format(inf))"
   ]
  },
  {
   "cell_type": "markdown",
   "metadata": {
    "slideshow": {
     "slide_type": "slide"
    }
   },
   "source": [
    "For integers, you can use the following formats:\n",
    "* `b`: formats the number in binary\n",
    "* `c`: converts to the corresponding unicode character\n",
    "* `o`: formats in base 8\n",
    "* `d`: formats in base 10 (this is the default)\n",
    "* `x`: formats in hex, using lowercase letters\n",
    "* `X`: formats in hex, using uppercase letters\n",
    "\n",
    "Let's see some examples:"
   ]
  },
  {
   "cell_type": "code",
   "execution_count": 3,
   "metadata": {
    "slideshow": {
     "slide_type": "subslide"
    }
   },
   "outputs": [
    {
     "name": "stdout",
     "output_type": "stream",
     "text": [
      "b formatting: 101010\n",
      "c formatting: *\n",
      "o formatting: 52\n",
      "d formatting: 42\n",
      "x formatting: 2a\n",
      "X formatting: 2A\n"
     ]
    }
   ],
   "source": [
    "num = 42\n",
    "\n",
    "print(\"b formatting: {:b}\".format(num))\n",
    "print(\"c formatting: {:c}\".format(num))\n",
    "print(\"o formatting: {:o}\".format(num))\n",
    "print(\"d formatting: {:d}\".format(num))\n",
    "print(\"x formatting: {:x}\".format(num))\n",
    "print(\"X formatting: {:X}\".format(num))"
   ]
  },
  {
   "cell_type": "markdown",
   "metadata": {
    "slideshow": {
     "slide_type": "slide"
    }
   },
   "source": [
    "Note that you can also use the precision specifier that we have seen before to truncate strings:"
   ]
  },
  {
   "cell_type": "code",
   "execution_count": 4,
   "metadata": {
    "slideshow": {
     "slide_type": "subslide"
    }
   },
   "outputs": [
    {
     "name": "stdout",
     "output_type": "stream",
     "text": [
      "Anticons\n"
     ]
    }
   ],
   "source": [
    "long_str = \"Anticonstitutionnellement\"\n",
    "\n",
    "print(\"{:.8}\".format(long_str))"
   ]
  },
  {
   "cell_type": "markdown",
   "metadata": {
    "slideshow": {
     "slide_type": "slide"
    }
   },
   "source": [
    "Finally, you can also align the output using the following specifiers:\n",
    "* `<`: left-align within available space\n",
    "* `>`: right align within available space\n",
    "* `^`: center within available space\n",
    "\n",
    "Optionally, you can put a filling character (defaults to space) before the alignment. Finally, the available space can be specified after the alignment:"
   ]
  },
  {
   "cell_type": "code",
   "execution_count": 5,
   "metadata": {
    "slideshow": {
     "slide_type": "subslide"
    }
   },
   "outputs": [
    {
     "name": "stdout",
     "output_type": "stream",
     "text": [
      "left======================================\n",
      "                                     right\n",
      "                  center                  \n"
     ]
    }
   ],
   "source": [
    "print(\"{:=<42}\".format(\"left\")) #left align in a 42 width space and fill blanks with '='\n",
    "print(\"{:>42}\".format(\"right\"))\n",
    "print(\"{:^42}\".format(\"center\"))"
   ]
  },
  {
   "cell_type": "markdown",
   "metadata": {
    "slideshow": {
     "slide_type": "subslide"
    }
   },
   "source": [
    "For more details, you can consult the complete documentation: https://docs.python.org/3/library/string.html#formatspec"
   ]
  },
  {
   "cell_type": "markdown",
   "metadata": {
    "slideshow": {
     "slide_type": "slide"
    }
   },
   "source": [
    "### 1.2) String as an array of characters\n",
    "You should know that in C, a string is actually an array of characters. Python follows this philosophy by allowing a similar behavior between strings and lists.\n",
    "\n",
    "Therefore, some methods defined on lists and that we have seen last time work for strings:"
   ]
  },
  {
   "cell_type": "code",
   "execution_count": 19,
   "metadata": {
    "slideshow": {
     "slide_type": "subslide"
    }
   },
   "outputs": [
    {
     "name": "stdout",
     "output_type": "stream",
     "text": [
      "n\n",
      "Bonjour\n",
      "Bno\n",
      "tu emne\n",
      "23\n",
      "Bonjour tout le monde!!\n"
     ]
    }
   ],
   "source": [
    "dummy_string = \"Bonjour tout le monde!!\"\n",
    "\n",
    "print(dummy_string[2])\n",
    "print(dummy_string[:7])\n",
    "print(dummy_string[0:5:2]) #Go from index 0 to 5 with a step of 2\n",
    "print(dummy_string[8:-1:2]) #Go from index 8 to the last with a step of 2\n",
    "print(len(dummy_string))\n",
    "print(dummy_string)"
   ]
  },
  {
   "cell_type": "markdown",
   "metadata": {
    "slideshow": {
     "slide_type": "slide"
    }
   },
   "source": [
    "There are also other operations that work on lists (and on strings), that we did not have time to include in the last course:"
   ]
  },
  {
   "cell_type": "code",
   "execution_count": 7,
   "metadata": {
    "slideshow": {
     "slide_type": "-"
    }
   },
   "outputs": [
    {
     "name": "stdout",
     "output_type": "stream",
     "text": [
      "True\n",
      "False\n",
      "4\n",
      "2\n"
     ]
    }
   ],
   "source": [
    "print(\"t l\" in dummy_string)\n",
    "print(\"tout \" not in dummy_string)\n",
    "print(dummy_string.index(\"ou\"))\n",
    "print(dummy_string.count(\"ou\"))"
   ]
  },
  {
   "cell_type": "markdown",
   "metadata": {
    "slideshow": {
     "slide_type": "subslide"
    }
   },
   "source": [
    "However, and this is important, strings in Python are NOT lists. Notably, they are read-only: once a string has been defined, you cannot modify it. Therefore, the following do NOT work:"
   ]
  },
  {
   "cell_type": "code",
   "execution_count": 8,
   "metadata": {
    "slideshow": {
     "slide_type": "-"
    }
   },
   "outputs": [
    {
     "ename": "AttributeError",
     "evalue": "'str' object has no attribute 'append'",
     "output_type": "error",
     "traceback": [
      "\u001b[0;31m---------------------------------------------------------------------------\u001b[0m",
      "\u001b[0;31mAttributeError\u001b[0m                            Traceback (most recent call last)",
      "\u001b[0;32m<ipython-input-8-9ac5301a54db>\u001b[0m in \u001b[0;36m<module>\u001b[0;34m\u001b[0m\n\u001b[0;32m----> 1\u001b[0;31m \u001b[0mdummy_string\u001b[0m\u001b[0;34m.\u001b[0m\u001b[0mappend\u001b[0m\u001b[0;34m(\u001b[0m\u001b[0;34m'!'\u001b[0m\u001b[0;34m)\u001b[0m\u001b[0;34m\u001b[0m\u001b[0;34m\u001b[0m\u001b[0m\n\u001b[0m\u001b[1;32m      2\u001b[0m \u001b[0mdummy_string\u001b[0m\u001b[0;34m[\u001b[0m\u001b[0;36m0\u001b[0m\u001b[0;34m]\u001b[0m \u001b[0;34m=\u001b[0m \u001b[0;34m'b'\u001b[0m\u001b[0;34m\u001b[0m\u001b[0;34m\u001b[0m\u001b[0m\n\u001b[1;32m      3\u001b[0m \u001b[0;34m\u001b[0m\u001b[0m\n",
      "\u001b[0;31mAttributeError\u001b[0m: 'str' object has no attribute 'append'"
     ]
    }
   ],
   "source": [
    "dummy_string.append('!')\n",
    "dummy_string[0] = 'b'"
   ]
  },
  {
   "cell_type": "markdown",
   "metadata": {
    "slideshow": {
     "slide_type": "slide"
    }
   },
   "source": [
    "### 1.3) Additional methods\n",
    "In addition to the methods defined for lists and strings, there are additional specific methods which can be useful. We review some of them here."
   ]
  },
  {
   "cell_type": "markdown",
   "metadata": {
    "slideshow": {
     "slide_type": "subslide"
    }
   },
   "source": [
    "#### Modification\n",
    "It is possible to modify the case with `capitalize()`, `lower()` and `upper()`:"
   ]
  },
  {
   "cell_type": "code",
   "execution_count": 10,
   "metadata": {
    "slideshow": {
     "slide_type": "-"
    }
   },
   "outputs": [
    {
     "name": "stdout",
     "output_type": "stream",
     "text": [
      "Bonjour Ã  tous. est-ce que Ã§a marche?\n",
      "BONJOUR Ã€ TOUS. EST-CE QUE Ã‡A MARCHE?\n",
      "bonjour Ã  tous. est-ce que Ã§a marche?\n"
     ]
    }
   ],
   "source": [
    "dummy_str = \"bonjour Ã  tous. est-ce que Ã§a marche?\"\n",
    "print(dummy_str.capitalize())\n",
    "dummy_str = dummy_str.upper()\n",
    "print(dummy_str)\n",
    "print(dummy_str.lower())"
   ]
  },
  {
   "cell_type": "markdown",
   "metadata": {
    "slideshow": {
     "slide_type": "subslide"
    }
   },
   "source": [
    "To modify some characters of a string, you can use `replace(old_str, new_str)` which will replace `old_str` by `new_str`:"
   ]
  },
  {
   "cell_type": "code",
   "execution_count": 11,
   "metadata": {
    "slideshow": {
     "slide_type": "-"
    }
   },
   "outputs": [
    {
     "name": "stdout",
     "output_type": "stream",
     "text": [
      "hello Ã  tous. hello\n"
     ]
    }
   ],
   "source": [
    "dummy_str = \"bonjour Ã  tous. bonjour\"\n",
    "print(dummy_str.replace(\"bonjour\", \"hello\"))"
   ]
  },
  {
   "cell_type": "markdown",
   "metadata": {
    "slideshow": {
     "slide_type": "slide"
    }
   },
   "source": [
    "#### Tests\n",
    "You can check the extremities of a string with the methods `startswith()` and `endswith()`:"
   ]
  },
  {
   "cell_type": "code",
   "execution_count": 1,
   "metadata": {
    "slideshow": {
     "slide_type": "-"
    }
   },
   "outputs": [
    {
     "name": "stdout",
     "output_type": "stream",
     "text": [
      "True\n",
      "False\n",
      "False\n",
      "True\n"
     ]
    }
   ],
   "source": [
    "dummy_str = \"bonjour Ã  tous\"\n",
    "print(dummy_str.startswith(\"bonjour\"))\n",
    "print(dummy_str.startswith(\"s\"))\n",
    "print(dummy_str.endswith(\"bonjour\"))\n",
    "print(dummy_str.endswith(\"s\"))"
   ]
  },
  {
   "cell_type": "markdown",
   "metadata": {
    "slideshow": {
     "slide_type": "subslide"
    }
   },
   "source": [
    "In many cases, the extrimities of a string can contain undesired whitespaces which can be problematic, especially when checking them. In this case, it can be a good idea to call the method `strip()` which will remove trailing whitespaces:"
   ]
  },
  {
   "cell_type": "code",
   "execution_count": 13,
   "metadata": {
    "slideshow": {
     "slide_type": "-"
    }
   },
   "outputs": [
    {
     "name": "stdout",
     "output_type": "stream",
     "text": [
      "|   bonjour Ã  tous |\n",
      "|bonjour Ã  tous|\n",
      "|   bonjour Ã  tous |\n"
     ]
    }
   ],
   "source": [
    "dummy_str = \"   bonjour Ã  tous \"\n",
    "print('|' + dummy_str + '|')\n",
    "print('|' + dummy_str.strip() + '|')\n",
    "print('|' + dummy_str + '|')"
   ]
  },
  {
   "cell_type": "markdown",
   "metadata": {
    "slideshow": {
     "slide_type": "subslide"
    }
   },
   "source": [
    "You can also check the case of a string:"
   ]
  },
  {
   "cell_type": "code",
   "execution_count": 15,
   "metadata": {
    "slideshow": {
     "slide_type": "-"
    }
   },
   "outputs": [
    {
     "name": "stdout",
     "output_type": "stream",
     "text": [
      "True\n",
      "Bonjour Ã  tous\n",
      "False\n"
     ]
    }
   ],
   "source": [
    "dummy_str = dummy_str.lower()\n",
    "print(dummy_str.islower())\n",
    "\n",
    "dummy_str = dummy_str.strip().capitalize()\n",
    "print(dummy_str)\n",
    "print(dummy_str.islower())"
   ]
  },
  {
   "cell_type": "markdown",
   "metadata": {
    "slideshow": {
     "slide_type": "subslide"
    }
   },
   "source": [
    "It is also possible to verify that a string contains a number using `isnumeric()`:"
   ]
  },
  {
   "cell_type": "code",
   "execution_count": null,
   "metadata": {
    "slideshow": {
     "slide_type": "-"
    }
   },
   "outputs": [],
   "source": [
    "dummy_str = \"A number: 42\"\n",
    "print(dummy_str.isnumeric())\n",
    "dummy_str = \"42\"\n",
    "print(dummy_str.isnumeric())"
   ]
  },
  {
   "cell_type": "markdown",
   "metadata": {
    "slideshow": {
     "slide_type": "slide"
    }
   },
   "source": [
    "#### Splitting\n",
    "There is a method to break a string in chunks (e.g. words): `split()`. By default, it will split the strings around spaces. However, it is possible to specify a separator string (or character) `x` using `split(sep=x)`.\n",
    "\n",
    "This method will return a list of the different chunks:"
   ]
  },
  {
   "cell_type": "code",
   "execution_count": null,
   "metadata": {
    "slideshow": {
     "slide_type": "-"
    }
   },
   "outputs": [],
   "source": [
    "dummy_str = \"bonjour Ã  tous\"\n",
    "print(dummy_str.split())\n",
    "\n",
    "dummy_str = \"One, two, three\"\n",
    "print(dummy_str.split(sep=\", \"))"
   ]
  },
  {
   "cell_type": "markdown",
   "metadata": {
    "slideshow": {
     "slide_type": "slide"
    }
   },
   "source": [
    "#### Joining\n",
    "Finally, you can join strings in an iterable element (e.g. a list) to a single string using the `join()` method. Careful: this method needs to be called on the string that will actually join the strings in the iterable:"
   ]
  },
  {
   "cell_type": "code",
   "execution_count": 2,
   "metadata": {
    "slideshow": {
     "slide_type": "-"
    }
   },
   "outputs": [
    {
     "name": "stdout",
     "output_type": "stream",
     "text": [
      "One, two, three\n"
     ]
    }
   ],
   "source": [
    "str_list = [\"One\", \"two\", \"three\"]\n",
    "print(\", \".join(str_list))"
   ]
  },
  {
   "cell_type": "markdown",
   "metadata": {
    "slideshow": {
     "slide_type": "slide"
    }
   },
   "source": [
    "## 2) Input/output\n",
    "### 2.1) Reading from the terminal\n",
    "So far, we have only seen how to print information using the `print()` function. Of course, you can do much more I/O with Python (remember that it was one of the problem with ABC).\n",
    "\n",
    "Let's first review how you can read from the command line using the `input()` function:"
   ]
  },
  {
   "cell_type": "code",
   "execution_count": null,
   "metadata": {
    "slideshow": {
     "slide_type": "-"
    }
   },
   "outputs": [],
   "source": [
    "print(\"What is your name?\")\n",
    "name = input()\n",
    "print(f\"Hello {name}\")"
   ]
  },
  {
   "cell_type": "markdown",
   "metadata": {
    "slideshow": {
     "slide_type": "subslide"
    }
   },
   "source": [
    "As a shortcut, you can also put a prompt directly with the input function:"
   ]
  },
  {
   "cell_type": "code",
   "execution_count": null,
   "metadata": {
    "slideshow": {
     "slide_type": "-"
    }
   },
   "outputs": [],
   "source": [
    "name = input(\"What is your name?\\n\")\n",
    "print(f\"Hello {name}\")"
   ]
  },
  {
   "cell_type": "markdown",
   "metadata": {
    "slideshow": {
     "slide_type": "slide"
    }
   },
   "source": [
    "### 2.2) File manipulation\n",
    "Python makes it rather easy to read or write to files. As an example, let's first create a file (note: in jupyter, any line starting with `!` will be interepreted as a bash command:"
   ]
  },
  {
   "cell_type": "code",
   "execution_count": null,
   "metadata": {
    "slideshow": {
     "slide_type": "-"
    }
   },
   "outputs": [],
   "source": [
    "!echo 'Bonjour les M1:\\n- IAD\\n- VMI' >> test_file.txt"
   ]
  },
  {
   "cell_type": "markdown",
   "metadata": {
    "slideshow": {
     "slide_type": "subslide"
    }
   },
   "source": [
    "Now we can use the function `open(filename)` to open the file. It will return a file object which can be manipulated. Of course `filename` is the name of your file (in a relative or absolute path). Be careful, this is plateform dependant. In addition, this command is often used using the `mode` argument indicating how the file object can be used. The mode can be:\n",
    "* `'r'` for reading\n",
    "* `'w'` for writing with truncation\n",
    "* `'a'` for writing at the end of the file\n",
    "* `'x'` for writing a file that does not exist yet (note: both 'w' and 'a' would work in this case, but 'x' will fail if the file already exist)\n",
    "\n",
    "In addition, you can add `'+'` to any of these modes to open the file for both reading and writing\n",
    "Finally, you can sepcify if the file is binary (`'b'`) or a text file (`'t'`)\n",
    "\n",
    "By default, it will open the file for reading and consider it as a text file.\n",
    "\n",
    "Importantly, you should never forget to close a file using the methode `close()` on the file object:"
   ]
  },
  {
   "cell_type": "code",
   "execution_count": null,
   "metadata": {
    "slideshow": {
     "slide_type": "subslide"
    }
   },
   "outputs": [],
   "source": [
    "my_file = open(\"test_file.txt\")\n",
    "my_file.close()"
   ]
  },
  {
   "cell_type": "markdown",
   "metadata": {
    "slideshow": {
     "slide_type": "subslide"
    }
   },
   "source": [
    "There are several methods to read a file. The most basic one is... `read()`;\u001c",
    " let's use it:"
   ]
  },
  {
   "cell_type": "code",
   "execution_count": 3,
   "metadata": {
    "slideshow": {
     "slide_type": "-"
    }
   },
   "outputs": [
    {
     "ename": "FileNotFoundError",
     "evalue": "[Errno 2] No such file or directory: 'test_file.txt'",
     "output_type": "error",
     "traceback": [
      "\u001b[0;31m---------------------------------------------------------------------------\u001b[0m",
      "\u001b[0;31mFileNotFoundError\u001b[0m                         Traceback (most recent call last)",
      "Cell \u001b[0;32mIn[3], line 1\u001b[0m\n\u001b[0;32m----> 1\u001b[0m my_file \u001b[38;5;241m=\u001b[39m \u001b[38;5;28;43mopen\u001b[39;49m\u001b[43m(\u001b[49m\u001b[38;5;124;43m\"\u001b[39;49m\u001b[38;5;124;43mtest_file.txt\u001b[39;49m\u001b[38;5;124;43m\"\u001b[39;49m\u001b[43m)\u001b[49m\n\u001b[1;32m      2\u001b[0m content \u001b[38;5;241m=\u001b[39m my_file\u001b[38;5;241m.\u001b[39mread()\n\u001b[1;32m      3\u001b[0m my_file\u001b[38;5;241m.\u001b[39mclose()\n",
      "File \u001b[0;32m/data/user/0/ru.iiec.pydroid3/files/aarch64-linux-android/lib/python3.9/site-packages/IPython/core/interactiveshell.py:282\u001b[0m, in \u001b[0;36m_modified_open\u001b[0;34m(file, *args, **kwargs)\u001b[0m\n\u001b[1;32m    275\u001b[0m \u001b[38;5;28;01mif\u001b[39;00m file \u001b[38;5;129;01min\u001b[39;00m {\u001b[38;5;241m0\u001b[39m, \u001b[38;5;241m1\u001b[39m, \u001b[38;5;241m2\u001b[39m}:\n\u001b[1;32m    276\u001b[0m     \u001b[38;5;28;01mraise\u001b[39;00m \u001b[38;5;167;01mValueError\u001b[39;00m(\n\u001b[1;32m    277\u001b[0m         \u001b[38;5;124mf\u001b[39m\u001b[38;5;124m\"\u001b[39m\u001b[38;5;124mIPython won\u001b[39m\u001b[38;5;124m'\u001b[39m\u001b[38;5;124mt let you open fd=\u001b[39m\u001b[38;5;132;01m{\u001b[39;00mfile\u001b[38;5;132;01m}\u001b[39;00m\u001b[38;5;124m by default \u001b[39m\u001b[38;5;124m\"\u001b[39m\n\u001b[1;32m    278\u001b[0m         \u001b[38;5;124m\"\u001b[39m\u001b[38;5;124mas it is likely to crash IPython. If you know what you are doing, \u001b[39m\u001b[38;5;124m\"\u001b[39m\n\u001b[1;32m    279\u001b[0m         \u001b[38;5;124m\"\u001b[39m\u001b[38;5;124myou can use builtins\u001b[39m\u001b[38;5;124m'\u001b[39m\u001b[38;5;124m open.\u001b[39m\u001b[38;5;124m\"\u001b[39m\n\u001b[1;32m    280\u001b[0m     )\n\u001b[0;32m--> 282\u001b[0m \u001b[38;5;28;01mreturn\u001b[39;00m io_open(file, \u001b[38;5;241m*\u001b[39margs, \u001b[38;5;241m*\u001b[39m\u001b[38;5;241m*\u001b[39mkwargs)\n",
      "\u001b[0;31mFileNotFoundError\u001b[0m: [Errno 2] No such file or directory: 'test_file.txt'"
     ]
    }
   ],
   "source": [
    "my_file = open(\"test_file.txt\")\n",
    "content = my_file.read()\n",
    "my_file.close()\n",
    "print(content)"
   ]
  },
  {
   "cell_type": "markdown",
   "metadata": {
    "slideshow": {
     "slide_type": "subslide"
    }
   },
   "source": [
    "Before going further, note that this notation is quite heavy. Instead of explicitely calling `close()` (and potentially... forgetting) you can use the `with` statement:"
   ]
  },
  {
   "cell_type": "code",
   "execution_count": null,
   "metadata": {
    "slideshow": {
     "slide_type": "-"
    }
   },
   "outputs": [],
   "source": [
    "with open(\"test_file.txt\") as my_file:\n",
    "    content = my_file.read()\n",
    "print(content)"
   ]
  },
  {
   "cell_type": "markdown",
   "metadata": {
    "slideshow": {
     "slide_type": "subslide"
    }
   },
   "source": [
    "If you are not convinced, you can check that a file is closed with the `closed()` method:"
   ]
  },
  {
   "cell_type": "code",
   "execution_count": null,
   "metadata": {
    "slideshow": {
     "slide_type": "-"
    }
   },
   "outputs": [],
   "source": [
    "with open(\"test_file.txt\") as my_file:\n",
    "    content = my_file.read()\n",
    "    print(my_file.closed)\n",
    "print(my_file.closed) #Note: do not do that, my_file might not be defined"
   ]
  },
  {
   "cell_type": "markdown",
   "metadata": {
    "slideshow": {
     "slide_type": "subslide"
    }
   },
   "source": [
    "We have seen how to read a file using `read()`. Two more methods can be useful: `readline()` and `readlines()`:"
   ]
  },
  {
   "cell_type": "code",
   "execution_count": null,
   "metadata": {
    "slideshow": {
     "slide_type": "-"
    }
   },
   "outputs": [],
   "source": [
    "with open(\"test_file.txt\") as my_file:\n",
    "    line = my_file.readline()\n",
    "    while line:\n",
    "        print(line, end=\"\")\n",
    "        line = my_file.readline()\n",
    "    my_file.seek(0)\n",
    "    lines = my_file.readlines()\n",
    "    print(lines)\n",
    "        "
   ]
  },
  {
   "cell_type": "markdown",
   "metadata": {
    "slideshow": {
     "slide_type": "subslide"
    }
   },
   "source": [
    "There are two things to note here:\n",
    "* these methods do not remove the trailing newline character\n",
    "* we used the `seek()` method that you should know from C\n",
    "\n",
    "Finally, note that a file is an iterable. Therefore, there is one more elegant way to read a file:"
   ]
  },
  {
   "cell_type": "code",
   "execution_count": null,
   "metadata": {
    "slideshow": {
     "slide_type": "-"
    }
   },
   "outputs": [],
   "source": [
    "with open(\"test_file.txt\") as my_file:\n",
    "    for line in my_file:\n",
    "        print(line, end='')"
   ]
  },
  {
   "cell_type": "markdown",
   "metadata": {
    "slideshow": {
     "slide_type": "subslide"
    }
   },
   "source": [
    "To write to a file, you can use the method `write()`. Do not forget to open your file in an appropriate mode:"
   ]
  },
  {
   "cell_type": "code",
   "execution_count": null,
   "metadata": {
    "slideshow": {
     "slide_type": "-"
    }
   },
   "outputs": [],
   "source": [
    "with open(\"test_file.txt\", \"a\") as my_file:\n",
    "    my_file.write(\"...\")\n",
    "    \n",
    "with open(\"test_file.txt\") as my_file:\n",
    "    for line in my_file:\n",
    "        print(line, end='')"
   ]
  },
  {
   "cell_type": "markdown",
   "metadata": {
    "slideshow": {
     "slide_type": "-"
    }
   },
   "source": [
    "Of course, you can use everything we have seen on strings here!"
   ]
  },
  {
   "cell_type": "markdown",
   "metadata": {
    "slideshow": {
     "slide_type": "slide"
    }
   },
   "source": [
    "## 3) Functions\n",
    "\n",
    "In most programming languages, functions are an unavoidable way to organize the code and reduce code duplication. Python is no exception. We have seen many examples of functions so far: `print`, `max`, `open`... These functions, as we have seen, are \"built-in\". We are now going to see how we can define our own functions.\n",
    "\n",
    "To define a function with Python, you need to use the keyword `def` followed by the name of the function, the argument list and a `:`:"
   ]
  },
  {
   "cell_type": "code",
   "execution_count": 4,
   "metadata": {
    "slideshow": {
     "slide_type": "subslide"
    }
   },
   "outputs": [
    {
     "name": "stdout",
     "output_type": "stream",
     "text": [
      "=====================\n",
      "= Bonjour Ã  tous!! =\n",
      "=====================\n"
     ]
    }
   ],
   "source": [
    "def boxed_print(to_print, boxing_character):\n",
    "    print(boxing_character * (len(to_print) + 4))\n",
    "    print(boxing_character + \" \" + to_print + \" \" + boxing_character)\n",
    "    print(boxing_character * (len(to_print) + 4))\n",
    "    \n",
    "boxed_print(\"Bonjour Ã  tous!!\", \"=\")"
   ]
  },
  {
   "cell_type": "markdown",
   "metadata": {
    "slideshow": {
     "slide_type": "subslide"
    }
   },
   "source": [
    "As you have seen, you can take several arguments (in this example, 2) and you define your function as a block. For your function to return a value, you need to use the return statement (careful, this is NOT a function)."
   ]
  },
  {
   "cell_type": "code",
   "execution_count": null,
   "metadata": {
    "slideshow": {
     "slide_type": "-"
    }
   },
   "outputs": [],
   "source": [
    "def identity(a):\n",
    "    return a"
   ]
  },
  {
   "cell_type": "markdown",
   "metadata": {
    "slideshow": {
     "slide_type": "subslide"
    }
   },
   "source": [
    "As you can see from our first example, this statement is optional: a function does not have to return something. It can return any type of object including non basic types:"
   ]
  },
  {
   "cell_type": "code",
   "execution_count": 5,
   "metadata": {
    "slideshow": {
     "slide_type": "-"
    }
   },
   "outputs": [
    {
     "name": "stdout",
     "output_type": "stream",
     "text": [
      "[3, 'a', [42]]\n",
      "6\n"
     ]
    }
   ],
   "source": [
    "def build_list():\n",
    "    return [3, \"a\", [42]]\n",
    "\n",
    "def get_max_function():\n",
    "    return max\n",
    "\n",
    "print(build_list())\n",
    "print(get_max_function()([3,4,5,6]))"
   ]
  },
  {
   "cell_type": "markdown",
   "metadata": {
    "slideshow": {
     "slide_type": "subslide"
    }
   },
   "source": [
    "When you omit the return statement, the function is actually returning None, a special value designating the absence of value. Therefore, the two following functions are equivalent:"
   ]
  },
  {
   "cell_type": "code",
   "execution_count": 6,
   "metadata": {
    "slideshow": {
     "slide_type": "-"
    }
   },
   "outputs": [
    {
     "name": "stdout",
     "output_type": "stream",
     "text": [
      "None\n",
      "None\n"
     ]
    }
   ],
   "source": [
    "def nothing_a():\n",
    "    pass #i.e. do nothing\n",
    "\n",
    "def nothing_b():\n",
    "    pass\n",
    "    return None\n",
    "\n",
    "print(nothing_a())\n",
    "print(nothing_b())"
   ]
  },
  {
   "cell_type": "markdown",
   "metadata": {
    "slideshow": {
     "slide_type": "subslide"
    }
   },
   "source": [
    "Due to its dynamic typing feature, you do not need to provide the type of the argument, nor the return type. This makes it particularly handy for generic programming:"
   ]
  },
  {
   "cell_type": "code",
   "execution_count": 7,
   "metadata": {
    "slideshow": {
     "slide_type": "-"
    }
   },
   "outputs": [
    {
     "name": "stdout",
     "output_type": "stream",
     "text": [
      "7\n",
      "7.4\n",
      "blabli\n"
     ]
    },
    {
     "ename": "TypeError",
     "evalue": "can only concatenate str (not \"int\") to str",
     "output_type": "error",
     "traceback": [
      "\u001b[0;31m---------------------------------------------------------------------------\u001b[0m",
      "\u001b[0;31mTypeError\u001b[0m                                 Traceback (most recent call last)",
      "Cell \u001b[0;32mIn[7], line 7\u001b[0m\n\u001b[1;32m      5\u001b[0m \u001b[38;5;28mprint\u001b[39m(add(\u001b[38;5;241m3.2\u001b[39m, \u001b[38;5;241m4.2\u001b[39m))\n\u001b[1;32m      6\u001b[0m \u001b[38;5;28mprint\u001b[39m(add(\u001b[38;5;124m\"\u001b[39m\u001b[38;5;124mbla\u001b[39m\u001b[38;5;124m\"\u001b[39m, \u001b[38;5;124m\"\u001b[39m\u001b[38;5;124mbli\u001b[39m\u001b[38;5;124m\"\u001b[39m))\n\u001b[0;32m----> 7\u001b[0m \u001b[38;5;28mprint\u001b[39m(\u001b[43madd\u001b[49m\u001b[43m(\u001b[49m\u001b[38;5;124;43m\"\u001b[39;49m\u001b[38;5;124;43mbla\u001b[39;49m\u001b[38;5;124;43m\"\u001b[39;49m\u001b[43m,\u001b[49m\u001b[43m \u001b[49m\u001b[38;5;241;43m3\u001b[39;49m\u001b[43m)\u001b[49m)\n",
      "Cell \u001b[0;32mIn[7], line 2\u001b[0m, in \u001b[0;36madd\u001b[0;34m(a, b)\u001b[0m\n\u001b[1;32m      1\u001b[0m \u001b[38;5;28;01mdef\u001b[39;00m \u001b[38;5;21madd\u001b[39m(a, b):\n\u001b[0;32m----> 2\u001b[0m     \u001b[38;5;28;01mreturn\u001b[39;00m \u001b[43ma\u001b[49m\u001b[43m \u001b[49m\u001b[38;5;241;43m+\u001b[39;49m\u001b[43m \u001b[49m\u001b[43mb\u001b[49m\n",
      "\u001b[0;31mTypeError\u001b[0m: can only concatenate str (not \"int\") to str"
     ]
    }
   ],
   "source": [
    "def add(a, b):\n",
    "    return a + b\n",
    "\n",
    "print(add(3, 4))\n",
    "print(add(3.2, 4.2))\n",
    "print(add(\"bla\", \"bli\"))\n",
    "print(add(\"bla\", 3))"
   ]
  },
  {
   "cell_type": "markdown",
   "metadata": {
    "slideshow": {
     "slide_type": "subslide"
    }
   },
   "source": [
    "It is also possible to use 'keyword arguments' for a function. Once again let's consider our fancy printing function:"
   ]
  },
  {
   "cell_type": "code",
   "execution_count": null,
   "metadata": {
    "slideshow": {
     "slide_type": "-"
    }
   },
   "outputs": [],
   "source": [
    "def boxed_print(to_print, boxing_character):\n",
    "    print(boxing_character * (len(to_print) + 4))\n",
    "    print(boxing_character + \" \" + to_print + \" \" + boxing_character)\n",
    "    print(boxing_character * (len(to_print) + 4))\n",
    "    \n",
    "boxed_print(to_print = \"Bonjour Ã  tous!!\", boxing_character = \"=\")\n",
    "boxed_print(boxing_character = \"=\", to_print = \"Bonjour Ã  tous!!\")"
   ]
  },
  {
   "cell_type": "markdown",
   "metadata": {
    "slideshow": {
     "slide_type": "subslide"
    }
   },
   "source": [
    "As you can see, in this case, we do not have to put the argument list in order. This can be particularly useful to make the source code more explicit. Furthermore, it can also be used to provide default arguments. Going back to our function:"
   ]
  },
  {
   "cell_type": "code",
   "execution_count": null,
   "metadata": {
    "slideshow": {
     "slide_type": "-"
    }
   },
   "outputs": [],
   "source": [
    "def boxed_print(to_print, boxing_character=\"*\"):\n",
    "    print(boxing_character * (len(to_print) + 4))\n",
    "    print(boxing_character + \" \" + to_print + \" \" + boxing_character)\n",
    "    print(boxing_character * (len(to_print) + 4))\n",
    "    \n",
    "boxed_print(\"Bonjour Ã  tous!!\")\n",
    "boxed_print(\"Bonjour Ã  tous!!\", boxing_character=\"=\")"
   ]
  },
  {
   "cell_type": "markdown",
   "metadata": {
    "slideshow": {
     "slide_type": "subslide"
    }
   },
   "source": [
    "In today's class, we will not see how to take a variable number of arguments, but know that it is possible.\n",
    "Finally, note that it is possible to define anonymous function, a.k.a. lambda function. Here is a simple example:"
   ]
  },
  {
   "cell_type": "code",
   "execution_count": null,
   "metadata": {
    "slideshow": {
     "slide_type": "-"
    }
   },
   "outputs": [],
   "source": [
    "(lambda x: x + 1)(3)"
   ]
  },
  {
   "cell_type": "markdown",
   "metadata": {
    "slideshow": {
     "slide_type": "slide"
    }
   },
   "source": [
    "## Modules\n",
    "So far, we only worked with maximum one python file: either directly (with a \\*.py file) or through a notebook (with a \\*.ipynb file). While this is totally OK, it can be problematic when tackling rather large projects. In this case, you would want to divide your code in several source files. Moreover, you will want to use code written by other programmers (e.g. libraries); for now, we only used code from the core language, built-ins and our own.\n",
    "\n",
    "To use code defined in another file, we need to use modules. We already encountered modules in the last lab when we did `import random`.\n",
    "\n",
    "A module is another python file, most often containing definitions (i.e. objects, functions) and instructions. When you import the module (i.e. you make it available to the current script), the instructions are executed once. Let's see a simple example, using the file testmod.py. As you can see, this file needs to be in the same folder (for now):"
   ]
  },
  {
   "cell_type": "code",
   "execution_count": null,
   "metadata": {
    "slideshow": {
     "slide_type": "subslide"
    }
   },
   "outputs": [],
   "source": [
    "!cat testmod.py"
   ]
  },
  {
   "cell_type": "markdown",
   "metadata": {
    "slideshow": {
     "slide_type": "subslide"
    }
   },
   "source": [
    "The module can now be imported using the `import` keyword. Note that it will run the instructions:"
   ]
  },
  {
   "cell_type": "code",
   "execution_count": null,
   "metadata": {
    "slideshow": {
     "slide_type": "-"
    }
   },
   "outputs": [],
   "source": [
    "import testmod"
   ]
  },
  {
   "cell_type": "markdown",
   "metadata": {
    "slideshow": {
     "slide_type": "subslide"
    }
   },
   "source": [
    "And the definitions can be accessed from our main script using the syntax `name_of_the_module.name_of_the_element`:"
   ]
  },
  {
   "cell_type": "code",
   "execution_count": null,
   "metadata": {
    "slideshow": {
     "slide_type": "-"
    }
   },
   "outputs": [],
   "source": [
    "testmod.where_are_we()"
   ]
  },
  {
   "cell_type": "markdown",
   "metadata": {
    "slideshow": {
     "slide_type": "subslide"
    }
   },
   "source": [
    "Of course, you can have several definitions (or instructions in a module). For instance, let's define a new, similar module `testmod2`:"
   ]
  },
  {
   "cell_type": "code",
   "execution_count": null,
   "metadata": {
    "slideshow": {
     "slide_type": "-"
    }
   },
   "outputs": [],
   "source": [
    "!cat testmod2.py"
   ]
  },
  {
   "cell_type": "code",
   "execution_count": null,
   "metadata": {
    "slideshow": {
     "slide_type": "subslide"
    }
   },
   "outputs": [],
   "source": [
    "import testmod2\n",
    "\n",
    "testmod2.where_are_we2()"
   ]
  },
  {
   "cell_type": "markdown",
   "metadata": {
    "slideshow": {
     "slide_type": "subslide"
    }
   },
   "source": [
    "Let's now look into more details at how we can import a module:\n",
    "\n",
    "First, you can rename the module:"
   ]
  },
  {
   "cell_type": "code",
   "execution_count": null,
   "metadata": {
    "slideshow": {
     "slide_type": "-"
    }
   },
   "outputs": [],
   "source": [
    "import testmod2 as tm\n",
    "\n",
    "tm.where_are_we2()"
   ]
  },
  {
   "cell_type": "markdown",
   "metadata": {
    "slideshow": {
     "slide_type": "subslide"
    }
   },
   "source": [
    "You can also import the definitions provided by the module in the local context, either by listing the definitions you want to import, or by using the keyword `*`:"
   ]
  },
  {
   "cell_type": "code",
   "execution_count": null,
   "metadata": {
    "slideshow": {
     "slide_type": "-"
    }
   },
   "outputs": [],
   "source": [
    "from testmod2 import where_are_we, where_are_we2\n",
    "from testmod2 import *\n",
    "\n",
    "where_are_we()"
   ]
  },
  {
   "cell_type": "code",
   "execution_count": null,
   "metadata": {
    "slideshow": {
     "slide_type": "subslide"
    }
   },
   "outputs": [],
   "source": [
    "!cat testmod3.py"
   ]
  },
  {
   "cell_type": "code",
   "execution_count": null,
   "metadata": {
    "slideshow": {
     "slide_type": "subslide"
    }
   },
   "outputs": [],
   "source": [
    "import testmod3\n",
    "\n",
    "testmod3.where_are_we2()"
   ]
  },
  {
   "cell_type": "markdown",
   "metadata": {
    "slideshow": {
     "slide_type": "subslide"
    }
   },
   "source": [
    "And this variable is defined on every python file, including this one. Therefore, we can test it:"
   ]
  },
  {
   "cell_type": "code",
   "execution_count": null,
   "metadata": {
    "slideshow": {
     "slide_type": "-"
    }
   },
   "outputs": [],
   "source": [
    "print(__name__)"
   ]
  },
  {
   "cell_type": "markdown",
   "metadata": {
    "slideshow": {
     "slide_type": "subslide"
    }
   },
   "source": [
    "Therefore, you can have different behavior depending on how your file is executed. For instance, take:"
   ]
  },
  {
   "cell_type": "code",
   "execution_count": null,
   "metadata": {
    "slideshow": {
     "slide_type": "-"
    }
   },
   "outputs": [],
   "source": [
    "!cat testmod4.py"
   ]
  },
  {
   "cell_type": "code",
   "execution_count": 16,
   "metadata": {
    "slideshow": {
     "slide_type": "subslide"
    }
   },
   "outputs": [
    {
     "name": "stdout",
     "output_type": "stream",
     "text": [
      "initializing the module...\n"
     ]
    }
   ],
   "source": [
    "import testmod4"
   ]
  },
  {
   "cell_type": "code",
   "execution_count": null,
   "metadata": {
    "slideshow": {
     "slide_type": "subslide"
    }
   },
   "outputs": [],
   "source": [
    "!python3.9 testmod4.py"
   ]
  },
  {
   "cell_type": "markdown",
   "metadata": {
    "slideshow": {
     "slide_type": "-"
    }
   },
   "source": [
    "This can be particularly helpful for testing."
   ]
  },
  {
   "cell_type": "markdown",
   "metadata": {
    "slideshow": {
     "slide_type": "slide"
    }
   },
   "source": [
    "## Conclusion\n",
    "Today we have seen:\n",
    "* More about strings\n",
    "* Input/Output\n",
    "* Functions\n",
    "* Modules\n",
    "\n",
    "On this last part, note that something important is that there are a lot of modules for Python"
   ]
  }
 ],
 "metadata": {
  "celltoolbar": "Slideshow",
  "kernelspec": {
   "display_name": "Python 3 (ipykernel)",
   "language": "python",
   "name": "python3"
  },
  "language_info": {
   "codemirror_mode": {
    "name": "ipython",
    "version": 3
   },
   "file_extension": ".py",
   "mimetype": "text/x-python",
   "name": "python",
   "nbconvert_exporter": "python",
   "pygments_lexer": "ipython3",
   "version": "3.9.7"
  }
 },
 "nbformat": 4,
 "nbformat_minor": 1
}
