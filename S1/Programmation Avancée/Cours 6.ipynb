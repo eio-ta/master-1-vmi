{
 "cells": [
  {
   "cell_type": "markdown",
   "metadata": {
    "pycharm": {
     "name": "#%%\n"
    },
    "slideshow": {
     "slide_type": "slide"
    }
   },
   "source": [
    "![logo.jpg](data:image/jpeg;base64,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)\n",
    "# Intro to Python - Class 3\n",
    "## Sylvain Lobry, 07/11/2022"
   ]
  },
  {
   "cell_type": "markdown",
   "metadata": {
    "slideshow": {
     "slide_type": "slide"
    }
   },
   "source": [
    "In today's class, we will see:\n",
    "* Some useful modules\n",
    "* List - Part 2\n",
    "* Data structures"
   ]
  },
  {
   "cell_type": "markdown",
   "metadata": {
    "slideshow": {
     "slide_type": "slide"
    }
   },
   "source": [
    "## 1 Modules - part 2"
   ]
  },
  {
   "cell_type": "markdown",
   "metadata": {
    "slideshow": {
     "slide_type": "-"
    }
   },
   "source": [
    "### Modules to know\n",
    "In this section, we briefly review some modules in python standard library that you are likely to need. Of course, this is not an exhaustive list, either regarding the modules or their contents."
   ]
  },
  {
   "cell_type": "markdown",
   "metadata": {
    "slideshow": {
     "slide_type": "subslide"
    }
   },
   "source": [
    "As a note, there are two main reasons that you would want to use modules from the standard library:\n",
    "* The obvious one: to extend functionality\n",
    "* The less obvious one: it executes in general faster than what you could program easily"
   ]
  },
  {
   "cell_type": "markdown",
   "metadata": {
    "slideshow": {
     "slide_type": "slide"
    }
   },
   "source": [
    "#### Math\n",
    "Link to [documentation](https://docs.python.org/3/library/math.html).\n",
    "\n",
    "The math module defines many mathematical functions and constants that you will need in both of your work domains (VMI and IAD). It is following the C standard that most of you already know, and most functions are actually bindings to the C implementation. As a result, even when you could programm it yourself, using these functions would be more efficient than a naive implementation.\n",
    "\n",
    "To use it, you obviously first need to import it:"
   ]
  },
  {
   "cell_type": "code",
   "execution_count": 1,
   "metadata": {
    "slideshow": {
     "slide_type": "-"
    }
   },
   "outputs": [],
   "source": [
    "import math\n"
   ]
  },
  {
   "cell_type": "markdown",
   "metadata": {
    "slideshow": {
     "slide_type": "subslide"
    }
   },
   "source": [
    "You can then use the constants:"
   ]
  },
  {
   "cell_type": "code",
   "execution_count": 2,
   "metadata": {
    "slideshow": {
     "slide_type": "-"
    }
   },
   "outputs": [
    {
     "name": "stdout",
     "output_type": "stream",
     "text": [
      "3.141592653589793\n",
      "2.718281828459045\n",
      "inf\n",
      "nan\n"
     ]
    }
   ],
   "source": [
    "print(math.pi)\n",
    "print(math.e)\n",
    "print(math.inf)\n",
    "print(math.nan)"
   ]
  },
  {
   "cell_type": "markdown",
   "metadata": {
    "slideshow": {
     "slide_type": "subslide"
    }
   },
   "source": [
    "And functions from the C library:"
   ]
  },
  {
   "cell_type": "code",
   "execution_count": 3,
   "metadata": {
    "slideshow": {
     "slide_type": "-"
    }
   },
   "outputs": [
    {
     "name": "stdout",
     "output_type": "stream",
     "text": [
      "1.0\n",
      "1.0\n"
     ]
    }
   ],
   "source": [
    "#Trigo\n",
    "print(math.sin(math.pi/2))\n",
    "print(math.cos(0))"
   ]
  },
  {
   "cell_type": "code",
   "execution_count": 4,
   "metadata": {
    "slideshow": {
     "slide_type": "subslide"
    }
   },
   "outputs": [
    {
     "name": "stdout",
     "output_type": "stream",
     "text": [
      "2.718281828459045\n",
      "3.0\n",
      "3.0\n"
     ]
    }
   ],
   "source": [
    "#Power and log\n",
    "print(math.exp(math.log(math.e)))\n",
    "print(math.pow(9, 1/2))\n",
    "print(math.sqrt(9))"
   ]
  },
  {
   "cell_type": "code",
   "execution_count": 5,
   "metadata": {
    "slideshow": {
     "slide_type": "subslide"
    }
   },
   "outputs": [
    {
     "name": "stdout",
     "output_type": "stream",
     "text": [
      "3\n",
      "2\n",
      "6\n"
     ]
    }
   ],
   "source": [
    "#Other\n",
    "print(math.ceil(math.e))\n",
    "print(math.floor(math.e))\n",
    "print(math.factorial(3))"
   ]
  },
  {
   "cell_type": "markdown",
   "metadata": {
    "slideshow": {
     "slide_type": "slide"
    }
   },
   "source": [
    "#### Random\n",
    "Link to [documentation](https://docs.python.org/3/library/random.html).\n",
    "\n",
    "The random module is useful to generate pseudo-random numbers. It is important to note that this generator is deterministic!\n",
    "\n",
    "It is first initialized using a seed, which can be `None` or an `int` (other types can be put, and will be cast to `int` internally). If the seed is `None` current time will be used.\n"
   ]
  },
  {
   "cell_type": "code",
   "execution_count": 6,
   "metadata": {
    "slideshow": {
     "slide_type": "-"
    }
   },
   "outputs": [],
   "source": [
    "import random\n",
    "\n",
    "random.seed() #use the current time\n",
    "random.seed(42) #use a specific seed"
   ]
  },
  {
   "cell_type": "markdown",
   "metadata": {
    "slideshow": {
     "slide_type": "subslide"
    }
   },
   "source": [
    "To generate a random integer, you can use randint(start, stop) which will return an integer between start and stop (included)"
   ]
  },
  {
   "cell_type": "code",
   "execution_count": 7,
   "metadata": {
    "slideshow": {
     "slide_type": "-"
    }
   },
   "outputs": [
    {
     "name": "stdout",
     "output_type": "stream",
     "text": [
      "6\n",
      "1\n",
      "1\n",
      "6\n",
      "3\n"
     ]
    }
   ],
   "source": [
    "for i in range(5):\n",
    "    print(random.randint(1, 6))"
   ]
  },
  {
   "cell_type": "markdown",
   "metadata": {
    "slideshow": {
     "slide_type": "subslide"
    }
   },
   "source": [
    "There are a lot of options to generate random number from continuous distributions. However, it is often sufficient to use random() which will simply return a number between 0 and 1:"
   ]
  },
  {
   "cell_type": "code",
   "execution_count": 8,
   "metadata": {
    "slideshow": {
     "slide_type": "-"
    }
   },
   "outputs": [
    {
     "name": "stdout",
     "output_type": "stream",
     "text": [
      "0.24489185380347622\n",
      "0.1395379285251439\n",
      "0.1024951761715075\n",
      "0.7406677446676758\n",
      "0.5453665337483498\n"
     ]
    }
   ],
   "source": [
    "for i in range(5):\n",
    "    print(random.random())"
   ]
  },
  {
   "cell_type": "markdown",
   "metadata": {
    "slideshow": {
     "slide_type": "subslide"
    }
   },
   "source": [
    "Finally, note that Python's random module offers functions to randomize sequences. For instance, random.shuffle() will shuffle a list in place:"
   ]
  },
  {
   "cell_type": "code",
   "execution_count": 9,
   "metadata": {
    "slideshow": {
     "slide_type": "-"
    }
   },
   "outputs": [
    {
     "name": "stdout",
     "output_type": "stream",
     "text": [
      "[0, 1, 2, 3, 4, 5, 6, 7, 8, 9]\n",
      "[3, 5, 2, 4, 1, 8, 7, 0, 6, 9]\n"
     ]
    }
   ],
   "source": [
    "my_list = list(range(10))\n",
    "print(my_list)\n",
    "random.shuffle(my_list)\n",
    "print(my_list)"
   ]
  },
  {
   "cell_type": "markdown",
   "metadata": {
    "slideshow": {
     "slide_type": "subslide"
    }
   },
   "source": [
    "#### Sys\n",
    "Link to [documentation](https://docs.python.org/3/library/sys.html).\n",
    "\n",
    "This module allows to interact with the current interpreter. For instance, we can see which modules have been loaded in the interpreter so far, or which paths are used to search for modules (you will need that!!)"
   ]
  },
  {
   "cell_type": "code",
   "execution_count": 10,
   "metadata": {
    "slideshow": {
     "slide_type": "-"
    }
   },
   "outputs": [
    {
     "name": "stdout",
     "output_type": "stream",
     "text": [
      "True\n"
     ]
    }
   ],
   "source": [
    "import sys\n",
    "\n",
    "print('random' in sys.modules)\n",
    "#print(sys.path)"
   ]
  },
  {
   "cell_type": "markdown",
   "metadata": {
    "slideshow": {
     "slide_type": "subslide"
    }
   },
   "source": [
    "You will also often need `sys.argv` which contains the list of arguments with which the program was called (similarly to C). Note that there is no `sys.argc`, as it can be obtained with `len(sys.argv)`."
   ]
  },
  {
   "cell_type": "markdown",
   "metadata": {
    "slideshow": {
     "slide_type": "slide"
    }
   },
   "source": [
    "#### Os\n",
    "Link to [documentation](https://docs.python.org/3/library/os.html).\n",
    "\n",
    "You likely came across portability issues in previous projects. Python provides a module allowing to use operating system functionalities in a plateform agnostic way.\n",
    "\n",
    "For instance, you can get the current working directory with `os.getcwd()` or change it with `os.chdir(path)`.\n",
    "\n",
    "Path are indeed one of the first difference generally seen between Unix and Windows systems. Python provides a specific submodule for that with `os.path`. For instance, `os.path.join()` will join path components in a system dependent way. Try executing the following on your machine: \n",
    "\n"
   ]
  },
  {
   "cell_type": "code",
   "execution_count": 11,
   "metadata": {
    "slideshow": {
     "slide_type": "-"
    }
   },
   "outputs": [
    {
     "data": {
      "text/plain": [
       "'/Users/slobry/PycharmProjects/pythonProject/venv/lib/python3.9/site-packages/ipykernel_launcher.py'"
      ]
     },
     "execution_count": 11,
     "metadata": {},
     "output_type": "execute_result"
    }
   ],
   "source": [
    "import os\n",
    "os.path.join(os.getcwd(), sys.argv[0])"
   ]
  },
  {
   "cell_type": "markdown",
   "metadata": {
    "slideshow": {
     "slide_type": "subslide"
    }
   },
   "source": [
    "You can also list files in a directory (`os.listdir()`), create a directory (`os.mkdir()`), test the presence of a file (`os.path.exists()`), ..."
   ]
  },
  {
   "cell_type": "markdown",
   "metadata": {
    "slideshow": {
     "slide_type": "slide"
    }
   },
   "source": [
    "## 2 Lists - part 2\n",
    "### 2.1 Advanced methods\n",
    "We have already seen a few methods that apply to lists, but I wanted to show you new ones, which can be useful in specific cases."
   ]
  },
  {
   "cell_type": "markdown",
   "metadata": {
    "slideshow": {
     "slide_type": "subslide"
    }
   },
   "source": [
    "#### Modifying lists\n",
    "We have already seen the `append()` method to add an element at the end of a list. It is possible to add an element at any given position with the `insert(pos, elt)` method:"
   ]
  },
  {
   "cell_type": "code",
   "execution_count": 12,
   "metadata": {
    "slideshow": {
     "slide_type": "-"
    }
   },
   "outputs": [
    {
     "name": "stdout",
     "output_type": "stream",
     "text": [
      "[0, 1, 2, 3, 4, 5, 6, 7, 8, 9]\n",
      "[0, 1, 42, 2, 3, 4, 5, 6, 7, 8, 9]\n"
     ]
    }
   ],
   "source": [
    "my_list = list(range(10))\n",
    "print(my_list)\n",
    "my_list.insert(2, 42)\n",
    "print(my_list)"
   ]
  },
  {
   "cell_type": "markdown",
   "metadata": {
    "slideshow": {
     "slide_type": "subslide"
    }
   },
   "source": [
    "Elements can be deleted using the `del` keyword:"
   ]
  },
  {
   "cell_type": "code",
   "execution_count": 13,
   "metadata": {
    "slideshow": {
     "slide_type": "-"
    }
   },
   "outputs": [
    {
     "name": "stdout",
     "output_type": "stream",
     "text": [
      "[0, 1, 42, 2, 3, 4, 5, 6, 7, 8, 9]\n",
      "[0, 1, 2, 3, 4, 5, 6, 7, 8, 9]\n"
     ]
    }
   ],
   "source": [
    "print(my_list)\n",
    "del my_list[2]\n",
    "print(my_list)"
   ]
  },
  {
   "cell_type": "markdown",
   "metadata": {
    "slideshow": {
     "slide_type": "subslide"
    }
   },
   "source": [
    "Finally, you can also use the `remove(elt)` method to remove an element given its value:"
   ]
  },
  {
   "cell_type": "code",
   "execution_count": 14,
   "metadata": {
    "slideshow": {
     "slide_type": "-"
    }
   },
   "outputs": [
    {
     "name": "stdout",
     "output_type": "stream",
     "text": [
      "[0, 1, 2, 3, 4, 5, 6, 7, 8, 9]\n",
      "[0, 1, 2, 3, 4, 5, 6, 7, 8, 9, 5]\n",
      "[0, 1, 2, 3, 4, 6, 7, 8, 9, 5]\n"
     ]
    }
   ],
   "source": [
    "my_list = list(range(10))\n",
    "print(my_list)\n",
    "my_list.append(5)\n",
    "print(my_list)\n",
    "my_list.remove(5)\n",
    "print(my_list)"
   ]
  },
  {
   "cell_type": "markdown",
   "metadata": {
    "slideshow": {
     "slide_type": "subslide"
    }
   },
   "source": [
    "#### Re-aranging lists\n",
    "\n",
    "In addition to `random.shuffle()` seen earlier, let's look at two methods to re-arange a list. The first one is `reverse()` which, as you can guess, will reverse the list:"
   ]
  },
  {
   "cell_type": "code",
   "execution_count": 15,
   "metadata": {
    "slideshow": {
     "slide_type": "-"
    }
   },
   "outputs": [
    {
     "name": "stdout",
     "output_type": "stream",
     "text": [
      "[0, 1, 2, 3, 4, 5, 6, 7, 8, 9]\n",
      "[9, 8, 7, 6, 5, 4, 3, 2, 1, 0]\n"
     ]
    }
   ],
   "source": [
    "my_list = list(range(10))\n",
    "print(my_list)\n",
    "my_list.reverse()\n",
    "print(my_list)"
   ]
  },
  {
   "cell_type": "markdown",
   "metadata": {
    "slideshow": {
     "slide_type": "subslide"
    }
   },
   "source": [
    "You also have a `sort()` method available, which by default will sort the values in ascending order:"
   ]
  },
  {
   "cell_type": "code",
   "execution_count": 16,
   "metadata": {
    "slideshow": {
     "slide_type": "-"
    }
   },
   "outputs": [
    {
     "name": "stdout",
     "output_type": "stream",
     "text": [
      "[2, 4, 9, 7, 5, 0, 8, 3, 6, 1]\n",
      "[0, 1, 2, 3, 4, 5, 6, 7, 8, 9]\n"
     ]
    }
   ],
   "source": [
    "random.shuffle(my_list)\n",
    "print(my_list)\n",
    "my_list.sort()\n",
    "print(my_list)"
   ]
  },
  {
   "cell_type": "markdown",
   "metadata": {
    "slideshow": {
     "slide_type": "subslide"
    }
   },
   "source": [
    "This method has two optional arguments: the first one is reverse, which when True, will sort in descending order:"
   ]
  },
  {
   "cell_type": "code",
   "execution_count": 17,
   "metadata": {
    "slideshow": {
     "slide_type": "-"
    }
   },
   "outputs": [
    {
     "name": "stdout",
     "output_type": "stream",
     "text": [
      "[7, 8, 3, 0, 2, 9, 1, 4, 5, 6]\n",
      "[9, 8, 7, 6, 5, 4, 3, 2, 1, 0]\n"
     ]
    }
   ],
   "source": [
    "random.shuffle(my_list)\n",
    "print(my_list)\n",
    "my_list.sort(reverse=True)\n",
    "print(my_list)"
   ]
  },
  {
   "cell_type": "markdown",
   "metadata": {
    "slideshow": {
     "slide_type": "subslide"
    }
   },
   "source": [
    "The second is key, which can be set to a function which specifies the return criteria. For instance, let's say we want to order the following list based on the length of the string: "
   ]
  },
  {
   "cell_type": "code",
   "execution_count": 18,
   "metadata": {
    "slideshow": {
     "slide_type": "-"
    }
   },
   "outputs": [
    {
     "name": "stdout",
     "output_type": "stream",
     "text": [
      "['Bonjour', 'les', 'M1', 'IAD', 'et', 'VMI']\n",
      "['M1', 'et', 'les', 'IAD', 'VMI', 'Bonjour']\n"
     ]
    }
   ],
   "source": [
    "my_list = \"Bonjour les M1 IAD et VMI\".split()\n",
    "print(my_list)\n",
    "\n",
    "def sort_fun(x):\n",
    "    return len(x)\n",
    "\n",
    "my_list.sort(key=sort_fun)\n",
    "print(my_list)"
   ]
  },
  {
   "cell_type": "markdown",
   "metadata": {
    "slideshow": {
     "slide_type": "subslide"
    }
   },
   "source": [
    "Do you remember lambda functions? This is a typical example where it makes sense. The previous example can be rewritten as:"
   ]
  },
  {
   "cell_type": "code",
   "execution_count": 19,
   "metadata": {
    "slideshow": {
     "slide_type": "-"
    }
   },
   "outputs": [
    {
     "name": "stdout",
     "output_type": "stream",
     "text": [
      "['Bonjour', 'les', 'M1', 'IAD', 'et', 'VMI']\n",
      "['M1', 'et', 'les', 'IAD', 'VMI', 'Bonjour']\n"
     ]
    }
   ],
   "source": [
    "my_list = \"Bonjour les M1 IAD et VMI\".split()\n",
    "print(my_list)\n",
    "my_list.sort(key=lambda x: len(x))\n",
    "print(my_list)"
   ]
  },
  {
   "cell_type": "markdown",
   "metadata": {
    "slideshow": {
     "slide_type": "subslide"
    }
   },
   "source": [
    "And in this very specific case, we could write:"
   ]
  },
  {
   "cell_type": "code",
   "execution_count": 20,
   "metadata": {
    "slideshow": {
     "slide_type": "-"
    }
   },
   "outputs": [
    {
     "name": "stdout",
     "output_type": "stream",
     "text": [
      "['Bonjour', 'les', 'M1', 'IAD', 'et', 'VMI']\n",
      "['M1', 'et', 'les', 'IAD', 'VMI', 'Bonjour']\n"
     ]
    }
   ],
   "source": [
    "my_list = \"Bonjour les M1 IAD et VMI\".split()\n",
    "print(my_list)\n",
    "my_list.sort(key=len)\n",
    "print(my_list)"
   ]
  },
  {
   "cell_type": "markdown",
   "metadata": {
    "slideshow": {
     "slide_type": "slide"
    }
   },
   "source": [
    "### 2.2 List comprehension\n",
    "We are now going to see a typical Python syntax which allows to create a new list based on conditions on an iterable. Let's introduce it with an example: if you want to create a list with odd numbers for 0 to 10, you could do:"
   ]
  },
  {
   "cell_type": "code",
   "execution_count": 21,
   "metadata": {
    "slideshow": {
     "slide_type": "-"
    }
   },
   "outputs": [
    {
     "name": "stdout",
     "output_type": "stream",
     "text": [
      "[1, 3, 5, 7, 9]\n"
     ]
    }
   ],
   "source": [
    "my_list = []\n",
    "\n",
    "for i in range(10+1):\n",
    "    if i % 2 == 1:\n",
    "        my_list.append(i)\n",
    "        \n",
    "print(my_list)"
   ]
  },
  {
   "cell_type": "markdown",
   "metadata": {
    "slideshow": {
     "slide_type": "subslide"
    }
   },
   "source": [
    "With list comprehension, you can simply do the following:"
   ]
  },
  {
   "cell_type": "code",
   "execution_count": 22,
   "metadata": {
    "slideshow": {
     "slide_type": "-"
    }
   },
   "outputs": [
    {
     "name": "stdout",
     "output_type": "stream",
     "text": [
      "[1, 3, 5, 7, 9]\n"
     ]
    }
   ],
   "source": [
    "my_list = [i for i in range(10 + 1) if i % 2 == 1]\n",
    "print(my_list)"
   ]
  },
  {
   "cell_type": "markdown",
   "metadata": {
    "slideshow": {
     "slide_type": "subslide"
    }
   },
   "source": [
    "As you can see, the syntax is as follow:\n",
    "\n",
    "`[expression for item in iterable if condition]`\n",
    "\n",
    "You do not need to use it (as we have seen it can always be replaced by a for loop and `append()` calls), but do not hesitate to do so and do not be surprised if you see it!"
   ]
  },
  {
   "cell_type": "markdown",
   "metadata": {
    "slideshow": {
     "slide_type": "slide"
    }
   },
   "source": [
    "### 2.3 Copy\n",
    "\n",
    "When you assign a list to a new variable, Python actually creates a reference (as seen in C++) and not a copy:"
   ]
  },
  {
   "cell_type": "code",
   "execution_count": 23,
   "metadata": {
    "slideshow": {
     "slide_type": "subslide"
    }
   },
   "outputs": [
    {
     "name": "stdout",
     "output_type": "stream",
     "text": [
      "[0, 1, 2, 3, 4, 6, 7, 8, 9]\n"
     ]
    }
   ],
   "source": [
    "my_list = list(range(10))\n",
    "my_list2 = my_list\n",
    "del my_list2[5]\n",
    "print(my_list)"
   ]
  },
  {
   "cell_type": "markdown",
   "metadata": {
    "slideshow": {
     "slide_type": "subslide"
    }
   },
   "source": [
    "This can be particularly problematic when passing a list as a function's parameter, as you generally do not expect this behavior. If what you want is a copy, you need to explicitely request it with `[:]` or `list()`:"
   ]
  },
  {
   "cell_type": "code",
   "execution_count": 24,
   "metadata": {
    "slideshow": {
     "slide_type": "subslide"
    }
   },
   "outputs": [
    {
     "name": "stdout",
     "output_type": "stream",
     "text": [
      "Using [:]\n",
      "[0, 1, 2, 3, 4, 5, 6, 7, 8, 9]\n",
      "Using list()\n",
      "[0, 1, 2, 3, 4, 5, 6, 7, 8, 9]\n"
     ]
    }
   ],
   "source": [
    "print(\"Using [:]\")\n",
    "my_list = list(range(10))\n",
    "my_list2 = my_list[:]\n",
    "del my_list2[5]\n",
    "print(my_list)\n",
    "\n",
    "print(\"Using list()\")\n",
    "my_list = list(range(10))\n",
    "my_list2 = list(my_list)\n",
    "del my_list2[5]\n",
    "print(my_list)"
   ]
  },
  {
   "cell_type": "markdown",
   "metadata": {
    "slideshow": {
     "slide_type": "subslide"
    }
   },
   "source": [
    "Note that this a shallow copy: if a list was an element of a list, it will just copy the reference, not the list. In this case, you can use the `deepcopy()` function found in the module copy"
   ]
  },
  {
   "cell_type": "code",
   "execution_count": 25,
   "metadata": {
    "slideshow": {
     "slide_type": "subslide"
    }
   },
   "outputs": [
    {
     "name": "stdout",
     "output_type": "stream",
     "text": [
      "Using list()\n",
      "[[0, 1], [1, 2], [2, 3]]\n",
      "[[0], [1, 2], [2, 3]]\n",
      "Using deepcopy()\n",
      "[[0, 1], [1, 2], [2, 3]]\n",
      "[[0, 1], [1, 2], [2, 3]]\n"
     ]
    }
   ],
   "source": [
    "print(\"Using list()\")\n",
    "my_list = [[i for i in range(j, j + 2)] for j in range(3)]\n",
    "print(my_list)\n",
    "my_list2 = list(my_list) #Inner lists are references, not copies\n",
    "del my_list2[0][1]\n",
    "print(my_list)\n",
    "\n",
    "print(\"Using deepcopy()\")\n",
    "import copy\n",
    "my_list = [[i for i in range(j, j + 2)] for j in range(3)]\n",
    "print(my_list)\n",
    "my_list2 = copy.deepcopy(my_list) #Inner lists are also copies\n",
    "del my_list2[0][1]\n",
    "print(my_list)"
   ]
  },
  {
   "cell_type": "markdown",
   "metadata": {
    "slideshow": {
     "slide_type": "slide"
    }
   },
   "source": [
    "## 3 Data structures\n",
    "We have already seen one data structure: `list`. Of course, the Python standard library offers other data structures which can be useful in some cases. As of today, there are 4 data structures in the Python standard library:\n",
    "* `list`\n",
    "* `tuples`\n",
    "* `sets`\n",
    "* `dictionaries`"
   ]
  },
  {
   "cell_type": "markdown",
   "metadata": {
    "slideshow": {
     "slide_type": "subslide"
    }
   },
   "source": [
    "### 3.1 Tuples\n",
    "\n",
    "A tuple is a structure which can contain several elements. Just as lists, they are ordered. However, its content cannot be changed (it is said \"immutable\" whereas lists are \"mutable\"). They are declared as follow:"
   ]
  },
  {
   "cell_type": "code",
   "execution_count": 2,
   "metadata": {
    "slideshow": {
     "slide_type": "-"
    }
   },
   "outputs": [],
   "source": [
    "my_tuple = (1, 'a')"
   ]
  },
  {
   "cell_type": "markdown",
   "metadata": {
    "slideshow": {
     "slide_type": "subslide"
    }
   },
   "source": [
    "Note that the parenthesis are totally optional, although most often used:"
   ]
  },
  {
   "cell_type": "code",
   "execution_count": 4,
   "metadata": {
    "slideshow": {
     "slide_type": "-"
    }
   },
   "outputs": [
    {
     "name": "stdout",
     "output_type": "stream",
     "text": [
      "(1, 'a')\n"
     ]
    }
   ],
   "source": [
    "my_tuple = 1, 'a'\n",
    "print(my_tuple)"
   ]
  },
  {
   "cell_type": "markdown",
   "metadata": {
    "slideshow": {
     "slide_type": "subslide"
    }
   },
   "source": [
    "You can also define a single element tuple with the following notation:"
   ]
  },
  {
   "cell_type": "code",
   "execution_count": 5,
   "metadata": {
    "slideshow": {
     "slide_type": "-"
    }
   },
   "outputs": [
    {
     "name": "stdout",
     "output_type": "stream",
     "text": [
      "(42,)\n",
      "42\n"
     ]
    }
   ],
   "source": [
    "single_elt = (42,)\n",
    "not_a_tuple = (42)\n",
    "print(single_elt)\n",
    "print(not_a_tuple)"
   ]
  },
  {
   "cell_type": "markdown",
   "metadata": {
    "slideshow": {
     "slide_type": "subslide"
    }
   },
   "source": [
    "You can obtain the length of the tuple using the `len` built-in and index elements as you were doing on lists:"
   ]
  },
  {
   "cell_type": "code",
   "execution_count": 29,
   "metadata": {
    "slideshow": {
     "slide_type": "-"
    }
   },
   "outputs": [
    {
     "name": "stdout",
     "output_type": "stream",
     "text": [
      "2\n",
      "1\n"
     ]
    }
   ],
   "source": [
    "print(len(my_tuple))\n",
    "print(my_tuple[0])"
   ]
  },
  {
   "cell_type": "markdown",
   "metadata": {
    "slideshow": {
     "slide_type": "subslide"
    }
   },
   "source": [
    "As they are immutable, the following operations will NOT work:"
   ]
  },
  {
   "cell_type": "code",
   "execution_count": 30,
   "metadata": {
    "slideshow": {
     "slide_type": "-"
    }
   },
   "outputs": [
    {
     "ename": "AttributeError",
     "evalue": "'tuple' object has no attribute 'append'",
     "output_type": "error",
     "traceback": [
      "\u001b[0;31m---------------------------------------------------------------------------\u001b[0m",
      "\u001b[0;31mAttributeError\u001b[0m                            Traceback (most recent call last)",
      "\u001b[0;32m<ipython-input-30-aa4d6621742a>\u001b[0m in \u001b[0;36m<module>\u001b[0;34m\u001b[0m\n\u001b[0;32m----> 1\u001b[0;31m \u001b[0mmy_tuple\u001b[0m\u001b[0;34m.\u001b[0m\u001b[0mappend\u001b[0m\u001b[0;34m(\u001b[0m\u001b[0;36m3\u001b[0m\u001b[0;34m)\u001b[0m\u001b[0;34m\u001b[0m\u001b[0;34m\u001b[0m\u001b[0m\n\u001b[0m\u001b[1;32m      2\u001b[0m \u001b[0mmy_tuple\u001b[0m\u001b[0;34m[\u001b[0m\u001b[0;36m0\u001b[0m\u001b[0;34m]\u001b[0m \u001b[0;34m=\u001b[0m \u001b[0;36m2\u001b[0m\u001b[0;34m\u001b[0m\u001b[0;34m\u001b[0m\u001b[0m\n\u001b[1;32m      3\u001b[0m \u001b[0;34m\u001b[0m\u001b[0m\n",
      "\u001b[0;31mAttributeError\u001b[0m: 'tuple' object has no attribute 'append'"
     ]
    }
   ],
   "source": [
    "my_tuple.append(3)\n",
    "my_tuple[0] = 2"
   ]
  },
  {
   "cell_type": "markdown",
   "metadata": {
    "slideshow": {
     "slide_type": "subslide"
    }
   },
   "source": [
    "However, it is of course possible to concatenate two tuples in another one:"
   ]
  },
  {
   "cell_type": "code",
   "execution_count": 31,
   "metadata": {
    "slideshow": {
     "slide_type": "-"
    }
   },
   "outputs": [
    {
     "name": "stdout",
     "output_type": "stream",
     "text": [
      "(1, 'a', 42)\n"
     ]
    }
   ],
   "source": [
    "my_tuple2 = my_tuple + (42,)\n",
    "print(my_tuple2)"
   ]
  },
  {
   "cell_type": "markdown",
   "metadata": {
    "slideshow": {
     "slide_type": "subslide"
    }
   },
   "source": [
    "Therefore, the main use cases of tuples versus lists are:\n",
    "* When the data should not be changed\n",
    "* When the data cannot be changed (we have not seen an example of that yet)\n",
    "* When performance is an issue (although the difference is generally small)"
   ]
  },
  {
   "cell_type": "markdown",
   "metadata": {
    "slideshow": {
     "slide_type": "slide"
    }
   },
   "source": [
    "### 3.2 Sets\n",
    "\n",
    "A set is another container which has the following properties:\n",
    "* each element is unique (a set cannot contain duplicates)\n",
    "* it is unordered\n",
    "* elements in the set are immutable, although the set can be modified.\n",
    "\n",
    "It can be constructed using `{}`:"
   ]
  },
  {
   "cell_type": "code",
   "execution_count": 32,
   "metadata": {
    "slideshow": {
     "slide_type": "-"
    }
   },
   "outputs": [
    {
     "name": "stdout",
     "output_type": "stream",
     "text": [
      "{'a', 1, 3, 42, 'b'}\n"
     ]
    }
   ],
   "source": [
    "my_set = {1, 3, \"a\", 42, \"b\"}\n",
    "print(my_set)"
   ]
  },
  {
   "cell_type": "markdown",
   "metadata": {
    "slideshow": {
     "slide_type": "subslide"
    }
   },
   "source": [
    "or the `set()` built-in:"
   ]
  },
  {
   "cell_type": "code",
   "execution_count": 33,
   "metadata": {
    "slideshow": {
     "slide_type": "-"
    }
   },
   "outputs": [
    {
     "name": "stdout",
     "output_type": "stream",
     "text": [
      "{3, 4}\n"
     ]
    }
   ],
   "source": [
    "my_set2 = set([3, 4])\n",
    "print(my_set2)"
   ]
  },
  {
   "cell_type": "markdown",
   "metadata": {
    "slideshow": {
     "slide_type": "-"
    }
   },
   "source": [
    "Note that `set()` is the only way of creating an empty set. We'll see why in a few slides."
   ]
  },
  {
   "cell_type": "markdown",
   "metadata": {
    "slideshow": {
     "slide_type": "subslide"
    }
   },
   "source": [
    "To add an element to a set, we use the `add(elt)` method:"
   ]
  },
  {
   "cell_type": "code",
   "execution_count": 34,
   "metadata": {
    "slideshow": {
     "slide_type": "-"
    }
   },
   "outputs": [
    {
     "name": "stdout",
     "output_type": "stream",
     "text": [
      "{'a', 1, 3, 21, 42, 'b'}\n"
     ]
    }
   ],
   "source": [
    "my_set.add(21)\n",
    "print(my_set)"
   ]
  },
  {
   "cell_type": "markdown",
   "metadata": {
    "slideshow": {
     "slide_type": "subslide"
    }
   },
   "source": [
    "Note that it was not added \"at the end\" (because there is no notion of order, there is no reason that it would be printed at the end). We said that each element is unique, therefore, if I retype the previous command, no element will be added:"
   ]
  },
  {
   "cell_type": "code",
   "execution_count": 35,
   "metadata": {
    "slideshow": {
     "slide_type": "-"
    }
   },
   "outputs": [
    {
     "name": "stdout",
     "output_type": "stream",
     "text": [
      "{'a', 1, 3, 21, 42, 'b'}\n"
     ]
    }
   ],
   "source": [
    "my_set.add(21)\n",
    "print(my_set)"
   ]
  },
  {
   "cell_type": "markdown",
   "metadata": {
    "slideshow": {
     "slide_type": "subslide"
    }
   },
   "source": [
    "Despite, not having an order, a set is still iterable (though you cannot predict the order):"
   ]
  },
  {
   "cell_type": "code",
   "execution_count": 36,
   "metadata": {
    "slideshow": {
     "slide_type": "-"
    }
   },
   "outputs": [
    {
     "name": "stdout",
     "output_type": "stream",
     "text": [
      "a 1 3 21 42 b "
     ]
    }
   ],
   "source": [
    "for elt in my_set:\n",
    "    print(elt, end = \" \")"
   ]
  },
  {
   "cell_type": "markdown",
   "metadata": {
    "slideshow": {
     "slide_type": "subslide"
    }
   },
   "source": [
    "There are typical set operations:\n",
    "* intersections\n",
    "* unions\n",
    "* complements"
   ]
  },
  {
   "cell_type": "code",
   "execution_count": 37,
   "metadata": {
    "slideshow": {
     "slide_type": "subslide"
    }
   },
   "outputs": [
    {
     "name": "stdout",
     "output_type": "stream",
     "text": [
      "set1 = {3, 4, 5, 6, 7, 8, 9}\n",
      "set2 = {0, 2, 4, 6, 8}\n",
      "Intersection = {8, 4, 6}\n",
      "Union = {0, 2, 3, 4, 5, 6, 7, 8, 9}\n",
      "Symmetric difference = {0, 2, 3, 5, 7, 9}\n",
      "Complement of set2 in set1 = {9, 3, 5, 7}\n"
     ]
    }
   ],
   "source": [
    "set1 = set(range(3,10))\n",
    "set2 = {i for i in range(10) if i % 2 == 0}\n",
    "\n",
    "print(f\"set1 = {set1}\")\n",
    "print(f\"set2 = {set2}\")\n",
    "\n",
    "#Intersection\n",
    "print(f\"Intersection = {set1 & set2}\")\n",
    "#Union\n",
    "print(f\"Union = {set1 | set2}\")\n",
    "#Symmetric difference\n",
    "print(f\"Symmetric difference = {set1 ^ set2}\")\n",
    "#Relative complement of set2 in set1\n",
    "print(f\"Complement of set2 in set1 = {set1 - set2}\")"
   ]
  },
  {
   "cell_type": "markdown",
   "metadata": {
    "slideshow": {
     "slide_type": "slide"
    }
   },
   "source": [
    "### 3.3 Dictionaries\n",
    "A dictionary is another container which has the particularity of not being indexed by a number (which is the case for lists and tuples) but by a key which the user can define. It is also defined using `{}`:"
   ]
  },
  {
   "cell_type": "code",
   "execution_count": 38,
   "metadata": {
    "slideshow": {
     "slide_type": "subslide"
    }
   },
   "outputs": [
    {
     "name": "stdout",
     "output_type": "stream",
     "text": [
      "2021\n",
      "S2\n"
     ]
    }
   ],
   "source": [
    "entry = {\"date\":2021, \"sensor\":\"S2\"}\n",
    "print(entry[\"date\"])\n",
    "print(entry[\"sensor\"])"
   ]
  },
  {
   "cell_type": "markdown",
   "metadata": {
    "slideshow": {
     "slide_type": "-"
    }
   },
   "source": [
    "In this example, we have two keys:\n",
    "* date\n",
    "* sensor\n",
    "with the values:\n",
    "* 2021\n",
    "* \"S2\""
   ]
  },
  {
   "cell_type": "markdown",
   "metadata": {
    "slideshow": {
     "slide_type": "subslide"
    }
   },
   "source": [
    "A key can be any immutable object. Therefore we can have a tuple as a key, but not a list:"
   ]
  },
  {
   "cell_type": "code",
   "execution_count": 39,
   "metadata": {
    "slideshow": {
     "slide_type": "-"
    }
   },
   "outputs": [
    {
     "name": "stdout",
     "output_type": "stream",
     "text": [
      "{(1, 2): 1}\n"
     ]
    },
    {
     "ename": "TypeError",
     "evalue": "unhashable type: 'list'",
     "output_type": "error",
     "traceback": [
      "\u001b[0;31m---------------------------------------------------------------------------\u001b[0m",
      "\u001b[0;31mTypeError\u001b[0m                                 Traceback (most recent call last)",
      "\u001b[0;32m<ipython-input-39-e1069c73a3c1>\u001b[0m in \u001b[0;36m<module>\u001b[0;34m\u001b[0m\n\u001b[1;32m      2\u001b[0m \u001b[0mdummy_dic\u001b[0m\u001b[0;34m[\u001b[0m\u001b[0;34m(\u001b[0m\u001b[0;36m1\u001b[0m\u001b[0;34m,\u001b[0m\u001b[0;36m2\u001b[0m\u001b[0;34m)\u001b[0m\u001b[0;34m]\u001b[0m \u001b[0;34m=\u001b[0m \u001b[0;36m1\u001b[0m\u001b[0;34m\u001b[0m\u001b[0;34m\u001b[0m\u001b[0m\n\u001b[1;32m      3\u001b[0m \u001b[0mprint\u001b[0m\u001b[0;34m(\u001b[0m\u001b[0mdummy_dic\u001b[0m\u001b[0;34m)\u001b[0m\u001b[0;34m\u001b[0m\u001b[0;34m\u001b[0m\u001b[0m\n\u001b[0;32m----> 4\u001b[0;31m \u001b[0mdummy_dic\u001b[0m\u001b[0;34m[\u001b[0m\u001b[0;34m[\u001b[0m\u001b[0;36m1\u001b[0m\u001b[0;34m,\u001b[0m \u001b[0;36m2\u001b[0m\u001b[0;34m]\u001b[0m\u001b[0;34m]\u001b[0m \u001b[0;34m=\u001b[0m \u001b[0;36m1\u001b[0m\u001b[0;34m\u001b[0m\u001b[0;34m\u001b[0m\u001b[0m\n\u001b[0m\u001b[1;32m      5\u001b[0m \u001b[0mprint\u001b[0m\u001b[0;34m(\u001b[0m\u001b[0mdummy_dic\u001b[0m\u001b[0;34m)\u001b[0m\u001b[0;34m\u001b[0m\u001b[0;34m\u001b[0m\u001b[0m\n",
      "\u001b[0;31mTypeError\u001b[0m: unhashable type: 'list'"
     ]
    }
   ],
   "source": [
    "dummy_dic = {}\n",
    "dummy_dic[(1,2)] = 1\n",
    "print(dummy_dic)\n",
    "dummy_dic[[1, 2]] = 1\n",
    "print(dummy_dic)"
   ]
  },
  {
   "cell_type": "markdown",
   "metadata": {
    "slideshow": {
     "slide_type": "subslide"
    }
   },
   "source": [
    "It is possible to add another element to our dictionnary using the following syntax:"
   ]
  },
  {
   "cell_type": "code",
   "execution_count": 40,
   "metadata": {
    "slideshow": {
     "slide_type": "-"
    }
   },
   "outputs": [
    {
     "name": "stdout",
     "output_type": "stream",
     "text": [
      "{'date': 2021, 'sensor': 'S2', 'type': 'optical'}\n"
     ]
    }
   ],
   "source": [
    "entry[\"type\"] = \"optical\"\n",
    "print(entry)"
   ]
  },
  {
   "cell_type": "markdown",
   "metadata": {
    "slideshow": {
     "slide_type": "subslide"
    }
   },
   "source": [
    "You can get the keys used in a dictionnary using the `keys()` method and the values with `values()`:"
   ]
  },
  {
   "cell_type": "code",
   "execution_count": 41,
   "metadata": {
    "slideshow": {
     "slide_type": "-"
    }
   },
   "outputs": [
    {
     "name": "stdout",
     "output_type": "stream",
     "text": [
      "dict_keys(['date', 'sensor', 'type'])\n",
      "dict_values([2021, 'S2', 'optical'])\n"
     ]
    }
   ],
   "source": [
    "print(entry.keys())\n",
    "print(entry.values())"
   ]
  },
  {
   "cell_type": "markdown",
   "metadata": {
    "slideshow": {
     "slide_type": "subslide"
    }
   },
   "source": [
    "To iterate through a dictionnary, you can use the following methods:"
   ]
  },
  {
   "cell_type": "code",
   "execution_count": 42,
   "metadata": {
    "slideshow": {
     "slide_type": "-"
    }
   },
   "outputs": [
    {
     "name": "stdout",
     "output_type": "stream",
     "text": [
      "With keys()\n",
      "date: 2021\n",
      "sensor: S2\n",
      "type: optical\n",
      "\n",
      "With items()\n",
      "date: 2021\n",
      "sensor: S2\n",
      "type: optical\n"
     ]
    }
   ],
   "source": [
    "print(\"With keys()\")\n",
    "for k in entry.keys():\n",
    "    print(f\"{k}: {entry[k]}\")\n",
    "\n",
    "print(\"\\nWith items()\")\n",
    "for k, v in entry.items(): #What type does items return??\n",
    "    print(f\"{k}: {v}\")"
   ]
  },
  {
   "cell_type": "markdown",
   "metadata": {
    "slideshow": {
     "slide_type": "subslide"
    }
   },
   "source": [
    "Finally, note that you can also use comprehension features over dictionnaries:"
   ]
  },
  {
   "cell_type": "code",
   "execution_count": 43,
   "metadata": {
    "slideshow": {
     "slide_type": "-"
    }
   },
   "outputs": [
    {
     "name": "stdout",
     "output_type": "stream",
     "text": [
      "{0: 1, 1: 2, 2: 3, 3: 4, 4: 5}\n"
     ]
    }
   ],
   "source": [
    "plus1 = {x: x+1 for x in range(5)}\n",
    "print(plus1)"
   ]
  },
  {
   "cell_type": "markdown",
   "metadata": {
    "slideshow": {
     "slide_type": "slide"
    }
   },
   "source": [
    "## Conclusion\n",
    "Today we have seen:\n",
    "* Some useful modules\n",
    "* List - Part 2\n",
    "* Data structures\n",
    "\n",
    "Keep in mind that we have only seen a few modules from the standard library, and that there are much more (and several order of magnitude more for modules not in the standard). You will probably have to use some of them in this class, and definitely if you continue using Python.\n",
    "\n",
    "As going through all of them would be impossible in the given duration of this course (and also, boring), you have to refer to Python's documentation."
   ]
  },
  {
   "cell_type": "markdown",
   "metadata": {
    "slideshow": {
     "slide_type": "subslide"
    }
   },
   "source": [
    "As an exercise, try to look back at the class on datastructures and try to have a good grip on which ones are immutable, which ones are oredered, what are the main differences, ..."
   ]
  }
 ],
 "metadata": {
  "celltoolbar": "Slideshow",
  "kernelspec": {
   "display_name": "Python 3 (ipykernel)",
   "language": "python",
   "name": "python3"
  },
  "language_info": {
   "codemirror_mode": {
    "name": "ipython",
    "version": 3
   },
   "file_extension": ".py",
   "mimetype": "text/x-python",
   "name": "python",
   "nbconvert_exporter": "python",
   "pygments_lexer": "ipython3",
   "version": "3.9.7"
  }
 },
 "nbformat": 4,
 "nbformat_minor": 1
}
