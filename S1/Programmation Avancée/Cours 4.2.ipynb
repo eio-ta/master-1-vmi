{
 "cells": [
  {
   "cell_type": "markdown",
   "metadata": {
    "pycharm": {
     "name": "#%%\n"
    },
    "slideshow": {
     "slide_type": "slide"
    }
   },
   "source": [
    "![logo.jpg](data:image/jpeg;base64,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)\n",
    "# Programmation avancÃ©e - Class 4\n",
    "## Sylvain Lobry, 10/10/2022\n",
    "\n",
    "In today's class, we will learn the very basics of Python:\n",
    "* Variables\n",
    "* Built-ins\n",
    "* Conditional statements\n",
    "* Loops\n",
    "\n"
   ]
  },
  {
   "cell_type": "markdown",
   "metadata": {
    "slideshow": {
     "slide_type": "slide"
    }
   },
   "source": [
    "## 1) Variables\n",
    "### 1.1) Intro to variables\n",
    "While you know about variables (at least in C++), it is important to understand that in Python, the variable declaration and initialization are done at the same time. Therefore, this how you would declare a variable in Python:"
   ]
  },
  {
   "cell_type": "code",
   "execution_count": 1,
   "metadata": {
    "slideshow": {
     "slide_type": "-"
    }
   },
   "outputs": [
    {
     "name": "stdout",
     "output_type": "stream",
     "text": [
      "Vive la programmation!\n"
     ]
    }
   ],
   "source": [
    "my_variable = \"Vive la programmation!\" #Declares a variable called my_variable and assigns string literal \"Vive la programmation!\"\n",
    "print(my_variable)"
   ]
  },
  {
   "cell_type": "markdown",
   "metadata": {
    "slideshow": {
     "slide_type": "subslide"
    }
   },
   "source": [
    "As you can see, we declared a variable of type String, but we did not explicitely wrote it. Python understood that the literal `\"Vive la programmation!\"` we assigned to the variable `my_variable` is of type String and that therefore the variable should be of type String. This is called \"dynamic typing\". It is also possible to modify the type of the variable on the fly:"
   ]
  },
  {
   "cell_type": "code",
   "execution_count": 2,
   "metadata": {
    "slideshow": {
     "slide_type": "-"
    }
   },
   "outputs": [
    {
     "name": "stdout",
     "output_type": "stream",
     "text": [
      "42\n"
     ]
    }
   ],
   "source": [
    "my_variable = 42\n",
    "print(my_variable)"
   ]
  },
  {
   "cell_type": "markdown",
   "metadata": {
    "slideshow": {
     "slide_type": "subslide"
    }
   },
   "source": [
    "However, Python is a strongly typed language: each variable has a type. Therefore the following statement does not work:"
   ]
  },
  {
   "cell_type": "code",
   "execution_count": 3,
   "metadata": {
    "scrolled": true
   },
   "outputs": [
    {
     "ename": "TypeError",
     "evalue": "can only concatenate str (not \"int\") to str",
     "output_type": "error",
     "traceback": [
      "\u001b[0;31m---------------------------------------------------------------------------\u001b[0m",
      "\u001b[0;31mTypeError\u001b[0m                                 Traceback (most recent call last)",
      "\u001b[0;32m<ipython-input-3-81f4523740b0>\u001b[0m in \u001b[0;36m<module>\u001b[0;34m\u001b[0m\n\u001b[0;32m----> 1\u001b[0;31m \u001b[0mmy_variable\u001b[0m \u001b[0;34m=\u001b[0m \u001b[0;34m\"String\"\u001b[0m \u001b[0;34m+\u001b[0m \u001b[0;36m42\u001b[0m\u001b[0;34m\u001b[0m\u001b[0;34m\u001b[0m\u001b[0m\n\u001b[0m\u001b[1;32m      2\u001b[0m \u001b[0;34m\u001b[0m\u001b[0m\n",
      "\u001b[0;31mTypeError\u001b[0m: can only concatenate str (not \"int\") to str"
     ]
    }
   ],
   "source": [
    "my_variable = \"String\" + 42"
   ]
  },
  {
   "cell_type": "markdown",
   "metadata": {
    "slideshow": {
     "slide_type": "slide"
    }
   },
   "source": [
    "### 1.2) Types\n",
    "You can check the type of a variable using the type function:"
   ]
  },
  {
   "cell_type": "code",
   "execution_count": 5,
   "metadata": {},
   "outputs": [
    {
     "name": "stdout",
     "output_type": "stream",
     "text": [
      "String\n",
      "<class 'str'>\n",
      "42\n",
      "<class 'int'>\n"
     ]
    }
   ],
   "source": [
    "my_variable = \"String\"\n",
    "print(my_variable)\n",
    "print(type(my_variable))\n",
    "\n",
    "my_variable = 42\n",
    "print(my_variable)\n",
    "print(type(my_variable))"
   ]
  },
  {
   "cell_type": "markdown",
   "metadata": {
    "slideshow": {
     "slide_type": "subslide"
    }
   },
   "source": [
    "The basic types that you need to know about right now are:\n",
    "* int (/!\\ No long)\n",
    "* float (/!\\ No double)\n",
    "* bool\n",
    "* str\n",
    "\n",
    "Here are examples of variables of these types:"
   ]
  },
  {
   "cell_type": "code",
   "execution_count": null,
   "metadata": {},
   "outputs": [],
   "source": [
    "int_var = 3\n",
    "float_var = 3.0\n",
    "bool_var = True\n",
    "str_var = \"A string\""
   ]
  },
  {
   "cell_type": "markdown",
   "metadata": {
    "slideshow": {
     "slide_type": "subslide"
    }
   },
   "source": [
    "However, a variable in python can contain a reference to any object. And in python, everything is an object. Therefore, the following is perfectly correct:"
   ]
  },
  {
   "cell_type": "code",
   "execution_count": 6,
   "metadata": {},
   "outputs": [
    {
     "name": "stdout",
     "output_type": "stream",
     "text": [
      "42\n"
     ]
    }
   ],
   "source": [
    "my_function_var = print\n",
    "my_function_var(42)"
   ]
  },
  {
   "cell_type": "code",
   "execution_count": 7,
   "metadata": {},
   "outputs": [
    {
     "data": {
      "text/plain": [
       "builtin_function_or_method"
      ]
     },
     "execution_count": 7,
     "metadata": {},
     "output_type": "execute_result"
    }
   ],
   "source": [
    "type(my_function_var)"
   ]
  },
  {
   "cell_type": "markdown",
   "metadata": {
    "slideshow": {
     "slide_type": "slide"
    }
   },
   "source": [
    "As a shortcut, you can use scientific notation (which will give you a float):"
   ]
  },
  {
   "cell_type": "code",
   "execution_count": 60,
   "metadata": {},
   "outputs": [
    {
     "name": "stdout",
     "output_type": "stream",
     "text": [
      "4200000.0\n"
     ]
    }
   ],
   "source": [
    "a_million = 42e5\n",
    "print(a_million)"
   ]
  },
  {
   "cell_type": "markdown",
   "metadata": {
    "slideshow": {
     "slide_type": "subslide"
    }
   },
   "source": [
    "and for all the numerical types, you can use `_` as a separator:"
   ]
  },
  {
   "cell_type": "code",
   "execution_count": 10,
   "metadata": {},
   "outputs": [
    {
     "name": "stdout",
     "output_type": "stream",
     "text": [
      "42000000\n"
     ]
    }
   ],
   "source": [
    "a_large_number = 42_000_000\n",
    "print(a_large_number)"
   ]
  },
  {
   "cell_type": "markdown",
   "metadata": {
    "slideshow": {
     "slide_type": "slide"
    }
   },
   "source": [
    "While we have seen that Python is a strongly typed language, it is possible to convert variables using the functions of the name of the type. For instance, all of these are valid conversions:"
   ]
  },
  {
   "cell_type": "code",
   "execution_count": 11,
   "metadata": {
    "slideshow": {
     "slide_type": "-"
    }
   },
   "outputs": [
    {
     "name": "stdout",
     "output_type": "stream",
     "text": [
      "3\n",
      "3.0\n",
      "42\n",
      "False\n",
      "True\n",
      "42\n"
     ]
    }
   ],
   "source": [
    "print(int(3.2))\n",
    "print(float(3))\n",
    "print(int(\"42\"))\n",
    "print(bool(0))\n",
    "print(bool(42))\n",
    "print(str(42))"
   ]
  },
  {
   "cell_type": "markdown",
   "metadata": {
    "slideshow": {
     "slide_type": "subslide"
    }
   },
   "source": [
    "Of course, some conversions do not make sense, as the following:"
   ]
  },
  {
   "cell_type": "code",
   "execution_count": 12,
   "metadata": {},
   "outputs": [
    {
     "ename": "ValueError",
     "evalue": "invalid literal for int() with base 10: 'test'",
     "output_type": "error",
     "traceback": [
      "\u001b[0;31m---------------------------------------------------------------------------\u001b[0m",
      "\u001b[0;31mValueError\u001b[0m                                Traceback (most recent call last)",
      "\u001b[0;32m<ipython-input-12-f6c13c6b9cab>\u001b[0m in \u001b[0;36m<module>\u001b[0;34m\u001b[0m\n\u001b[1;32m      1\u001b[0m \u001b[0;31m#This is wrong, do not do this!!\u001b[0m\u001b[0;34m\u001b[0m\u001b[0;34m\u001b[0m\u001b[0;34m\u001b[0m\u001b[0m\n\u001b[0;32m----> 2\u001b[0;31m \u001b[0mint\u001b[0m\u001b[0;34m(\u001b[0m\u001b[0;34m\"test\"\u001b[0m\u001b[0;34m)\u001b[0m\u001b[0;34m\u001b[0m\u001b[0;34m\u001b[0m\u001b[0m\n\u001b[0m\u001b[1;32m      3\u001b[0m \u001b[0mfloat\u001b[0m\u001b[0;34m(\u001b[0m\u001b[0;34m\"test\"\u001b[0m\u001b[0;34m)\u001b[0m\u001b[0;34m\u001b[0m\u001b[0;34m\u001b[0m\u001b[0m\n",
      "\u001b[0;31mValueError\u001b[0m: invalid literal for int() with base 10: 'test'"
     ]
    }
   ],
   "source": [
    "#This is wrong, do not do this!!\n",
    "int(\"test\")\n",
    "float(\"test\")"
   ]
  },
  {
   "cell_type": "markdown",
   "metadata": {
    "slideshow": {
     "slide_type": "slide"
    }
   },
   "source": [
    "### 1.3) Naming\n",
    "When it comes to naming a variable in python there are a few rules:\n",
    "* You can only use alpha-numeric characters (A-Z, a-z, 0-9) and the underscore ( _ ) character\n",
    "* It cannot start with a number\n",
    "* It is case sensitive\n",
    "\n",
    "Back to wooclap"
   ]
  },
  {
   "cell_type": "code",
   "execution_count": 13,
   "metadata": {
    "slideshow": {
     "slide_type": "subslide"
    }
   },
   "outputs": [],
   "source": [
    "_test = 42"
   ]
  },
  {
   "cell_type": "code",
   "execution_count": 14,
   "metadata": {},
   "outputs": [
    {
     "ename": "SyntaxError",
     "evalue": "invalid syntax (<ipython-input-14-a56b8b941247>, line 1)",
     "output_type": "error",
     "traceback": [
      "\u001b[0;36m  File \u001b[0;32m\"<ipython-input-14-a56b8b941247>\"\u001b[0;36m, line \u001b[0;32m1\u001b[0m\n\u001b[0;31m    A Var = 42\u001b[0m\n\u001b[0m      ^\u001b[0m\n\u001b[0;31mSyntaxError\u001b[0m\u001b[0;31m:\u001b[0m invalid syntax\n"
     ]
    }
   ],
   "source": [
    "A Var = 42"
   ]
  },
  {
   "cell_type": "code",
   "execution_count": 16,
   "metadata": {},
   "outputs": [],
   "source": [
    "Var0 = 42"
   ]
  },
  {
   "cell_type": "code",
   "execution_count": 17,
   "metadata": {},
   "outputs": [
    {
     "ename": "SyntaxError",
     "evalue": "invalid syntax (<ipython-input-17-4765f7a0ec6d>, line 1)",
     "output_type": "error",
     "traceback": [
      "\u001b[0;36m  File \u001b[0;32m\"<ipython-input-17-4765f7a0ec6d>\"\u001b[0;36m, line \u001b[0;32m1\u001b[0m\n\u001b[0;31m    0Var = 42\u001b[0m\n\u001b[0m     ^\u001b[0m\n\u001b[0;31mSyntaxError\u001b[0m\u001b[0;31m:\u001b[0m invalid syntax\n"
     ]
    }
   ],
   "source": [
    "0Var = 42"
   ]
  },
  {
   "cell_type": "code",
   "execution_count": 18,
   "metadata": {
    "slideshow": {
     "slide_type": "subslide"
    }
   },
   "outputs": [],
   "source": [
    "a_VerY_LoNg_____Var = 42"
   ]
  },
  {
   "cell_type": "code",
   "execution_count": 19,
   "metadata": {},
   "outputs": [
    {
     "ename": "SyntaxError",
     "evalue": "unexpected EOF while parsing (<ipython-input-19-36f29479f015>, line 1)",
     "output_type": "error",
     "traceback": [
      "\u001b[0;36m  File \u001b[0;32m\"<ipython-input-19-36f29479f015>\"\u001b[0;36m, line \u001b[0;32m1\u001b[0m\n\u001b[0;31m    a(Var = 42\u001b[0m\n\u001b[0m              ^\u001b[0m\n\u001b[0;31mSyntaxError\u001b[0m\u001b[0;31m:\u001b[0m unexpected EOF while parsing\n"
     ]
    }
   ],
   "source": [
    "a(Var = 42"
   ]
  },
  {
   "cell_type": "code",
   "execution_count": 20,
   "metadata": {},
   "outputs": [],
   "source": [
    "print = 42"
   ]
  },
  {
   "cell_type": "markdown",
   "metadata": {
    "slideshow": {
     "slide_type": "subslide"
    }
   },
   "source": [
    "Oops, we lost print. That is right, nothing forbids you to use one of the language's function as a variable name! However, you should really not do that. Good thing we saved it in another variable earlier:"
   ]
  },
  {
   "cell_type": "code",
   "execution_count": 21,
   "metadata": {},
   "outputs": [
    {
     "ename": "TypeError",
     "evalue": "'int' object is not callable",
     "output_type": "error",
     "traceback": [
      "\u001b[0;31m---------------------------------------------------------------------------\u001b[0m",
      "\u001b[0;31mTypeError\u001b[0m                                 Traceback (most recent call last)",
      "\u001b[0;32m<ipython-input-21-7c38c5aa5fe4>\u001b[0m in \u001b[0;36m<module>\u001b[0;34m\u001b[0m\n\u001b[0;32m----> 1\u001b[0;31m \u001b[0mprint\u001b[0m\u001b[0;34m(\u001b[0m\u001b[0;36m42\u001b[0m\u001b[0;34m)\u001b[0m\u001b[0;34m\u001b[0m\u001b[0;34m\u001b[0m\u001b[0m\n\u001b[0m",
      "\u001b[0;31mTypeError\u001b[0m: 'int' object is not callable"
     ]
    }
   ],
   "source": [
    "print(42)"
   ]
  },
  {
   "cell_type": "code",
   "execution_count": 22,
   "metadata": {
    "slideshow": {
     "slide_type": "subslide"
    }
   },
   "outputs": [
    {
     "name": "stdout",
     "output_type": "stream",
     "text": [
      "42\n"
     ]
    }
   ],
   "source": [
    "print = my_function_var\n",
    "print(42)"
   ]
  },
  {
   "cell_type": "markdown",
   "metadata": {
    "slideshow": {
     "slide_type": "slide"
    }
   },
   "source": [
    "### 1.4) Numerical operations\n",
    "The `+`, `-` and `*` operators are behaving as you expect:"
   ]
  },
  {
   "cell_type": "code",
   "execution_count": 23,
   "metadata": {},
   "outputs": [
    {
     "name": "stdout",
     "output_type": "stream",
     "text": [
      "5\n",
      "10.9\n",
      "6.0\n"
     ]
    }
   ],
   "source": [
    "print(3 + 2)\n",
    "print(12 - 1.1)\n",
    "print(4 * 1.5)"
   ]
  },
  {
   "cell_type": "markdown",
   "metadata": {
    "slideshow": {
     "slide_type": "subslide"
    }
   },
   "source": [
    "To divide two numbers, you can use `/` which will do a float division:"
   ]
  },
  {
   "cell_type": "code",
   "execution_count": 24,
   "metadata": {},
   "outputs": [
    {
     "data": {
      "text/plain": [
       "2.0"
      ]
     },
     "execution_count": 24,
     "metadata": {},
     "output_type": "execute_result"
    }
   ],
   "source": [
    "4 / 2"
   ]
  },
  {
   "cell_type": "markdown",
   "metadata": {
    "slideshow": {
     "slide_type": "subslide"
    }
   },
   "source": [
    "You can also do an euclidian division using `//` (and the modulo operator `%`)"
   ]
  },
  {
   "cell_type": "code",
   "execution_count": 25,
   "metadata": {},
   "outputs": [
    {
     "name": "stdout",
     "output_type": "stream",
     "text": [
      "2\n",
      "1\n"
     ]
    }
   ],
   "source": [
    "print(5//2)\n",
    "print(5%2)"
   ]
  },
  {
   "cell_type": "markdown",
   "metadata": {
    "slideshow": {
     "slide_type": "subslide"
    }
   },
   "source": [
    "The exponentiation operator is `**`"
   ]
  },
  {
   "cell_type": "code",
   "execution_count": 26,
   "metadata": {},
   "outputs": [
    {
     "data": {
      "text/plain": [
       "9"
      ]
     },
     "execution_count": 26,
     "metadata": {},
     "output_type": "execute_result"
    }
   ],
   "source": [
    "3**2"
   ]
  },
  {
   "cell_type": "markdown",
   "metadata": {
    "slideshow": {
     "slide_type": "subslide"
    }
   },
   "source": [
    "Finally, you have the usual single operand versions"
   ]
  },
  {
   "cell_type": "code",
   "execution_count": 27,
   "metadata": {},
   "outputs": [
    {
     "name": "stdout",
     "output_type": "stream",
     "text": [
      "21\n",
      "42\n",
      "21.0\n"
     ]
    }
   ],
   "source": [
    "a = 42\n",
    "a -= 21\n",
    "print(a)\n",
    "a += 21\n",
    "print(a)\n",
    "a /= 2\n",
    "print(a)"
   ]
  },
  {
   "cell_type": "markdown",
   "metadata": {
    "slideshow": {
     "slide_type": "slide"
    }
   },
   "source": [
    "### 1.5) Operations on strings\n",
    "Operators `+` and `*` are defined on strings. Here are some examples:"
   ]
  },
  {
   "cell_type": "code",
   "execution_count": 28,
   "metadata": {},
   "outputs": [
    {
     "name": "stdout",
     "output_type": "stream",
     "text": [
      "AB\n",
      "AAA\n"
     ]
    }
   ],
   "source": [
    "print(\"A\" + \"B\") #Concatenation\n",
    "print(\"A\" * 3) #Duplcation"
   ]
  },
  {
   "cell_type": "markdown",
   "metadata": {},
   "source": [
    "Guess the outputs.."
   ]
  },
  {
   "cell_type": "code",
   "execution_count": null,
   "metadata": {
    "slideshow": {
     "slide_type": "-"
    }
   },
   "outputs": [],
   "source": [
    "print(\"ABC\" * 3) #1"
   ]
  },
  {
   "cell_type": "code",
   "execution_count": 1,
   "metadata": {},
   "outputs": [
    {
     "ename": "TypeError",
     "evalue": "can't multiply sequence by non-int of type 'float'",
     "output_type": "error",
     "traceback": [
      "\u001b[0;31m---------------------------------------------------------------------------\u001b[0m",
      "\u001b[0;31mTypeError\u001b[0m                                 Traceback (most recent call last)",
      "Cell \u001b[0;32mIn[1], line 1\u001b[0m\n\u001b[0;32m----> 1\u001b[0m \u001b[38;5;28mprint\u001b[39m(\u001b[38;5;124;43m\"\u001b[39;49m\u001b[38;5;124;43mABC\u001b[39;49m\u001b[38;5;124;43m\"\u001b[39;49m\u001b[43m \u001b[49m\u001b[38;5;241;43m*\u001b[39;49m\u001b[43m \u001b[49m\u001b[38;5;241;43m1.2\u001b[39;49m) \u001b[38;5;66;03m#2\u001b[39;00m\n",
      "\u001b[0;31mTypeError\u001b[0m: can't multiply sequence by non-int of type 'float'"
     ]
    }
   ],
   "source": [
    "print(\"ABC\" * 1.2) #2"
   ]
  },
  {
   "cell_type": "code",
   "execution_count": 2,
   "metadata": {},
   "outputs": [
    {
     "name": "stdout",
     "output_type": "stream",
     "text": [
      "ViveLa\n"
     ]
    }
   ],
   "source": [
    "print(\"Vive\" + \"La\") #3"
   ]
  },
  {
   "cell_type": "code",
   "execution_count": 3,
   "metadata": {},
   "outputs": [
    {
     "ename": "TypeError",
     "evalue": "can't multiply sequence by non-int of type 'float'",
     "output_type": "error",
     "traceback": [
      "\u001b[0;31m---------------------------------------------------------------------------\u001b[0m",
      "\u001b[0;31mTypeError\u001b[0m                                 Traceback (most recent call last)",
      "Cell \u001b[0;32mIn[3], line 1\u001b[0m\n\u001b[0;32m----> 1\u001b[0m \u001b[38;5;28mprint\u001b[39m(\u001b[38;5;124;43m\"\u001b[39;49m\u001b[38;5;124;43mABC\u001b[39;49m\u001b[38;5;124;43m\"\u001b[39;49m\u001b[43m \u001b[49m\u001b[38;5;241;43m*\u001b[39;49m\u001b[43m \u001b[49m\u001b[38;5;241;43m2.0\u001b[39;49m) \u001b[38;5;66;03m#4\u001b[39;00m\n",
      "\u001b[0;31mTypeError\u001b[0m: can't multiply sequence by non-int of type 'float'"
     ]
    }
   ],
   "source": [
    "print(\"ABC\" * 2.0) #4"
   ]
  },
  {
   "cell_type": "code",
   "execution_count": 4,
   "metadata": {},
   "outputs": [
    {
     "name": "stdout",
     "output_type": "stream",
     "text": [
      "ABCABCABCABCABCABCABCABCABC\n"
     ]
    }
   ],
   "source": [
    "print(\"ABC\" * int(3.2)**2) #5"
   ]
  },
  {
   "cell_type": "markdown",
   "metadata": {
    "slideshow": {
     "slide_type": "slide"
    }
   },
   "source": [
    "## 2) Built-ins\n",
    "Python defines built-in functions and types as part of the language. Have we seen some of them?\n",
    "\n",
    "In this class, we will not see all of them. For a complete reference, you can look at the official documentation.\n",
    "\n",
    "### 2.1) Print\n",
    "We already have seen the print function. If you looked closely, you will have seen that it prints the argument (which does not have to be a string!) and a new line. Let's verify it:"
   ]
  },
  {
   "cell_type": "code",
   "execution_count": 29,
   "metadata": {},
   "outputs": [
    {
     "name": "stdout",
     "output_type": "stream",
     "text": [
      "1\n",
      "2\n"
     ]
    }
   ],
   "source": [
    "print(1)\n",
    "print(2)"
   ]
  },
  {
   "cell_type": "markdown",
   "metadata": {
    "slideshow": {
     "slide_type": "subslide"
    }
   },
   "source": [
    "It is possible to change this by passing a second, named argument: `end`. The value of end will be what is printed after the first argument of print:"
   ]
  },
  {
   "cell_type": "code",
   "execution_count": 30,
   "metadata": {},
   "outputs": [
    {
     "name": "stdout",
     "output_type": "stream",
     "text": [
      "12\n"
     ]
    }
   ],
   "source": [
    "print(1, end=\"\")\n",
    "print(2)"
   ]
  },
  {
   "cell_type": "code",
   "execution_count": 31,
   "metadata": {},
   "outputs": [
    {
     "name": "stdout",
     "output_type": "stream",
     "text": [
      "Pourquoi pas"
     ]
    }
   ],
   "source": [
    "print(\"Pourquoi\", end=\" pas\")"
   ]
  },
  {
   "cell_type": "markdown",
   "metadata": {
    "slideshow": {
     "slide_type": "subslide"
    }
   },
   "source": [
    "You can also have several arguments:"
   ]
  },
  {
   "cell_type": "code",
   "execution_count": 32,
   "metadata": {},
   "outputs": [
    {
     "name": "stdout",
     "output_type": "stream",
     "text": [
      "Pourquoi pas 42\n"
     ]
    }
   ],
   "source": [
    "print(\"Pourquoi\", \"pas\", 42)"
   ]
  },
  {
   "cell_type": "markdown",
   "metadata": {
    "slideshow": {
     "slide_type": "subslide"
    }
   },
   "source": [
    "These are automatically separated by a space. This default behavior can be modified using the named argument sep"
   ]
  },
  {
   "cell_type": "code",
   "execution_count": 33,
   "metadata": {},
   "outputs": [
    {
     "name": "stdout",
     "output_type": "stream",
     "text": [
      "Pourquoi\n",
      "pas\n",
      "42\n"
     ]
    }
   ],
   "source": [
    "print(\"Pourquoi\", \"pas\", 42, sep=\"\\n\")"
   ]
  },
  {
   "cell_type": "markdown",
   "metadata": {
    "slideshow": {
     "slide_type": "subslide"
    }
   },
   "source": [
    "It is possible to format the output using the format method. To do so, you need to indicate in a string where to print the variables using `{}`:"
   ]
  },
  {
   "cell_type": "code",
   "execution_count": 34,
   "metadata": {},
   "outputs": [
    {
     "name": "stdout",
     "output_type": "stream",
     "text": [
      "Bonjour les M1\n"
     ]
    }
   ],
   "source": [
    "print(\"Bonjour les M{}\".format(1))"
   ]
  },
  {
   "cell_type": "markdown",
   "metadata": {
    "slideshow": {
     "slide_type": "subslide"
    }
   },
   "source": [
    "Using this method, it is possible to nicely format some outputs. The most widely use of that is to set the number of decimals for a float:"
   ]
  },
  {
   "cell_type": "code",
   "execution_count": 35,
   "metadata": {},
   "outputs": [
    {
     "name": "stdout",
     "output_type": "stream",
     "text": [
      "0.3333333333333333\n",
      "0.33\n"
     ]
    }
   ],
   "source": [
    "a_number = 1/3\n",
    "print(a_number)\n",
    "print(\"{:.2f}\".format(a_number))"
   ]
  },
  {
   "cell_type": "markdown",
   "metadata": {},
   "source": [
    "Here, `:` indicates that we are going to specify the format, `.2` is the desired precision (2 decimals) and `f` indicates that we ant to output a fixed point number.\n",
    "\n",
    "Furthermore, there is another method to format the output: in this one, you start the string literal with the character `f` (for format), and you can directly put variables in accolades:"
   ]
  },
  {
   "cell_type": "code",
   "execution_count": 37,
   "metadata": {
    "slideshow": {
     "slide_type": "subslide"
    }
   },
   "outputs": [
    {
     "name": "stdout",
     "output_type": "stream",
     "text": [
      "Bonjour les M1\n"
     ]
    }
   ],
   "source": [
    "a = 1\n",
    "print(f\"Bonjour les M{a}\")"
   ]
  },
  {
   "cell_type": "markdown",
   "metadata": {
    "slideshow": {
     "slide_type": "subslide"
    }
   },
   "source": [
    "Finally, do not forget about type conversion and concatenation:"
   ]
  },
  {
   "cell_type": "code",
   "execution_count": 38,
   "metadata": {},
   "outputs": [
    {
     "name": "stdout",
     "output_type": "stream",
     "text": [
      "Bonjour les M1\n"
     ]
    }
   ],
   "source": [
    "print(\"Bonjour les M\" + str(1))"
   ]
  },
  {
   "cell_type": "markdown",
   "metadata": {
    "slideshow": {
     "slide_type": "slide"
    }
   },
   "source": [
    "### 2.2) Other built-in functions\n",
    "In addition to the built-in function we have already seen (print, type, int, float, bool, str), there are a few other ones that would be useful to know right now:\n",
    "\n",
    "* `min` and `max`:"
   ]
  },
  {
   "cell_type": "code",
   "execution_count": 39,
   "metadata": {},
   "outputs": [
    {
     "name": "stdout",
     "output_type": "stream",
     "text": [
      "3\n",
      "4.2\n"
     ]
    }
   ],
   "source": [
    "print(min(3, 4.2))\n",
    "print(max(3, 4.2))"
   ]
  },
  {
   "cell_type": "markdown",
   "metadata": {
    "slideshow": {
     "slide_type": "subslide"
    }
   },
   "source": [
    "* `abs`:"
   ]
  },
  {
   "cell_type": "code",
   "execution_count": 40,
   "metadata": {},
   "outputs": [
    {
     "name": "stdout",
     "output_type": "stream",
     "text": [
      "3\n"
     ]
    }
   ],
   "source": [
    "print(abs(-3))"
   ]
  },
  {
   "cell_type": "markdown",
   "metadata": {
    "slideshow": {
     "slide_type": "subslide"
    }
   },
   "source": [
    "* `chr` (which will give the unicode representation of an integer)\n",
    "* `ord` (which give the integer representing an unicode character)"
   ]
  },
  {
   "cell_type": "code",
   "execution_count": 41,
   "metadata": {},
   "outputs": [
    {
     "name": "stdout",
     "output_type": "stream",
     "text": [
      "â‚¬\n",
      "8364\n"
     ]
    }
   ],
   "source": [
    "print(chr(8364))\n",
    "print(ord(\"â‚¬\"))"
   ]
  },
  {
   "cell_type": "markdown",
   "metadata": {
    "slideshow": {
     "slide_type": "slide"
    }
   },
   "source": [
    "## 3) Conditional statements\n",
    "### 3.1) Comparison operators\n",
    "To compare two values, python defines the following operators:\n",
    "* `==` : Equal\n",
    "* `!=` : Not equal\n",
    "* `<` : Less than\n",
    "* `<=` : Less than or equal to\n",
    "* `>` : Greater than\n",
    "* `>=` : Greater than or equal to\n",
    "\n",
    "Each of these operator will return a boolean (True or False) depending on whether the condition is met:"
   ]
  },
  {
   "cell_type": "code",
   "execution_count": 42,
   "metadata": {
    "slideshow": {
     "slide_type": "subslide"
    }
   },
   "outputs": [
    {
     "name": "stdout",
     "output_type": "stream",
     "text": [
      "Statement == : 1 == 2 = False, 1 == 1 = True\n",
      "Statement != : 1 != 2 = True, 1 != 1 = False\n",
      "Statement < : 1 < 2 = True, 1 < 1 = False\n",
      "Statement <= : 1 <= 2 = True, 1 < 1 = True\n",
      "Statement > : 1 > 2 = False, 1 > 1 = False\n",
      "Statement >= : 1 >= 2 = False, 1 > 1 = True\n"
     ]
    }
   ],
   "source": [
    "print(f\"Statement == : 1 == 2 = {1 == 2}, 1 == 1 = {1 == 1}\")\n",
    "print(f\"Statement != : 1 != 2 = {1 != 2}, 1 != 1 = {1 != 1}\")\n",
    "print(f\"Statement < : 1 < 2 = {1 < 2}, 1 < 1 = {1 < 1}\")\n",
    "print(f\"Statement <= : 1 <= 2 = {1 <= 2}, 1 < 1 = {1 <= 1}\")\n",
    "print(f\"Statement > : 1 > 2 = {1 > 2}, 1 > 1 = {1 > 1}\")\n",
    "print(f\"Statement >= : 1 >= 2 = {1 >= 2}, 1 > 1 = {1 >= 1}\")"
   ]
  },
  {
   "cell_type": "markdown",
   "metadata": {
    "slideshow": {
     "slide_type": "subslide"
    }
   },
   "source": [
    "In python, you can also compare strings using the same operators. It will then make the comparison character by character:"
   ]
  },
  {
   "cell_type": "code",
   "execution_count": 43,
   "metadata": {},
   "outputs": [
    {
     "name": "stdout",
     "output_type": "stream",
     "text": [
      "True\n",
      "True\n",
      "True\n"
     ]
    }
   ],
   "source": [
    "print(\"aa\" == \"aa\")\n",
    "print(\"aa\" < \"ab\")\n",
    "print(\"aac\" < \"ab\")"
   ]
  },
  {
   "cell_type": "markdown",
   "metadata": {
    "slideshow": {
     "slide_type": "slide"
    }
   },
   "source": [
    "### 3.2) Logical operators\n",
    "In Python, you can chain comparison using `and` and `or` keywords. To negate a statement, you need to use `not`: "
   ]
  },
  {
   "cell_type": "code",
   "execution_count": 44,
   "metadata": {},
   "outputs": [
    {
     "name": "stdout",
     "output_type": "stream",
     "text": [
      "False\n",
      "True\n",
      "False\n"
     ]
    }
   ],
   "source": [
    "print(True and False)\n",
    "print(3 > 2 or 1 != 1)\n",
    "print(not True)"
   ]
  },
  {
   "cell_type": "markdown",
   "metadata": {
    "slideshow": {
     "slide_type": "slide"
    }
   },
   "source": [
    "### 3.3) Tests\n",
    "Python uses the traditional if structure for conditional statements. However, this is the first time we will encouter blocks in Python. Blocks are here defined not with `{}` as you might have seen in other languages, but indentation.\n",
    "\n",
    "You can use spaces or tabs for the indentation. However, you need to be consistent.\n",
    "\n",
    "The condition should follow the if statement (`()` are not mandatory) and followed by `:`. Similarly, the else statement should be followed by `:`. Here is an example:"
   ]
  },
  {
   "cell_type": "code",
   "execution_count": 45,
   "metadata": {},
   "outputs": [
    {
     "name": "stdout",
     "output_type": "stream",
     "text": [
      "2 is less than 3\n"
     ]
    }
   ],
   "source": [
    "if (2 < 3):\n",
    "    print(\"2 is less than 3\")\n",
    "else:\n",
    "    if 2 == 3:\n",
    "        print(\"2 is equal to 3\")\n",
    "    else:\n",
    "        print(\"2 is more than 3\")"
   ]
  },
  {
   "cell_type": "markdown",
   "metadata": {
    "slideshow": {
     "slide_type": "subslide"
    }
   },
   "source": [
    "When there are a lot of possibilities, only using if/else makes it quite hard to read. In these cases, you can use the instruction elif."
   ]
  },
  {
   "cell_type": "code",
   "execution_count": 46,
   "metadata": {},
   "outputs": [
    {
     "name": "stdout",
     "output_type": "stream",
     "text": [
      "2 is more than 3\n"
     ]
    }
   ],
   "source": [
    "if 3 < 2:\n",
    "    print(\"2 is less than 3\")\n",
    "elif 3 == 2:\n",
    "    print(\"2 is equal to 3\")\n",
    "else:\n",
    "    print(\"2 is more than 3\")"
   ]
  },
  {
   "cell_type": "markdown",
   "metadata": {
    "slideshow": {
     "slide_type": "slide"
    }
   },
   "source": [
    "## 4) Lists and loops\n",
    "### 4.1) Basics of lists\n",
    "Lists are the most basic data structure provided by Python. In many respects, they are similar to arrays that you know.\n",
    "\n",
    "To define it, we use `[]` and `,` to separate elements:"
   ]
  },
  {
   "cell_type": "code",
   "execution_count": 47,
   "metadata": {},
   "outputs": [
    {
     "name": "stdout",
     "output_type": "stream",
     "text": [
      "[1, 2, 3]\n"
     ]
    }
   ],
   "source": [
    "test = [1, 2, 3]\n",
    "print(test)"
   ]
  },
  {
   "cell_type": "markdown",
   "metadata": {
    "slideshow": {
     "slide_type": "subslide"
    }
   },
   "source": [
    "However, a key difference with the majority of languages is that they allow for different types of elements in a single list. For instance, the following is valid:"
   ]
  },
  {
   "cell_type": "code",
   "execution_count": 48,
   "metadata": {},
   "outputs": [
    {
     "name": "stdout",
     "output_type": "stream",
     "text": [
      "[1, 'a', 'abc', 42.0]\n"
     ]
    }
   ],
   "source": [
    "test = [1, 'a', \"abc\", 42.0]\n",
    "print(test)"
   ]
  },
  {
   "cell_type": "markdown",
   "metadata": {
    "slideshow": {
     "slide_type": "subslide"
    }
   },
   "source": [
    "Since you can put any type of element and a list is a type of element... You can make lists of lists:"
   ]
  },
  {
   "cell_type": "code",
   "execution_count": 49,
   "metadata": {},
   "outputs": [
    {
     "name": "stdout",
     "output_type": "stream",
     "text": [
      "[1, 'a', 'abc', 42.0, [1, 2, 3], <built-in function print>]\n"
     ]
    }
   ],
   "source": [
    "test = [1, 'a', \"abc\", 42.0, [1,2,3], print]\n",
    "print(test)"
   ]
  },
  {
   "cell_type": "markdown",
   "metadata": {
    "slideshow": {
     "slide_type": "subslide"
    }
   },
   "source": [
    "To index an element, you use the operator `[]`. As in C, indices start at 0. Note that it is also possible to access an element counting from the end of the list by using a negative number:"
   ]
  },
  {
   "cell_type": "code",
   "execution_count": 50,
   "metadata": {},
   "outputs": [
    {
     "name": "stdout",
     "output_type": "stream",
     "text": [
      "1\n",
      "<built-in function print>\n",
      "[1, 2, 3]\n"
     ]
    }
   ],
   "source": [
    "print(test[0])\n",
    "print(test[-1])\n",
    "print(test[-2])"
   ]
  },
  {
   "cell_type": "markdown",
   "metadata": {
    "slideshow": {
     "slide_type": "subslide"
    }
   },
   "source": [
    "It is also possible to slice a list using the `:` operator. The syntax is then `list_name[a:b]` and it will return the list with elements from a (included) to b (excluded):"
   ]
  },
  {
   "cell_type": "code",
   "execution_count": 51,
   "metadata": {},
   "outputs": [
    {
     "data": {
      "text/plain": [
       "['a', 'abc']"
      ]
     },
     "execution_count": 51,
     "metadata": {},
     "output_type": "execute_result"
    }
   ],
   "source": [
    "test[1:3]"
   ]
  },
  {
   "cell_type": "markdown",
   "metadata": {
    "slideshow": {
     "slide_type": "subslide"
    }
   },
   "source": [
    "Several lists can be concatenated using the `+` operator. It can be duplicated using the `*` operator. Finally, to add a single element to the list, you need to use the method `append()`"
   ]
  },
  {
   "cell_type": "code",
   "execution_count": 52,
   "metadata": {},
   "outputs": [
    {
     "name": "stdout",
     "output_type": "stream",
     "text": [
      "[1, 'a', 'abc', 42.0, [1, 2, 3], <built-in function print>, 1, 2]\n",
      "[1, 'a', 'abc', 42.0, [1, 2, 3], <built-in function print>, 1, 2, 1, 'a', 'abc', 42.0, [1, 2, 3], <built-in function print>, 1, 2]\n",
      "[1, 'a', 'abc', 42.0, [1, 2, 3], <built-in function print>, 1, 2, 1, 'a', 'abc', 42.0, [1, 2, 3], <built-in function print>, 1, 2, 'new elt']\n"
     ]
    }
   ],
   "source": [
    "test = test + [1, 2]\n",
    "print(test)\n",
    "test = test * 2\n",
    "print(test)\n",
    "test.append(\"new elt\")\n",
    "print(test)"
   ]
  },
  {
   "cell_type": "markdown",
   "metadata": {
    "slideshow": {
     "slide_type": "slide"
    }
   },
   "source": [
    "### 4.2) New built-ins\n",
    "As said before, lists are an important element of Python. Therefore, there are several built-ins that apply to it. Let's go over two four built-ins.\n",
    "\n",
    "The first one is the `len()` function:"
   ]
  },
  {
   "cell_type": "code",
   "execution_count": 53,
   "metadata": {},
   "outputs": [
    {
     "data": {
      "text/plain": [
       "17"
      ]
     },
     "execution_count": 53,
     "metadata": {},
     "output_type": "execute_result"
    }
   ],
   "source": [
    "len(test)"
   ]
  },
  {
   "cell_type": "markdown",
   "metadata": {
    "slideshow": {
     "slide_type": "subslide"
    }
   },
   "source": [
    "`range` is a built-in which will define a range of numbers. It takes, in the general case, two arguments:\n",
    "* the starting number (included)\n",
    "* the finishing number (excluded)\n",
    "It can also be used with only one argument. In this case, it is the finishing number and the starting number defaults to `0`.\n",
    "\n",
    "For now, we are going to use it in conjunction with another built-in: `list`. If you give a range as an argument to this function, it will return the corresponding list: "
   ]
  },
  {
   "cell_type": "code",
   "execution_count": 54,
   "metadata": {},
   "outputs": [
    {
     "name": "stdout",
     "output_type": "stream",
     "text": [
      "[0, 1, 2, 3, 4]\n",
      "[2, 3, 4, 5]\n"
     ]
    }
   ],
   "source": [
    "print(list(range(5)))\n",
    "print(list(range(2, 6)))"
   ]
  },
  {
   "cell_type": "markdown",
   "metadata": {
    "slideshow": {
     "slide_type": "subslide"
    }
   },
   "source": [
    "Another building which applies to list is `sum`. Note that you can also use the built-ins `min` and `max`:"
   ]
  },
  {
   "cell_type": "code",
   "execution_count": 55,
   "metadata": {},
   "outputs": [
    {
     "name": "stdout",
     "output_type": "stream",
     "text": [
      "[0, 1, 2, 3, 4]\n",
      "10\n",
      "0\n",
      "4\n"
     ]
    }
   ],
   "source": [
    "test = list(range(5))\n",
    "print(test)\n",
    "print(sum(test))\n",
    "print(min(test))\n",
    "print(max(test))"
   ]
  },
  {
   "cell_type": "markdown",
   "metadata": {
    "slideshow": {
     "slide_type": "slide"
    }
   },
   "source": [
    "### 4.3) For loop\n",
    "The syntax for `for` loops in Python is slightly different from most languages. It will iterate on an iterable object. So far, we have seen two of those: lists and ranges. Here is an example with both:"
   ]
  },
  {
   "cell_type": "code",
   "execution_count": 56,
   "metadata": {},
   "outputs": [
    {
     "name": "stdout",
     "output_type": "stream",
     "text": [
      "One\n",
      "Two\n",
      "Three\n",
      "0\n",
      "1\n",
      "2\n"
     ]
    }
   ],
   "source": [
    "list_to_iter = [\"One\", \"Two\", \"Three\"]\n",
    "for string in list_to_iter:\n",
    "    print(string)\n",
    "    \n",
    "for number in range(3):\n",
    "    print(number)\n"
   ]
  },
  {
   "cell_type": "markdown",
   "metadata": {
    "slideshow": {
     "slide_type": "slide"
    }
   },
   "source": [
    "### 4.4) While loop\n",
    "Another loop available in Python is the `while` loop. Its construction is very classical:"
   ]
  },
  {
   "cell_type": "code",
   "execution_count": 57,
   "metadata": {},
   "outputs": [
    {
     "name": "stdout",
     "output_type": "stream",
     "text": [
      "0\n",
      "1\n",
      "2\n"
     ]
    }
   ],
   "source": [
    "number = 0\n",
    "while number < 3:\n",
    "    print(number)\n",
    "    number += 1"
   ]
  },
  {
   "cell_type": "markdown",
   "metadata": {
    "slideshow": {
     "slide_type": "slide"
    }
   },
   "source": [
    "### 4.5) `break` and `continue` statements\n",
    "It is possible to control the flow of a loop with `break` and `continue` statements. While these statements can be useful, they should (and could) be avoided in most cases."
   ]
  },
  {
   "cell_type": "code",
   "execution_count": 58,
   "metadata": {},
   "outputs": [
    {
     "name": "stdout",
     "output_type": "stream",
     "text": [
      "1\n",
      "2\n"
     ]
    }
   ],
   "source": [
    "test = [1, 2, \"a\", 3]\n",
    "\n",
    "for i in test:\n",
    "    if type(i) != int:\n",
    "        break\n",
    "    print(i)"
   ]
  },
  {
   "cell_type": "code",
   "execution_count": 59,
   "metadata": {},
   "outputs": [
    {
     "name": "stdout",
     "output_type": "stream",
     "text": [
      "1\n",
      "2\n",
      "3\n"
     ]
    }
   ],
   "source": [
    "for i in test:\n",
    "    if type(i) != int:\n",
    "        continue\n",
    "    print(i)"
   ]
  },
  {
   "cell_type": "markdown",
   "metadata": {},
   "source": [
    "# Questions?"
   ]
  }
 ],
 "metadata": {
  "celltoolbar": "Slideshow",
  "kernelspec": {
   "display_name": "Python 3 (ipykernel)",
   "language": "python",
   "name": "python3"
  },
  "language_info": {
   "codemirror_mode": {
    "name": "ipython",
    "version": 3
   },
   "file_extension": ".py",
   "mimetype": "text/x-python",
   "name": "python",
   "nbconvert_exporter": "python",
   "pygments_lexer": "ipython3",
   "version": "3.9.7"
  }
 },
 "nbformat": 4,
 "nbformat_minor": 1
}
