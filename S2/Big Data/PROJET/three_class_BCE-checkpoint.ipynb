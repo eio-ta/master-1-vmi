{
 "cells": [
  {
   "cell_type": "code",
   "execution_count": null,
   "metadata": {
    "collapsed": true
   },
   "outputs": [],
   "source": [
    "import numpy as np\n",
    "import pandas as pd\n",
    "import matplotlib.pyplot as plt\n",
    "from time import sleep\n",
    "import os\n",
    "import pywt\n",
    "import warnings\n",
    "warnings.filterwarnings(\"ignore\", category=np.VisibleDeprecationWarning) \n",
    "%matplotlib notebook"
   ]
  },
  {
   "cell_type": "code",
   "execution_count": null,
   "metadata": {},
   "outputs": [],
   "source": [
    "bigA = pd.read_csv(\"./data/dataset_A.csv\")\n",
    "bigD = pd.read_csv(\"./data/dataset_D.csv\")\n",
    "bigE = pd.read_csv(\"./data/dataset_E.csv\")\n",
    "\n",
    "head = bigA.columns.values\n",
    "\n",
    "col_d = {}\n",
    "col_e = {}\n",
    "\n",
    "for i in range(len(head)):\n",
    "    col_d[bigD.columns.values[i]] = head[i]\n",
    "    col_e[bigE.columns.values[i]] = head[i]\n",
    "\n",
    "bigD = bigD.rename(columns=col_d)\n",
    "bigE = bigE.rename(columns=col_e)\n",
    "\n",
    "\n",
    "bigE"
   ]
  },
  {
   "cell_type": "code",
   "execution_count": null,
   "metadata": {},
   "outputs": [],
   "source": [
    "len(bigA.columns)\n"
   ]
  },
  {
   "cell_type": "code",
   "execution_count": null,
   "metadata": {
    "collapsed": true
   },
   "outputs": [],
   "source": [
    "def creat_mat(mat):\n",
    "    matx = np.zeros((len(mat),(len(head))))\n",
    "    for i in range(len(head)):\n",
    "        matx[:,i] = mat[head[i]]\n",
    "        sleep(0.01)\n",
    "    return matx"
   ]
  },
  {
   "cell_type": "code",
   "execution_count": null,
   "metadata": {
    "collapsed": true
   },
   "outputs": [],
   "source": [
    "matA = creat_mat(bigA) # : refers to healthy data\n",
    "matD = creat_mat(bigD) # : refers to Inter-ictal (transition between healthy to seizure)\n",
    "matE = creat_mat(bigE) # : of ictal or seizures\n",
    "\n",
    "matA = np.nan_to_num(matA) # matB[:,0] --- > channel 0, matB[:,1] --- > channel 1 like that\n",
    "matD = np.nan_to_num(matD)\n",
    "matE = np.nan_to_num(matE)\n",
    "\n",
    "\n",
    "# 4097 data point per channel \n",
    "# 173.61 Hz sample rate and there are 4097 data point for each channel\n",
    "# total 100 channel are their\n",
    "# 4097/173.61 = 23.59 sec \n",
    "# the raw data from one of the channels for the 23.59 sec"
   ]
  },
  {
   "cell_type": "code",
   "execution_count": null,
   "metadata": {
    "collapsed": true
   },
   "outputs": [],
   "source": [
    "feature_size = 4\n",
    "columns_name = list()\n",
    "for i in range(feature_size):\n",
    "    columns_name = columns_name + ['f'+str(i+1)]\n",
    "columns_name = columns_name + ['class']"
   ]
  },
  {
   "cell_type": "code",
   "execution_count": null,
   "metadata": {
    "collapsed": true
   },
   "outputs": [],
   "source": [
    "def features(mat):\n",
    "    Kmax = 5\n",
    "    Tau  = 4\n",
    "    DE   = 10\n",
    "    M    = 10\n",
    "    R    = 0.3\n",
    "    Band = np.arange(1,86)\n",
    "    Fs   = 173\n",
    "    lis = list()\n",
    "    lis = lis + [np.std(pywt.wavedec(mat,'db4',level=8)[0])]\n",
    "    lis = lis + [np.std(pywt.wavedec(mat,'db4',level=8)[4])]\n",
    "    lis = lis + [np.std(pywt.wavedec(mat,'db4',level=8)[5])]\n",
    "    lis = lis + [np.std(pywt.wavedec(mat,'db4',level=8)[6])]\n",
    "    sleep(0.01)\n",
    "             \n",
    "    return lis"
   ]
  },
  {
   "cell_type": "code",
   "execution_count": null,
   "metadata": {
    "collapsed": true
   },
   "outputs": [],
   "source": [
    "MftA = np.zeros((100,feature_size + 1))\n",
    "\n",
    "for i in range(100):\n",
    "    MftA[i,:] = features(matA[:,i]) + [1]"
   ]
  },
  {
   "cell_type": "code",
   "execution_count": null,
   "metadata": {
    "collapsed": true
   },
   "outputs": [],
   "source": [
    "MftD = np.zeros((100,feature_size + 1))\n",
    "\n",
    "for i in range(100):\n",
    "    MftD[i,:] = features(matD[:,i]) + [0]"
   ]
  },
  {
   "cell_type": "code",
   "execution_count": null,
   "metadata": {
    "collapsed": true
   },
   "outputs": [],
   "source": [
    "MftE = np.zeros((100,feature_size + 1))\n",
    "\n",
    "for i in range(100):\n",
    "    MftE[i,:] = features(matE[:,i]) + [-1]"
   ]
  },
  {
   "cell_type": "code",
   "execution_count": null,
   "metadata": {
    "collapsed": true
   },
   "outputs": [],
   "source": [
    "FCM_A = pd.DataFrame(MftA,columns=columns_name)\n",
    "FCM_D = pd.DataFrame(MftD,columns=columns_name)\n",
    "FCM_E = pd.DataFrame(MftE,columns=columns_name)\n",
    "\n",
    "FCM_A.shape\n",
    "FCM_A.head(5)"
   ]
  },
  {
   "cell_type": "code",
   "execution_count": null,
   "metadata": {
    "collapsed": true
   },
   "outputs": [],
   "source": [
    "TotalDataset = pd.concat([FCM_A,FCM_D,FCM_E],ignore_index=True)"
   ]
  },
  {
   "cell_type": "code",
   "execution_count": null,
   "metadata": {
    "collapsed": true
   },
   "outputs": [],
   "source": [
    "from sklearn.model_selection import train_test_split"
   ]
  },
  {
   "cell_type": "code",
   "execution_count": null,
   "metadata": {
    "collapsed": true
   },
   "outputs": [],
   "source": [
    "X = TotalDataset[columns_name[:-1]]\n",
    "y = TotalDataset[['class']]\n",
    "X = np.asarray(X)\n",
    "y = np.asarray(y)"
   ]
  },
  {
   "cell_type": "code",
   "execution_count": null,
   "metadata": {
    "collapsed": true
   },
   "outputs": [],
   "source": [
    "X_train, X_test, y_train, y_test = train_test_split(X, y, test_size=0.43, random_state=42)"
   ]
  },
  {
   "cell_type": "code",
   "execution_count": null,
   "metadata": {
    "collapsed": true
   },
   "outputs": [],
   "source": [
    "from sklearn.model_selection import train_test_split\n",
    "from sklearn.preprocessing import StandardScaler\n",
    "from sklearn.datasets import make_moons, make_circles, make_classification\n",
    "from sklearn.neural_network import MLPClassifier\n",
    "from sklearn.neighbors import KNeighborsClassifier\n",
    "from sklearn.svm import SVC\n",
    "from sklearn.gaussian_process import GaussianProcessClassifier\n",
    "from sklearn.gaussian_process.kernels import RBF\n",
    "from sklearn.tree import DecisionTreeClassifier\n",
    "from sklearn.ensemble import RandomForestClassifier, AdaBoostClassifier\n",
    "from sklearn.naive_bayes import GaussianNB\n",
    "from sklearn.discriminant_analysis import QuadraticDiscriminantAnalysis"
   ]
  },
  {
   "cell_type": "code",
   "execution_count": null,
   "metadata": {
    "collapsed": true
   },
   "outputs": [],
   "source": [
    "names = [\"Nearest Neighbors\", \"Linear SVM\", \"Gaussian Process\",\n",
    "         \"Decision Tree\", \"Random Forest\", \"AdaBoost\",\n",
    "         \"Naive Bayes\"]"
   ]
  },
  {
   "cell_type": "code",
   "execution_count": null,
   "metadata": {
    "collapsed": true
   },
   "outputs": [],
   "source": [
    "classifiers = [\n",
    "    KNeighborsClassifier(3),\n",
    "    SVC(kernel=\"linear\", C=0.025),\n",
    "    GaussianProcessClassifier(1.0 * RBF(1.0), warm_start=True),\n",
    "    DecisionTreeClassifier(max_depth=5),\n",
    "    RandomForestClassifier(max_depth=5, n_estimators=10, max_features=1),\n",
    "    AdaBoostClassifier(),\n",
    "    GaussianNB()]"
   ]
  },
  {
   "cell_type": "code",
   "execution_count": null,
   "metadata": {
    "collapsed": true
   },
   "outputs": [],
   "source": [
    "clf_score=[]\n",
    "with warnings.catch_warnings():\n",
    "    warnings.simplefilter(\"ignore\")\n",
    "    for name, clf in zip(names, classifiers):\n",
    "        clf.fit(X_train, y_train)\n",
    "        score = clf.score(X_test, y_test)\n",
    "        clf_score.append([score,name])"
   ]
  },
  {
   "cell_type": "code",
   "execution_count": null,
   "metadata": {},
   "outputs": [],
   "source": [
    "clf_score"
   ]
  }
 ],
 "metadata": {
  "kernelspec": {
   "display_name": "Python 3.9.13 ('base')",
   "language": "python",
   "name": "python3"
  },
  "language_info": {
   "codemirror_mode": {
    "name": "ipython",
    "version": 3
   },
   "file_extension": ".py",
   "mimetype": "text/x-python",
   "name": "python",
   "nbconvert_exporter": "python",
   "pygments_lexer": "ipython3",
   "version": "3.9.13"
  },
  "vscode": {
   "interpreter": {
    "hash": "516856d4d9676a382bc311318cb67cb52ec374e1936cbc13c92ea884792a6ea4"
   }
  }
 },
 "nbformat": 4,
 "nbformat_minor": 2
}
