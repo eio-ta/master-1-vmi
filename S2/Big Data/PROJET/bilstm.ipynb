{
  "cells": [
    {
      "cell_type": "markdown",
      "metadata": {
        "colab_type": "text",
        "id": "view-in-github"
      },
      "source": [
        "<a href=\"https://colab.research.google.com/github/mamuncseru/analysis_on_epileptic_seizure_bonn_dataset/blob/main/Epileptic_Seizure_Prediction_using_EEG_bonn_data_with_BiLSTM.ipynb\" target=\"_parent\"><img src=\"https://colab.research.google.com/assets/colab-badge.svg\" alt=\"Open In Colab\"/></a>"
      ]
    },
    {
      "cell_type": "markdown",
      "metadata": {
        "id": "xTXKW2AFGWS5"
      },
      "source": [
        "## Import libraries"
      ]
    },
    {
      "cell_type": "code",
      "execution_count": null,
      "metadata": {
        "id": "Fddr3ZGBGjiq"
      },
      "outputs": [],
      "source": [
        "import sys\n",
        "import os\n",
        "\n",
        "import numpy as np\n",
        "import pandas as pd\n",
        "import matplotlib.pyplot as plt\n",
        "\n",
        "from sklearn.metrics import confusion_matrix\n",
        "\n",
        "from tqdm import tqdm\n",
        "\n",
        "import torch\n",
        "import torch.nn as nn\n",
        "import torch.nn.functional as F\n",
        "from torch.autograd import Variable\n",
        "import torch.utils.data as Data\n",
        "from torch.optim import Adam, SGD\n",
        "\n",
        "import keras\n",
        "from keras.layers import Dense, Convolution1D, MaxPool1D, Flatten, Dropout\n",
        "from keras.layers import Input, LSTM\n",
        "from keras.layers import BatchNormalization\n",
        "from keras.models import Model\n",
        "from keras.callbacks import EarlyStopping, ModelCheckpoint\n",
        "\n",
        "\n",
        "# from tensorflow import keras\n",
        "from tensorflow.keras import layers\n",
        "\n",
        "from time import time\n",
        "\n",
        "start_time = time()\n"
      ]
    },
    {
      "cell_type": "markdown",
      "metadata": {
        "id": "InzZU6XeIPbk"
      },
      "source": [
        "## Reading Data"
      ]
    },
    {
      "cell_type": "code",
      "execution_count": null,
      "metadata": {},
      "outputs": [],
      "source": [
        "bigA = pd.read_csv(\"./data/dataset_A.csv\").values\n",
        "bigA = pd.DataFrame(bigA.transpose())\n",
        "bigB = pd.read_csv(\"./data/dataset_B.csv\").values\n",
        "bigB = pd.DataFrame(bigB.transpose())\n",
        "bigC = pd.read_csv(\"./data/dataset_C.csv\").values\n",
        "bigC = pd.DataFrame(bigC.transpose())\n",
        "bigD = pd.read_csv(\"./data/dataset_D.csv\").values\n",
        "bigD = pd.DataFrame(bigD.transpose())\n",
        "bigE = pd.read_csv(\"./data/dataset_E.csv\").values\n",
        "bigE = pd.DataFrame(bigE.transpose())\n",
        "\n",
        "bigA['label'] = [0] * len(bigA)\n",
        "bigB['label'] = [0] * len(bigB)\n",
        "bigC['label'] = [1] * len(bigC)\n",
        "bigD['label'] = [1] * len(bigD)\n",
        "bigE['label'] = [1] * len(bigE)\n",
        "\n",
        "\n",
        "bigA"
      ]
    },
    {
      "cell_type": "markdown",
      "metadata": {
        "id": "IBm8psg-JB5j"
      },
      "source": [
        "## Classifying data categories"
      ]
    },
    {
      "cell_type": "markdown",
      "metadata": {
        "id": "haXIsac3JtuG"
      },
      "source": [
        "## Experiment 1: Comparing CNN and BiLSTM on Epilepsy versus Healthy Data Categories"
      ]
    },
    {
      "cell_type": "code",
      "execution_count": null,
      "metadata": {
        "id": "uFzung9oK2B_"
      },
      "outputs": [],
      "source": [
        "D1 = np.concatenate([bigA, bigD, bigE])"
      ]
    },
    {
      "cell_type": "code",
      "execution_count": null,
      "metadata": {
        "colab": {
          "base_uri": "https://localhost:8080/"
        },
        "id": "srCAEY1PM8Ux",
        "outputId": "34e6f546-c21f-46b8-ee60-713c504ec07f"
      },
      "outputs": [],
      "source": [
        "D1.shape"
      ]
    },
    {
      "cell_type": "markdown",
      "metadata": {
        "id": "qzmNVKQMMqOv"
      },
      "source": [
        "### Creating training (80), validation(10) and test(10) data from category 1 and 3\n"
      ]
    },
    {
      "cell_type": "code",
      "execution_count": null,
      "metadata": {
        "colab": {
          "base_uri": "https://localhost:8080/"
        },
        "id": "Ko_q7hjdLDYM",
        "outputId": "03fb1ab3-a682-46c3-bdb5-d40d7448c5c1"
      },
      "outputs": [],
      "source": [
        "number_of_rows = D1.shape[0]\n",
        "\n",
        "random_indices = np.random.choice(number_of_rows, size=int(number_of_rows*0.8), replace=False)\n",
        "\n",
        "label_train = D1[random_indices, -1]\n",
        "data_train = D1[random_indices, :-1]\n",
        "\n",
        "D1_rest = np.delete(D1, random_indices, 0)\n",
        "\n",
        "number_of_rows = D1_rest.shape[0]\n",
        "random_indices = np.random.choice(number_of_rows, size=int(number_of_rows*0.5), replace=False)\n",
        "\n",
        "label_val = D1_rest[random_indices, -1]\n",
        "data_val = D1_rest[random_indices, :-1]\n",
        "\n",
        "D1_rest_rest = np.delete(D1_rest, random_indices, 0)\n",
        "\n",
        "label_test = D1_rest_rest[:, -1]\n",
        "data_test = D1_rest_rest[:, :-1]\n",
        "\n",
        "data_train = np.expand_dims(data_train, axis=2)\n",
        "data_val = np.expand_dims(data_val, axis=2)\n",
        "data_test = np.expand_dims(data_test, axis=2)\n",
        "\n",
        "print(\"train: \", data_train.shape)\n",
        "print(\"validation: \", data_val.shape)\n",
        "print(\"test: \", data_test.shape)"
      ]
    },
    {
      "cell_type": "markdown",
      "metadata": {
        "id": "gLqFn0g7NCag"
      },
      "source": [
        "### Define model evaluation function"
      ]
    },
    {
      "cell_type": "code",
      "execution_count": null,
      "metadata": {
        "id": "fRW74qx7MtiO"
      },
      "outputs": [],
      "source": [
        "def evaluate_model(history, X_test, y_test, model):\n",
        "  scores = model.evaluate((X_test), y_test, verbose=0)\n",
        "  print(\"Accuracy: %.2f%%\" % (scores[1]*100))\n",
        "\n",
        "  print(history)\n",
        "  fig1, ax_acc = plt.subplots()\n",
        "  plt.plot(history.history['accuracy'])\n",
        "  plt.plot(history.history['val_accuracy'])\n",
        "  plt.xlabel('Epoch')\n",
        "  plt.ylabel('Accuracy')\n",
        "  plt.title('Model - Accuracy')\n",
        "  plt.legend(['Training', 'Validation'], loc='lower right')\n",
        "  plt.show()\n",
        "\n",
        "  fig2, ax_loss = plt.subplots()\n",
        "  plt.xlabel('Epoch')\n",
        "  plt.ylabel('Loss')\n",
        "  plt.title('Model - Loss')\n",
        "  plt.legend(['Training', 'Validation'], loc='upper right')\n",
        "  plt.plot(history.history['loss'])\n",
        "  plt.plot(history.history['val_loss'])\n",
        "  plt.show()\n",
        "  target_names = ['1', '2', '3']\n",
        "\n",
        "  y_true = []\n",
        "  for element in y_test:\n",
        "    y_true.append(np.argmax(element))\n",
        "\n",
        "  prediction_proba = model.predict(X_test)\n",
        "  prediction = np.argmax(prediction_proba, axis=1)\n",
        "  cnf_matrix = confusion_matrix(y_true, prediction)"
      ]
    },
    {
      "cell_type": "markdown",
      "metadata": {
        "id": "x-UU-n1EVniK"
      },
      "source": [
        "## Defining Bidirectional LSTM model"
      ]
    },
    {
      "cell_type": "code",
      "execution_count": null,
      "metadata": {
        "id": "Qs9yBJE-SIuC"
      },
      "outputs": [],
      "source": [
        "def network_LSTM(X_train, y_train):\n",
        "  im_shape = (X_train.shape[1], 1)\n",
        "  inputs_lstm = Input(shape=(im_shape), name='inputs_lstm')\n",
        "\n",
        "  dense = Dense(units=32, activation='relu', name='dense')(inputs_lstm)\n",
        "  lstm = layers.Bidirectional(LSTM(units=128, name='lstm'))(dense)\n",
        "  dropout = Dropout(0.3)(lstm)\n",
        "  batch_normalization = BatchNormalization(name='batch_normalization')(dropout)\n",
        "\n",
        "  dense_1 = Dense(units=64, activation='relu', name='dsn_')(batch_normalization)\n",
        "  dropout_2 = Dropout(0.3, name='drpt')(dense_1)\n",
        "  batch_normalization_1 = BatchNormalization(name='batch_normalization_1')(dropout_2)\n",
        "  main_output = Dense(units=2, activation='softmax')(batch_normalization_1)\n",
        "\n",
        "  model = Model(inputs=inputs_lstm, outputs=main_output)\n",
        "  model.compile(optimizer='adam', loss='sparse_categorical_crossentropy', metrics=['accuracy'])\n",
        "\n",
        "  return model\n",
        "\n",
        "  "
      ]
    },
    {
      "cell_type": "code",
      "execution_count": null,
      "metadata": {
        "colab": {
          "base_uri": "https://localhost:8080/"
        },
        "id": "vOW4SJHPXftu",
        "outputId": "f65043a5-6931-490a-d33a-ad24e43bcfd0"
      },
      "outputs": [],
      "source": [
        "model2 = network_LSTM(data_train, label_train)\n",
        "print(model2.summary())"
      ]
    },
    {
      "cell_type": "code",
      "execution_count": null,
      "metadata": {
        "colab": {
          "base_uri": "https://localhost:8080/"
        },
        "id": "C0Df52-BXnqg",
        "outputId": "a8cbf8fd-65f3-4be5-a6a9-1b00fa04ad47"
      },
      "outputs": [],
      "source": [
        "# Train BiLSTM on epileptic vs healthy data\n",
        "save_path = 'checkpoint_2'\n",
        "model_checkpoint_callback = keras.callbacks.ModelCheckpoint(\n",
        "    filepath=save_path,\n",
        "    save_weight_only=True,\n",
        "    monitor='val_accuracy',\n",
        "    mode='max',\n",
        "    save_best_only=True,\n",
        ")\n",
        "\n",
        "history2 = model2.fit(data_train, label_train, epochs=100, batch_size=32, validation_data=(data_val, label_val), callbacks=[model_checkpoint_callback])\n",
        "\n",
        "end_time = time()\n",
        "\n",
        "elapsed_time = end_time - start_time\n",
        "\n",
        "print(f\"Elapsed time: {elapsed_time} seconds\")"
      ]
    },
    {
      "cell_type": "code",
      "execution_count": null,
      "metadata": {
        "colab": {
          "base_uri": "https://localhost:8080/",
          "height": 979
        },
        "id": "KakFWCK4YUNJ",
        "outputId": "6c7c6180-56ed-441e-8df3-a3e7eb4b563a"
      },
      "outputs": [],
      "source": [
        "evaluate_model(history2, data_test, label_test, model2)"
      ]
    },
    {
      "cell_type": "code",
      "execution_count": null,
      "metadata": {},
      "outputs": [],
      "source": [
        "model2.save(\"model.h5\")\n",
        "# tf.saved_model.save(model, \"saved_model\")"
      ]
    }
  ],
  "metadata": {
    "accelerator": "GPU",
    "colab": {
      "authorship_tag": "ABX9TyPAymA5SPvQ52dlCynm7K12",
      "include_colab_link": true,
      "provenance": []
    },
    "gpuClass": "standard",
    "kernelspec": {
      "display_name": "Python 3.9.13 ('base')",
      "language": "python",
      "name": "python3"
    },
    "language_info": {
      "codemirror_mode": {
        "name": "ipython",
        "version": 3
      },
      "file_extension": ".py",
      "mimetype": "text/x-python",
      "name": "python",
      "nbconvert_exporter": "python",
      "pygments_lexer": "ipython3",
      "version": "3.9.13"
    },
    "vscode": {
      "interpreter": {
        "hash": "516856d4d9676a382bc311318cb67cb52ec374e1936cbc13c92ea884792a6ea4"
      }
    }
  },
  "nbformat": 4,
  "nbformat_minor": 0
}
